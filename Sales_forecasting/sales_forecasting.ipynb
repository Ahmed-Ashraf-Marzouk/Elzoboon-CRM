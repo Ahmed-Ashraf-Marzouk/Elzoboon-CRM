{
 "cells": [
  {
   "cell_type": "code",
   "execution_count": 152,
   "metadata": {},
   "outputs": [],
   "source": [
    "                                            #---- Data warehousing ----#\n",
    "#                                                 ----------------\n",
    "#-----\n",
    "import pandas as pd \n",
    "import numpy as np \n",
    "import seaborn as sns  \n",
    "import matplotlib.pyplot as plt\n",
    "from scipy import stats\n",
    "from sklearn.metrics import mean_squared_error\n",
    "from sklearn.model_selection import train_test_split\n",
    "from sklearn.metrics import make_scorer\n",
    "from sklearn.model_selection import cross_val_predict\n",
    "from sklearn.model_selection import RandomizedSearchCV  \n",
    "from sklearn.model_selection import GridSearchCV\n",
    "import xgboost as xgb\n",
    "\n",
    "                                         #---- Machine learning ----#\n",
    "\n",
    "# Algorithm #1\n",
    "from sklearn.linear_model import LinearRegression \n",
    "# Algorithm #2\n",
    "from sklearn.linear_model import Ridge\n",
    "# Algorithm #3\n",
    "from sklearn.linear_model import Lasso\n",
    "# Algorithm #4\n",
    "from sklearn.ensemble import RandomForestRegressor  \n",
    "# Algorithm #5\n",
    "from sklearn.ensemble import GradientBoostingRegressor \n",
    "# Algorithm #6\n",
    "import xgboost as xgb \n",
    "\n",
    "# -----------------------------------------------------------------------------------------------------------------------\n",
    "import warnings\n",
    "warnings.filterwarnings('ignore')                 \n",
    "# draw matplotlib graphs inline \n",
    "%matplotlib inline\n",
    "sns.set_style(\"whitegrid\") # configuration for seaborn library"
   ]
  },
  {
   "attachments": {},
   "cell_type": "markdown",
   "metadata": {},
   "source": [
    "# Data preprocessing🧹"
   ]
  },
  {
   "cell_type": "code",
   "execution_count": 153,
   "metadata": {},
   "outputs": [],
   "source": [
    "orders = pd.read_excel('../Data/ex_retail2_cleaned_data.xlsx', index_col=False )"
   ]
  },
  {
   "cell_type": "code",
   "execution_count": 154,
   "metadata": {},
   "outputs": [
    {
     "data": {
      "text/html": [
       "<div>\n",
       "<style scoped>\n",
       "    .dataframe tbody tr th:only-of-type {\n",
       "        vertical-align: middle;\n",
       "    }\n",
       "\n",
       "    .dataframe tbody tr th {\n",
       "        vertical-align: top;\n",
       "    }\n",
       "\n",
       "    .dataframe thead th {\n",
       "        text-align: right;\n",
       "    }\n",
       "</style>\n",
       "<table border=\"1\" class=\"dataframe\">\n",
       "  <thead>\n",
       "    <tr style=\"text-align: right;\">\n",
       "      <th></th>\n",
       "      <th>Unnamed: 0.1</th>\n",
       "      <th>Unnamed: 0</th>\n",
       "      <th>InvoiceNo</th>\n",
       "      <th>StockCode</th>\n",
       "      <th>Description</th>\n",
       "      <th>Quantity</th>\n",
       "      <th>InvoiceDate</th>\n",
       "      <th>UnitPrice</th>\n",
       "      <th>CustomerID</th>\n",
       "      <th>Country</th>\n",
       "      <th>TotalPrice</th>\n",
       "    </tr>\n",
       "  </thead>\n",
       "  <tbody>\n",
       "    <tr>\n",
       "      <th>0</th>\n",
       "      <td>0</td>\n",
       "      <td>0</td>\n",
       "      <td>489434</td>\n",
       "      <td>85048</td>\n",
       "      <td>15cm christmas glass ball 20 lights</td>\n",
       "      <td>12</td>\n",
       "      <td>2009-12-01 07:45:00</td>\n",
       "      <td>6.95</td>\n",
       "      <td>13085.0</td>\n",
       "      <td>United Kingdom</td>\n",
       "      <td>83.4</td>\n",
       "    </tr>\n",
       "    <tr>\n",
       "      <th>1</th>\n",
       "      <td>1</td>\n",
       "      <td>1</td>\n",
       "      <td>489434</td>\n",
       "      <td>79323P</td>\n",
       "      <td>pink cherry lights</td>\n",
       "      <td>12</td>\n",
       "      <td>2009-12-01 07:45:00</td>\n",
       "      <td>6.75</td>\n",
       "      <td>13085.0</td>\n",
       "      <td>United Kingdom</td>\n",
       "      <td>81.0</td>\n",
       "    </tr>\n",
       "    <tr>\n",
       "      <th>2</th>\n",
       "      <td>2</td>\n",
       "      <td>2</td>\n",
       "      <td>489434</td>\n",
       "      <td>79323W</td>\n",
       "      <td>white cherry lights</td>\n",
       "      <td>12</td>\n",
       "      <td>2009-12-01 07:45:00</td>\n",
       "      <td>6.75</td>\n",
       "      <td>13085.0</td>\n",
       "      <td>United Kingdom</td>\n",
       "      <td>81.0</td>\n",
       "    </tr>\n",
       "    <tr>\n",
       "      <th>3</th>\n",
       "      <td>3</td>\n",
       "      <td>3</td>\n",
       "      <td>489434</td>\n",
       "      <td>22041</td>\n",
       "      <td>record frame 7\" single size</td>\n",
       "      <td>48</td>\n",
       "      <td>2009-12-01 07:45:00</td>\n",
       "      <td>2.10</td>\n",
       "      <td>13085.0</td>\n",
       "      <td>United Kingdom</td>\n",
       "      <td>100.8</td>\n",
       "    </tr>\n",
       "    <tr>\n",
       "      <th>4</th>\n",
       "      <td>4</td>\n",
       "      <td>4</td>\n",
       "      <td>489434</td>\n",
       "      <td>21232</td>\n",
       "      <td>strawberry ceramic trinket box</td>\n",
       "      <td>24</td>\n",
       "      <td>2009-12-01 07:45:00</td>\n",
       "      <td>1.25</td>\n",
       "      <td>13085.0</td>\n",
       "      <td>United Kingdom</td>\n",
       "      <td>30.0</td>\n",
       "    </tr>\n",
       "  </tbody>\n",
       "</table>\n",
       "</div>"
      ],
      "text/plain": [
       "   Unnamed: 0.1  Unnamed: 0  InvoiceNo StockCode  \\\n",
       "0             0           0     489434     85048   \n",
       "1             1           1     489434    79323P   \n",
       "2             2           2     489434    79323W   \n",
       "3             3           3     489434     22041   \n",
       "4             4           4     489434     21232   \n",
       "\n",
       "                           Description  Quantity         InvoiceDate  \\\n",
       "0  15cm christmas glass ball 20 lights        12 2009-12-01 07:45:00   \n",
       "1                   pink cherry lights        12 2009-12-01 07:45:00   \n",
       "2                  white cherry lights        12 2009-12-01 07:45:00   \n",
       "3          record frame 7\" single size        48 2009-12-01 07:45:00   \n",
       "4       strawberry ceramic trinket box        24 2009-12-01 07:45:00   \n",
       "\n",
       "   UnitPrice  CustomerID         Country  TotalPrice  \n",
       "0       6.95     13085.0  United Kingdom        83.4  \n",
       "1       6.75     13085.0  United Kingdom        81.0  \n",
       "2       6.75     13085.0  United Kingdom        81.0  \n",
       "3       2.10     13085.0  United Kingdom       100.8  \n",
       "4       1.25     13085.0  United Kingdom        30.0  "
      ]
     },
     "execution_count": 154,
     "metadata": {},
     "output_type": "execute_result"
    }
   ],
   "source": [
    "orders.head()"
   ]
  },
  {
   "cell_type": "code",
   "execution_count": 155,
   "metadata": {},
   "outputs": [
    {
     "name": "stdout",
     "output_type": "stream",
     "text": [
      "<class 'pandas.core.frame.DataFrame'>\n",
      "RangeIndex: 1037173 entries, 0 to 1037172\n",
      "Data columns (total 11 columns):\n",
      " #   Column        Non-Null Count    Dtype         \n",
      "---  ------        --------------    -----         \n",
      " 0   Unnamed: 0.1  1037173 non-null  int64         \n",
      " 1   Unnamed: 0    1037173 non-null  int64         \n",
      " 2   InvoiceNo     1037173 non-null  int64         \n",
      " 3   StockCode     1037173 non-null  object        \n",
      " 4   Description   1037173 non-null  object        \n",
      " 5   Quantity      1037173 non-null  int64         \n",
      " 6   InvoiceDate   1037173 non-null  datetime64[ns]\n",
      " 7   UnitPrice     1037173 non-null  float64       \n",
      " 8   CustomerID    801565 non-null   float64       \n",
      " 9   Country       1037173 non-null  object        \n",
      " 10  TotalPrice    1037173 non-null  float64       \n",
      "dtypes: datetime64[ns](1), float64(3), int64(4), object(3)\n",
      "memory usage: 87.0+ MB\n"
     ]
    }
   ],
   "source": [
    "orders.info()"
   ]
  },
  {
   "cell_type": "code",
   "execution_count": 156,
   "metadata": {},
   "outputs": [
    {
     "data": {
      "text/plain": [
       "Unnamed: 0.1         0\n",
       "Unnamed: 0           0\n",
       "InvoiceNo            0\n",
       "StockCode            0\n",
       "Description          0\n",
       "Quantity             0\n",
       "InvoiceDate          0\n",
       "UnitPrice            0\n",
       "CustomerID      235608\n",
       "Country              0\n",
       "TotalPrice           0\n",
       "dtype: int64"
      ]
     },
     "execution_count": 156,
     "metadata": {},
     "output_type": "execute_result"
    }
   ],
   "source": [
    "orders.isnull().sum() #number of null values in the dataset"
   ]
  },
  {
   "cell_type": "code",
   "execution_count": 157,
   "metadata": {},
   "outputs": [],
   "source": [
    "temp = orders"
   ]
  },
  {
   "cell_type": "code",
   "execution_count": 158,
   "metadata": {},
   "outputs": [],
   "source": [
    "# Convert InvoiceDate to datetime object\n",
    "orders.InvoiceDate = pd.to_datetime(orders.InvoiceDate)\n",
    "\n",
    "# Truncate the minutes part of datetime object\n",
    "orders['InvoiceDate'] = orders.InvoiceDate.dt.date"
   ]
  },
  {
   "cell_type": "code",
   "execution_count": 160,
   "metadata": {},
   "outputs": [],
   "source": [
    "# Confirm all cancelled orders have negative TotalPrice and Quantity\n",
    "orders['TotalPrice'] = orders['UnitPrice'] * orders['Quantity']"
   ]
  },
  {
   "cell_type": "code",
   "execution_count": 162,
   "metadata": {},
   "outputs": [],
   "source": [
    "orders.drop(['Unnamed: 0', 'Unnamed: 1', 'InvoiceNo', 'CustomerID', 'Country', 'Description', 'UnitPrice'],\n",
    "            axis=1,inplace=True)"
   ]
  },
  {
   "cell_type": "code",
   "execution_count": 163,
   "metadata": {},
   "outputs": [],
   "source": [
    "tem = orders"
   ]
  },
  {
   "cell_type": "code",
   "execution_count": 164,
   "metadata": {},
   "outputs": [],
   "source": [
    "# orders = temp"
   ]
  },
  {
   "cell_type": "code",
   "execution_count": 165,
   "metadata": {},
   "outputs": [
    {
     "data": {
      "text/html": [
       "<div>\n",
       "<style scoped>\n",
       "    .dataframe tbody tr th:only-of-type {\n",
       "        vertical-align: middle;\n",
       "    }\n",
       "\n",
       "    .dataframe tbody tr th {\n",
       "        vertical-align: top;\n",
       "    }\n",
       "\n",
       "    .dataframe thead th {\n",
       "        text-align: right;\n",
       "    }\n",
       "</style>\n",
       "<table border=\"1\" class=\"dataframe\">\n",
       "  <thead>\n",
       "    <tr style=\"text-align: right;\">\n",
       "      <th></th>\n",
       "      <th>Unnamed: 0.1</th>\n",
       "      <th>StockCode</th>\n",
       "      <th>Quantity</th>\n",
       "      <th>InvoiceDate</th>\n",
       "      <th>TotalPrice</th>\n",
       "    </tr>\n",
       "  </thead>\n",
       "  <tbody>\n",
       "    <tr>\n",
       "      <th>0</th>\n",
       "      <td>0</td>\n",
       "      <td>85048</td>\n",
       "      <td>12</td>\n",
       "      <td>2009-12-01</td>\n",
       "      <td>83.4</td>\n",
       "    </tr>\n",
       "    <tr>\n",
       "      <th>1</th>\n",
       "      <td>1</td>\n",
       "      <td>79323P</td>\n",
       "      <td>12</td>\n",
       "      <td>2009-12-01</td>\n",
       "      <td>81.0</td>\n",
       "    </tr>\n",
       "    <tr>\n",
       "      <th>2</th>\n",
       "      <td>2</td>\n",
       "      <td>79323W</td>\n",
       "      <td>12</td>\n",
       "      <td>2009-12-01</td>\n",
       "      <td>81.0</td>\n",
       "    </tr>\n",
       "    <tr>\n",
       "      <th>3</th>\n",
       "      <td>3</td>\n",
       "      <td>22041</td>\n",
       "      <td>48</td>\n",
       "      <td>2009-12-01</td>\n",
       "      <td>100.8</td>\n",
       "    </tr>\n",
       "    <tr>\n",
       "      <th>4</th>\n",
       "      <td>4</td>\n",
       "      <td>21232</td>\n",
       "      <td>24</td>\n",
       "      <td>2009-12-01</td>\n",
       "      <td>30.0</td>\n",
       "    </tr>\n",
       "  </tbody>\n",
       "</table>\n",
       "</div>"
      ],
      "text/plain": [
       "   Unnamed: 0.1 StockCode  Quantity InvoiceDate  TotalPrice\n",
       "0             0     85048        12  2009-12-01        83.4\n",
       "1             1    79323P        12  2009-12-01        81.0\n",
       "2             2    79323W        12  2009-12-01        81.0\n",
       "3             3     22041        48  2009-12-01       100.8\n",
       "4             4     21232        24  2009-12-01        30.0"
      ]
     },
     "execution_count": 165,
     "metadata": {},
     "output_type": "execute_result"
    }
   ],
   "source": [
    "orders.head()"
   ]
  },
  {
   "cell_type": "code",
   "execution_count": 166,
   "metadata": {},
   "outputs": [],
   "source": [
    "orders = orders.groupby(['InvoiceDate', 'StockCode'], as_index=False).sum()"
   ]
  },
  {
   "cell_type": "code",
   "execution_count": 167,
   "metadata": {},
   "outputs": [],
   "source": [
    "# orders = orders.groupby(['InvoiceDate'], as_index=False).sum()"
   ]
  },
  {
   "cell_type": "code",
   "execution_count": 168,
   "metadata": {},
   "outputs": [
    {
     "data": {
      "text/html": [
       "<div>\n",
       "<style scoped>\n",
       "    .dataframe tbody tr th:only-of-type {\n",
       "        vertical-align: middle;\n",
       "    }\n",
       "\n",
       "    .dataframe tbody tr th {\n",
       "        vertical-align: top;\n",
       "    }\n",
       "\n",
       "    .dataframe thead th {\n",
       "        text-align: right;\n",
       "    }\n",
       "</style>\n",
       "<table border=\"1\" class=\"dataframe\">\n",
       "  <thead>\n",
       "    <tr style=\"text-align: right;\">\n",
       "      <th></th>\n",
       "      <th>InvoiceDate</th>\n",
       "      <th>StockCode</th>\n",
       "      <th>Unnamed: 0.1</th>\n",
       "      <th>Quantity</th>\n",
       "      <th>TotalPrice</th>\n",
       "    </tr>\n",
       "  </thead>\n",
       "  <tbody>\n",
       "    <tr>\n",
       "      <th>0</th>\n",
       "      <td>2009-12-01</td>\n",
       "      <td>10002</td>\n",
       "      <td>41</td>\n",
       "      <td>12</td>\n",
       "      <td>10.20</td>\n",
       "    </tr>\n",
       "    <tr>\n",
       "      <th>1</th>\n",
       "      <td>2009-12-01</td>\n",
       "      <td>10120</td>\n",
       "      <td>2836</td>\n",
       "      <td>60</td>\n",
       "      <td>12.60</td>\n",
       "    </tr>\n",
       "    <tr>\n",
       "      <th>2</th>\n",
       "      <td>2009-12-01</td>\n",
       "      <td>10125</td>\n",
       "      <td>4941</td>\n",
       "      <td>5</td>\n",
       "      <td>5.10</td>\n",
       "    </tr>\n",
       "    <tr>\n",
       "      <th>3</th>\n",
       "      <td>2009-12-01</td>\n",
       "      <td>10133</td>\n",
       "      <td>3619</td>\n",
       "      <td>23</td>\n",
       "      <td>26.35</td>\n",
       "    </tr>\n",
       "    <tr>\n",
       "      <th>4</th>\n",
       "      <td>2009-12-01</td>\n",
       "      <td>11001</td>\n",
       "      <td>1950</td>\n",
       "      <td>2</td>\n",
       "      <td>6.86</td>\n",
       "    </tr>\n",
       "  </tbody>\n",
       "</table>\n",
       "</div>"
      ],
      "text/plain": [
       "  InvoiceDate StockCode  Unnamed: 0.1  Quantity  TotalPrice\n",
       "0  2009-12-01     10002            41        12       10.20\n",
       "1  2009-12-01     10120          2836        60       12.60\n",
       "2  2009-12-01     10125          4941         5        5.10\n",
       "3  2009-12-01     10133          3619        23       26.35\n",
       "4  2009-12-01     11001          1950         2        6.86"
      ]
     },
     "execution_count": 168,
     "metadata": {},
     "output_type": "execute_result"
    }
   ],
   "source": [
    "orders.head()"
   ]
  },
  {
   "cell_type": "code",
   "execution_count": 169,
   "metadata": {},
   "outputs": [
    {
     "data": {
      "text/html": [
       "<div>\n",
       "<style scoped>\n",
       "    .dataframe tbody tr th:only-of-type {\n",
       "        vertical-align: middle;\n",
       "    }\n",
       "\n",
       "    .dataframe tbody tr th {\n",
       "        vertical-align: top;\n",
       "    }\n",
       "\n",
       "    .dataframe thead th {\n",
       "        text-align: right;\n",
       "    }\n",
       "</style>\n",
       "<table border=\"1\" class=\"dataframe\">\n",
       "  <thead>\n",
       "    <tr style=\"text-align: right;\">\n",
       "      <th></th>\n",
       "      <th>InvoiceDate</th>\n",
       "      <th>StockCode</th>\n",
       "      <th>Unnamed: 0.1</th>\n",
       "      <th>Quantity</th>\n",
       "      <th>TotalPrice</th>\n",
       "    </tr>\n",
       "  </thead>\n",
       "  <tbody>\n",
       "    <tr>\n",
       "      <th>0</th>\n",
       "      <td>2009-12-01</td>\n",
       "      <td>10002</td>\n",
       "      <td>41</td>\n",
       "      <td>12</td>\n",
       "      <td>10.20</td>\n",
       "    </tr>\n",
       "    <tr>\n",
       "      <th>1</th>\n",
       "      <td>2009-12-01</td>\n",
       "      <td>10120</td>\n",
       "      <td>2836</td>\n",
       "      <td>60</td>\n",
       "      <td>12.60</td>\n",
       "    </tr>\n",
       "    <tr>\n",
       "      <th>2</th>\n",
       "      <td>2009-12-01</td>\n",
       "      <td>10125</td>\n",
       "      <td>4941</td>\n",
       "      <td>5</td>\n",
       "      <td>5.10</td>\n",
       "    </tr>\n",
       "    <tr>\n",
       "      <th>3</th>\n",
       "      <td>2009-12-01</td>\n",
       "      <td>10133</td>\n",
       "      <td>3619</td>\n",
       "      <td>23</td>\n",
       "      <td>26.35</td>\n",
       "    </tr>\n",
       "    <tr>\n",
       "      <th>4</th>\n",
       "      <td>2009-12-01</td>\n",
       "      <td>11001</td>\n",
       "      <td>1950</td>\n",
       "      <td>2</td>\n",
       "      <td>6.86</td>\n",
       "    </tr>\n",
       "    <tr>\n",
       "      <th>...</th>\n",
       "      <td>...</td>\n",
       "      <td>...</td>\n",
       "      <td>...</td>\n",
       "      <td>...</td>\n",
       "      <td>...</td>\n",
       "    </tr>\n",
       "    <tr>\n",
       "      <th>95</th>\n",
       "      <td>2009-12-01</td>\n",
       "      <td>20830</td>\n",
       "      <td>2921</td>\n",
       "      <td>3</td>\n",
       "      <td>6.30</td>\n",
       "    </tr>\n",
       "    <tr>\n",
       "      <th>96</th>\n",
       "      <td>2009-12-01</td>\n",
       "      <td>20831</td>\n",
       "      <td>2923</td>\n",
       "      <td>3</td>\n",
       "      <td>6.30</td>\n",
       "    </tr>\n",
       "    <tr>\n",
       "      <th>97</th>\n",
       "      <td>2009-12-01</td>\n",
       "      <td>20832</td>\n",
       "      <td>1822</td>\n",
       "      <td>1</td>\n",
       "      <td>1.70</td>\n",
       "    </tr>\n",
       "    <tr>\n",
       "      <th>98</th>\n",
       "      <td>2009-12-01</td>\n",
       "      <td>20863</td>\n",
       "      <td>1823</td>\n",
       "      <td>1</td>\n",
       "      <td>4.30</td>\n",
       "    </tr>\n",
       "    <tr>\n",
       "      <th>99</th>\n",
       "      <td>2009-12-01</td>\n",
       "      <td>20865</td>\n",
       "      <td>1824</td>\n",
       "      <td>2</td>\n",
       "      <td>8.60</td>\n",
       "    </tr>\n",
       "  </tbody>\n",
       "</table>\n",
       "<p>100 rows × 5 columns</p>\n",
       "</div>"
      ],
      "text/plain": [
       "   InvoiceDate StockCode  Unnamed: 0.1  Quantity  TotalPrice\n",
       "0   2009-12-01     10002            41        12       10.20\n",
       "1   2009-12-01     10120          2836        60       12.60\n",
       "2   2009-12-01     10125          4941         5        5.10\n",
       "3   2009-12-01     10133          3619        23       26.35\n",
       "4   2009-12-01     11001          1950         2        6.86\n",
       "..         ...       ...           ...       ...         ...\n",
       "95  2009-12-01     20830          2921         3        6.30\n",
       "96  2009-12-01     20831          2923         3        6.30\n",
       "97  2009-12-01     20832          1822         1        1.70\n",
       "98  2009-12-01     20863          1823         1        4.30\n",
       "99  2009-12-01     20865          1824         2        8.60\n",
       "\n",
       "[100 rows x 5 columns]"
      ]
     },
     "execution_count": 169,
     "metadata": {},
     "output_type": "execute_result"
    }
   ],
   "source": [
    "orders.head(100)"
   ]
  },
  {
   "cell_type": "code",
   "execution_count": 170,
   "metadata": {},
   "outputs": [],
   "source": [
    "orders.InvoiceDate = pd.to_datetime(orders.InvoiceDate)#"
   ]
  },
  {
   "cell_type": "code",
   "execution_count": 171,
   "metadata": {},
   "outputs": [],
   "source": [
    "t = orders"
   ]
  },
  {
   "cell_type": "code",
   "execution_count": 172,
   "metadata": {},
   "outputs": [],
   "source": [
    "# -- IMPORTANT --\n",
    "orders['Year'] = orders.InvoiceDate.dt.year\n",
    "orders['Quarter'] = orders.InvoiceDate.dt.quarter\n",
    "orders['Month'] = orders.InvoiceDate.dt.month\n",
    "orders['Week'] = orders.InvoiceDate.dt.week\n",
    "orders['Weekday'] = orders.InvoiceDate.dt.weekday\n",
    "orders['Day'] = orders.InvoiceDate.dt.day\n",
    "orders['Dayofyear'] = orders.InvoiceDate.dt.dayofyear\n",
    "orders['UnitPrice'] = orders.TotalPrice/orders.Quantity"
   ]
  },
  {
   "cell_type": "code",
   "execution_count": 173,
   "metadata": {},
   "outputs": [
    {
     "name": "stdout",
     "output_type": "stream",
     "text": [
      "<class 'pandas.core.frame.DataFrame'>\n",
      "RangeIndex: 530447 entries, 0 to 530446\n",
      "Data columns (total 13 columns):\n",
      " #   Column        Non-Null Count   Dtype         \n",
      "---  ------        --------------   -----         \n",
      " 0   InvoiceDate   530447 non-null  datetime64[ns]\n",
      " 1   StockCode     530447 non-null  object        \n",
      " 2   Unnamed: 0.1  530447 non-null  int64         \n",
      " 3   Quantity      530447 non-null  int64         \n",
      " 4   TotalPrice    530447 non-null  float64       \n",
      " 5   Year          530447 non-null  int64         \n",
      " 6   Quarter       530447 non-null  int64         \n",
      " 7   Month         530447 non-null  int64         \n",
      " 8   Week          530447 non-null  int64         \n",
      " 9   Weekday       530447 non-null  int64         \n",
      " 10  Day           530447 non-null  int64         \n",
      " 11  Dayofyear     530447 non-null  int64         \n",
      " 12  UnitPrice     530447 non-null  float64       \n",
      "dtypes: datetime64[ns](1), float64(2), int64(9), object(1)\n",
      "memory usage: 52.6+ MB\n"
     ]
    }
   ],
   "source": [
    "orders.info()"
   ]
  },
  {
   "cell_type": "code",
   "execution_count": 178,
   "metadata": {},
   "outputs": [
    {
     "data": {
      "text/html": [
       "<div>\n",
       "<style scoped>\n",
       "    .dataframe tbody tr th:only-of-type {\n",
       "        vertical-align: middle;\n",
       "    }\n",
       "\n",
       "    .dataframe tbody tr th {\n",
       "        vertical-align: top;\n",
       "    }\n",
       "\n",
       "    .dataframe thead th {\n",
       "        text-align: right;\n",
       "    }\n",
       "</style>\n",
       "<table border=\"1\" class=\"dataframe\">\n",
       "  <thead>\n",
       "    <tr style=\"text-align: right;\">\n",
       "      <th></th>\n",
       "      <th>Quantity</th>\n",
       "      <th>TotalPrice</th>\n",
       "      <th>Year</th>\n",
       "      <th>Quarter</th>\n",
       "      <th>Month</th>\n",
       "      <th>Week</th>\n",
       "      <th>Weekday</th>\n",
       "      <th>Day</th>\n",
       "      <th>Dayofyear</th>\n",
       "      <th>UnitPrice</th>\n",
       "    </tr>\n",
       "  </thead>\n",
       "  <tbody>\n",
       "    <tr>\n",
       "      <th>count</th>\n",
       "      <td>530447.000000</td>\n",
       "      <td>530447.000000</td>\n",
       "      <td>530447.000000</td>\n",
       "      <td>530447.000000</td>\n",
       "      <td>530447.000000</td>\n",
       "      <td>530447.000000</td>\n",
       "      <td>530447.000000</td>\n",
       "      <td>530447.00000</td>\n",
       "      <td>530447.000000</td>\n",
       "      <td>530447.000000</td>\n",
       "    </tr>\n",
       "    <tr>\n",
       "      <th>mean</th>\n",
       "      <td>19.586815</td>\n",
       "      <td>34.436133</td>\n",
       "      <td>2010.439303</td>\n",
       "      <td>2.679548</td>\n",
       "      <td>7.067911</td>\n",
       "      <td>28.619148</td>\n",
       "      <td>2.517865</td>\n",
       "      <td>15.32725</td>\n",
       "      <td>199.125375</td>\n",
       "      <td>3.495316</td>\n",
       "    </tr>\n",
       "    <tr>\n",
       "      <th>std</th>\n",
       "      <td>64.059863</td>\n",
       "      <td>71.381389</td>\n",
       "      <td>0.573044</td>\n",
       "      <td>1.145581</td>\n",
       "      <td>3.504972</td>\n",
       "      <td>15.205946</td>\n",
       "      <td>1.897490</td>\n",
       "      <td>8.62127</td>\n",
       "      <td>106.153333</td>\n",
       "      <td>8.090734</td>\n",
       "    </tr>\n",
       "    <tr>\n",
       "      <th>min</th>\n",
       "      <td>1.000000</td>\n",
       "      <td>0.001000</td>\n",
       "      <td>2009.000000</td>\n",
       "      <td>1.000000</td>\n",
       "      <td>1.000000</td>\n",
       "      <td>1.000000</td>\n",
       "      <td>0.000000</td>\n",
       "      <td>1.00000</td>\n",
       "      <td>4.000000</td>\n",
       "      <td>0.001000</td>\n",
       "    </tr>\n",
       "    <tr>\n",
       "      <th>25%</th>\n",
       "      <td>2.000000</td>\n",
       "      <td>5.800000</td>\n",
       "      <td>2010.000000</td>\n",
       "      <td>2.000000</td>\n",
       "      <td>4.000000</td>\n",
       "      <td>15.000000</td>\n",
       "      <td>1.000000</td>\n",
       "      <td>8.00000</td>\n",
       "      <td>106.000000</td>\n",
       "      <td>1.250000</td>\n",
       "    </tr>\n",
       "    <tr>\n",
       "      <th>50%</th>\n",
       "      <td>6.000000</td>\n",
       "      <td>15.000000</td>\n",
       "      <td>2010.000000</td>\n",
       "      <td>3.000000</td>\n",
       "      <td>7.000000</td>\n",
       "      <td>30.000000</td>\n",
       "      <td>2.000000</td>\n",
       "      <td>15.00000</td>\n",
       "      <td>208.000000</td>\n",
       "      <td>2.100000</td>\n",
       "    </tr>\n",
       "    <tr>\n",
       "      <th>75%</th>\n",
       "      <td>18.000000</td>\n",
       "      <td>32.750000</td>\n",
       "      <td>2011.000000</td>\n",
       "      <td>4.000000</td>\n",
       "      <td>10.000000</td>\n",
       "      <td>43.000000</td>\n",
       "      <td>4.000000</td>\n",
       "      <td>23.00000</td>\n",
       "      <td>297.000000</td>\n",
       "      <td>4.130000</td>\n",
       "    </tr>\n",
       "    <tr>\n",
       "      <th>max</th>\n",
       "      <td>7128.000000</td>\n",
       "      <td>3996.760000</td>\n",
       "      <td>2011.000000</td>\n",
       "      <td>4.000000</td>\n",
       "      <td>12.000000</td>\n",
       "      <td>52.000000</td>\n",
       "      <td>6.000000</td>\n",
       "      <td>31.00000</td>\n",
       "      <td>357.000000</td>\n",
       "      <td>604.120000</td>\n",
       "    </tr>\n",
       "  </tbody>\n",
       "</table>\n",
       "</div>"
      ],
      "text/plain": [
       "            Quantity     TotalPrice           Year        Quarter  \\\n",
       "count  530447.000000  530447.000000  530447.000000  530447.000000   \n",
       "mean       19.586815      34.436133    2010.439303       2.679548   \n",
       "std        64.059863      71.381389       0.573044       1.145581   \n",
       "min         1.000000       0.001000    2009.000000       1.000000   \n",
       "25%         2.000000       5.800000    2010.000000       2.000000   \n",
       "50%         6.000000      15.000000    2010.000000       3.000000   \n",
       "75%        18.000000      32.750000    2011.000000       4.000000   \n",
       "max      7128.000000    3996.760000    2011.000000       4.000000   \n",
       "\n",
       "               Month           Week        Weekday           Day  \\\n",
       "count  530447.000000  530447.000000  530447.000000  530447.00000   \n",
       "mean        7.067911      28.619148       2.517865      15.32725   \n",
       "std         3.504972      15.205946       1.897490       8.62127   \n",
       "min         1.000000       1.000000       0.000000       1.00000   \n",
       "25%         4.000000      15.000000       1.000000       8.00000   \n",
       "50%         7.000000      30.000000       2.000000      15.00000   \n",
       "75%        10.000000      43.000000       4.000000      23.00000   \n",
       "max        12.000000      52.000000       6.000000      31.00000   \n",
       "\n",
       "           Dayofyear      UnitPrice  \n",
       "count  530447.000000  530447.000000  \n",
       "mean      199.125375       3.495316  \n",
       "std       106.153333       8.090734  \n",
       "min         4.000000       0.001000  \n",
       "25%       106.000000       1.250000  \n",
       "50%       208.000000       2.100000  \n",
       "75%       297.000000       4.130000  \n",
       "max       357.000000     604.120000  "
      ]
     },
     "execution_count": 178,
     "metadata": {},
     "output_type": "execute_result"
    }
   ],
   "source": [
    "orders.describe()\n",
    "# Note: some outliers in the TotalPrice and Quantity are presented below\n",
    "# SEE Quantity (max) and TotalPrice (max)"
   ]
  },
  {
   "cell_type": "code",
   "execution_count": 179,
   "metadata": {},
   "outputs": [],
   "source": [
    "# Drop rows with negative Quantity\n",
    "orders = orders.drop(orders[orders.Quantity<=0].index).reset_index(drop=True)\n",
    "orders = orders.drop(orders[orders.TotalPrice<=0].index).reset_index(drop=True)\n",
    "\n",
    "# Removing outliers in Quantity and TotalPrice\n",
    "orders = orders[(np.abs(stats.zscore(orders.Quantity)) < 3)]\n",
    "orders = orders[(np.abs(stats.zscore(orders.TotalPrice)) < 3)]"
   ]
  },
  {
   "cell_type": "code",
   "execution_count": 180,
   "metadata": {},
   "outputs": [
    {
     "name": "stdout",
     "output_type": "stream",
     "text": [
      "<class 'pandas.core.frame.DataFrame'>\n",
      "Int64Index: 515720 entries, 0 to 530446\n",
      "Data columns (total 12 columns):\n",
      " #   Column       Non-Null Count   Dtype         \n",
      "---  ------       --------------   -----         \n",
      " 0   InvoiceDate  515720 non-null  datetime64[ns]\n",
      " 1   StockCode    515720 non-null  object        \n",
      " 2   Quantity     515720 non-null  int64         \n",
      " 3   TotalPrice   515720 non-null  float64       \n",
      " 4   Year         515720 non-null  int64         \n",
      " 5   Quarter      515720 non-null  int64         \n",
      " 6   Month        515720 non-null  int64         \n",
      " 7   Week         515720 non-null  int64         \n",
      " 8   Weekday      515720 non-null  int64         \n",
      " 9   Day          515720 non-null  int64         \n",
      " 10  Dayofyear    515720 non-null  int64         \n",
      " 11  UnitPrice    515720 non-null  float64       \n",
      "dtypes: datetime64[ns](1), float64(2), int64(8), object(1)\n",
      "memory usage: 51.2+ MB\n"
     ]
    }
   ],
   "source": [
    "orders.info()"
   ]
  },
  {
   "cell_type": "code",
   "execution_count": 181,
   "metadata": {},
   "outputs": [
    {
     "data": {
      "text/html": [
       "<div>\n",
       "<style scoped>\n",
       "    .dataframe tbody tr th:only-of-type {\n",
       "        vertical-align: middle;\n",
       "    }\n",
       "\n",
       "    .dataframe tbody tr th {\n",
       "        vertical-align: top;\n",
       "    }\n",
       "\n",
       "    .dataframe thead th {\n",
       "        text-align: right;\n",
       "    }\n",
       "</style>\n",
       "<table border=\"1\" class=\"dataframe\">\n",
       "  <thead>\n",
       "    <tr style=\"text-align: right;\">\n",
       "      <th></th>\n",
       "      <th>Quantity</th>\n",
       "      <th>TotalPrice</th>\n",
       "      <th>Year</th>\n",
       "      <th>Quarter</th>\n",
       "      <th>Month</th>\n",
       "      <th>Week</th>\n",
       "      <th>Weekday</th>\n",
       "      <th>Day</th>\n",
       "      <th>Dayofyear</th>\n",
       "      <th>UnitPrice</th>\n",
       "    </tr>\n",
       "  </thead>\n",
       "  <tbody>\n",
       "    <tr>\n",
       "      <th>count</th>\n",
       "      <td>515720.000000</td>\n",
       "      <td>515720.000000</td>\n",
       "      <td>515720.000000</td>\n",
       "      <td>515720.000000</td>\n",
       "      <td>515720.000000</td>\n",
       "      <td>515720.000000</td>\n",
       "      <td>515720.000000</td>\n",
       "      <td>515720.000000</td>\n",
       "      <td>515720.000000</td>\n",
       "      <td>515720.000000</td>\n",
       "    </tr>\n",
       "    <tr>\n",
       "      <th>mean</th>\n",
       "      <td>14.311580</td>\n",
       "      <td>25.566179</td>\n",
       "      <td>2010.440148</td>\n",
       "      <td>2.674352</td>\n",
       "      <td>7.050419</td>\n",
       "      <td>28.543382</td>\n",
       "      <td>2.527317</td>\n",
       "      <td>15.338787</td>\n",
       "      <td>198.604000</td>\n",
       "      <td>3.327203</td>\n",
       "    </tr>\n",
       "    <tr>\n",
       "      <th>std</th>\n",
       "      <td>22.386213</td>\n",
       "      <td>32.923020</td>\n",
       "      <td>0.573039</td>\n",
       "      <td>1.145600</td>\n",
       "      <td>3.503978</td>\n",
       "      <td>15.203342</td>\n",
       "      <td>1.903652</td>\n",
       "      <td>8.622299</td>\n",
       "      <td>106.138109</td>\n",
       "      <td>4.698653</td>\n",
       "    </tr>\n",
       "    <tr>\n",
       "      <th>min</th>\n",
       "      <td>1.000000</td>\n",
       "      <td>0.001000</td>\n",
       "      <td>2009.000000</td>\n",
       "      <td>1.000000</td>\n",
       "      <td>1.000000</td>\n",
       "      <td>1.000000</td>\n",
       "      <td>0.000000</td>\n",
       "      <td>1.000000</td>\n",
       "      <td>4.000000</td>\n",
       "      <td>0.001000</td>\n",
       "    </tr>\n",
       "    <tr>\n",
       "      <th>25%</th>\n",
       "      <td>2.000000</td>\n",
       "      <td>5.100000</td>\n",
       "      <td>2010.000000</td>\n",
       "      <td>2.000000</td>\n",
       "      <td>4.000000</td>\n",
       "      <td>15.000000</td>\n",
       "      <td>1.000000</td>\n",
       "      <td>8.000000</td>\n",
       "      <td>105.000000</td>\n",
       "      <td>1.250000</td>\n",
       "    </tr>\n",
       "    <tr>\n",
       "      <th>50%</th>\n",
       "      <td>6.000000</td>\n",
       "      <td>14.850000</td>\n",
       "      <td>2010.000000</td>\n",
       "      <td>3.000000</td>\n",
       "      <td>7.000000</td>\n",
       "      <td>30.000000</td>\n",
       "      <td>2.000000</td>\n",
       "      <td>15.000000</td>\n",
       "      <td>207.000000</td>\n",
       "      <td>2.100000</td>\n",
       "    </tr>\n",
       "    <tr>\n",
       "      <th>75%</th>\n",
       "      <td>16.000000</td>\n",
       "      <td>30.000000</td>\n",
       "      <td>2011.000000</td>\n",
       "      <td>4.000000</td>\n",
       "      <td>10.000000</td>\n",
       "      <td>42.000000</td>\n",
       "      <td>4.000000</td>\n",
       "      <td>23.000000</td>\n",
       "      <td>297.000000</td>\n",
       "      <td>4.130000</td>\n",
       "    </tr>\n",
       "    <tr>\n",
       "      <th>max</th>\n",
       "      <td>211.000000</td>\n",
       "      <td>211.320000</td>\n",
       "      <td>2011.000000</td>\n",
       "      <td>4.000000</td>\n",
       "      <td>12.000000</td>\n",
       "      <td>52.000000</td>\n",
       "      <td>6.000000</td>\n",
       "      <td>31.000000</td>\n",
       "      <td>357.000000</td>\n",
       "      <td>208.920000</td>\n",
       "    </tr>\n",
       "  </tbody>\n",
       "</table>\n",
       "</div>"
      ],
      "text/plain": [
       "            Quantity     TotalPrice           Year        Quarter  \\\n",
       "count  515720.000000  515720.000000  515720.000000  515720.000000   \n",
       "mean       14.311580      25.566179    2010.440148       2.674352   \n",
       "std        22.386213      32.923020       0.573039       1.145600   \n",
       "min         1.000000       0.001000    2009.000000       1.000000   \n",
       "25%         2.000000       5.100000    2010.000000       2.000000   \n",
       "50%         6.000000      14.850000    2010.000000       3.000000   \n",
       "75%        16.000000      30.000000    2011.000000       4.000000   \n",
       "max       211.000000     211.320000    2011.000000       4.000000   \n",
       "\n",
       "               Month           Week        Weekday            Day  \\\n",
       "count  515720.000000  515720.000000  515720.000000  515720.000000   \n",
       "mean        7.050419      28.543382       2.527317      15.338787   \n",
       "std         3.503978      15.203342       1.903652       8.622299   \n",
       "min         1.000000       1.000000       0.000000       1.000000   \n",
       "25%         4.000000      15.000000       1.000000       8.000000   \n",
       "50%         7.000000      30.000000       2.000000      15.000000   \n",
       "75%        10.000000      42.000000       4.000000      23.000000   \n",
       "max        12.000000      52.000000       6.000000      31.000000   \n",
       "\n",
       "           Dayofyear      UnitPrice  \n",
       "count  515720.000000  515720.000000  \n",
       "mean      198.604000       3.327203  \n",
       "std       106.138109       4.698653  \n",
       "min         4.000000       0.001000  \n",
       "25%       105.000000       1.250000  \n",
       "50%       207.000000       2.100000  \n",
       "75%       297.000000       4.130000  \n",
       "max       357.000000     208.920000  "
      ]
     },
     "execution_count": 181,
     "metadata": {},
     "output_type": "execute_result"
    }
   ],
   "source": [
    "orders.describe()"
   ]
  },
  {
   "cell_type": "code",
   "execution_count": 182,
   "metadata": {},
   "outputs": [
    {
     "data": {
      "image/png": "[encoded data removed]",
      "text/plain": [
       "<Figure size 1000x1000 with 2 Axes>"
      ]
     },
     "metadata": {},
     "output_type": "display_data"
    }
   ],
   "source": [
    "corrmat = orders.corr()\n",
    "top_corr_features = corrmat.index\n",
    "plt.figure(figsize=(10, 10))\n",
    "g = sns.heatmap(orders[top_corr_features].corr(), annot=True, cmap=\"coolwarm\", vmin=-1, vmax=1, center=0)"
   ]
  },
  {
   "cell_type": "code",
   "execution_count": 183,
   "metadata": {},
   "outputs": [],
   "source": [
    "orders.drop(['Month', 'Quarter','Dayofyear','Year'], axis=1,inplace=True) \n",
    "# Month, Quarter, Dayofyear, Week are correlated with each other. So, we kept Week\n",
    "# Year: Is not correlated to the Quantity. So, drop it "
   ]
  },
  {
   "cell_type": "code",
   "execution_count": 184,
   "metadata": {},
   "outputs": [
    {
     "data": {
      "text/html": [
       "<div>\n",
       "<style scoped>\n",
       "    .dataframe tbody tr th:only-of-type {\n",
       "        vertical-align: middle;\n",
       "    }\n",
       "\n",
       "    .dataframe tbody tr th {\n",
       "        vertical-align: top;\n",
       "    }\n",
       "\n",
       "    .dataframe thead th {\n",
       "        text-align: right;\n",
       "    }\n",
       "</style>\n",
       "<table border=\"1\" class=\"dataframe\">\n",
       "  <thead>\n",
       "    <tr style=\"text-align: right;\">\n",
       "      <th></th>\n",
       "      <th>InvoiceDate</th>\n",
       "      <th>StockCode</th>\n",
       "      <th>Quantity</th>\n",
       "      <th>TotalPrice</th>\n",
       "      <th>Week</th>\n",
       "      <th>Weekday</th>\n",
       "      <th>Day</th>\n",
       "      <th>UnitPrice</th>\n",
       "    </tr>\n",
       "  </thead>\n",
       "  <tbody>\n",
       "    <tr>\n",
       "      <th>0</th>\n",
       "      <td>2009-12-01</td>\n",
       "      <td>10002</td>\n",
       "      <td>12</td>\n",
       "      <td>10.20</td>\n",
       "      <td>49</td>\n",
       "      <td>1</td>\n",
       "      <td>1</td>\n",
       "      <td>0.850000</td>\n",
       "    </tr>\n",
       "    <tr>\n",
       "      <th>1</th>\n",
       "      <td>2009-12-01</td>\n",
       "      <td>10120</td>\n",
       "      <td>60</td>\n",
       "      <td>12.60</td>\n",
       "      <td>49</td>\n",
       "      <td>1</td>\n",
       "      <td>1</td>\n",
       "      <td>0.210000</td>\n",
       "    </tr>\n",
       "    <tr>\n",
       "      <th>2</th>\n",
       "      <td>2009-12-01</td>\n",
       "      <td>10125</td>\n",
       "      <td>5</td>\n",
       "      <td>5.10</td>\n",
       "      <td>49</td>\n",
       "      <td>1</td>\n",
       "      <td>1</td>\n",
       "      <td>1.020000</td>\n",
       "    </tr>\n",
       "    <tr>\n",
       "      <th>3</th>\n",
       "      <td>2009-12-01</td>\n",
       "      <td>10133</td>\n",
       "      <td>23</td>\n",
       "      <td>26.35</td>\n",
       "      <td>49</td>\n",
       "      <td>1</td>\n",
       "      <td>1</td>\n",
       "      <td>1.145652</td>\n",
       "    </tr>\n",
       "    <tr>\n",
       "      <th>4</th>\n",
       "      <td>2009-12-01</td>\n",
       "      <td>11001</td>\n",
       "      <td>2</td>\n",
       "      <td>6.86</td>\n",
       "      <td>49</td>\n",
       "      <td>1</td>\n",
       "      <td>1</td>\n",
       "      <td>3.430000</td>\n",
       "    </tr>\n",
       "  </tbody>\n",
       "</table>\n",
       "</div>"
      ],
      "text/plain": [
       "  InvoiceDate StockCode  Quantity  TotalPrice  Week  Weekday  Day  UnitPrice\n",
       "0  2009-12-01     10002        12       10.20    49        1    1   0.850000\n",
       "1  2009-12-01     10120        60       12.60    49        1    1   0.210000\n",
       "2  2009-12-01     10125         5        5.10    49        1    1   1.020000\n",
       "3  2009-12-01     10133        23       26.35    49        1    1   1.145652\n",
       "4  2009-12-01     11001         2        6.86    49        1    1   3.430000"
      ]
     },
     "execution_count": 184,
     "metadata": {},
     "output_type": "execute_result"
    }
   ],
   "source": [
    "orders.head()"
   ]
  },
  {
   "cell_type": "code",
   "execution_count": 189,
   "metadata": {},
   "outputs": [
    {
     "name": "stdout",
     "output_type": "stream",
     "text": [
      "<class 'pandas.core.frame.DataFrame'>\n",
      "Int64Index: 515720 entries, 0 to 530446\n",
      "Data columns (total 8 columns):\n",
      " #   Column       Non-Null Count   Dtype         \n",
      "---  ------       --------------   -----         \n",
      " 0   InvoiceDate  515720 non-null  datetime64[ns]\n",
      " 1   StockCode    515720 non-null  object        \n",
      " 2   Quantity     515720 non-null  int64         \n",
      " 3   TotalPrice   515720 non-null  float64       \n",
      " 4   Week         515720 non-null  int64         \n",
      " 5   Weekday      515720 non-null  int64         \n",
      " 6   Day          515720 non-null  int64         \n",
      " 7   UnitPrice    515720 non-null  float64       \n",
      "dtypes: datetime64[ns](1), float64(2), int64(4), object(1)\n",
      "memory usage: 35.4+ MB\n"
     ]
    }
   ],
   "source": [
    "orders.info()"
   ]
  },
  {
   "cell_type": "code",
   "execution_count": 186,
   "metadata": {},
   "outputs": [],
   "source": [
    "orders.to_excel('ex_retail2_forecasting_data_v3.xlsx')"
   ]
  },
  {
   "attachments": {},
   "cell_type": "markdown",
   "metadata": {},
   "source": [
    "# Machine learning algorithms 🤖"
   ]
  },
  {
   "attachments": {},
   "cell_type": "markdown",
   "metadata": {},
   "source": [
    "## Train and Test data preperation"
   ]
  },
  {
   "cell_type": "code",
   "execution_count": 190,
   "metadata": {},
   "outputs": [],
   "source": [
    "orders = pd.read_excel('ex_retail2_forecasting_data_v3.xlsx', index_col=False)"
   ]
  },
  {
   "cell_type": "code",
   "execution_count": 199,
   "metadata": {},
   "outputs": [
    {
     "name": "stdout",
     "output_type": "stream",
     "text": [
      "<class 'pandas.core.frame.DataFrame'>\n",
      "RangeIndex: 515720 entries, 0 to 515719\n",
      "Data columns (total 8 columns):\n",
      " #   Column       Non-Null Count   Dtype         \n",
      "---  ------       --------------   -----         \n",
      " 0   InvoiceDate  515720 non-null  datetime64[ns]\n",
      " 1   StockCode    515720 non-null  object        \n",
      " 2   Quantity     515720 non-null  int64         \n",
      " 3   TotalPrice   515720 non-null  float64       \n",
      " 4   Week         515720 non-null  int64         \n",
      " 5   Weekday      515720 non-null  int64         \n",
      " 6   Day          515720 non-null  int64         \n",
      " 7   UnitPrice    515720 non-null  float64       \n",
      "dtypes: datetime64[ns](1), float64(2), int64(4), object(1)\n",
      "memory usage: 31.5+ MB\n"
     ]
    }
   ],
   "source": [
    "orders.info()"
   ]
  },
  {
   "cell_type": "code",
   "execution_count": 197,
   "metadata": {},
   "outputs": [],
   "source": [
    "# Split the dataset into train and test dataset\n",
    "df_train = orders[orders.InvoiceDate<'2011-11-01']\n",
    "df_test = orders[orders.InvoiceDate>='2011-11-01']"
   ]
  },
  {
   "cell_type": "code",
   "execution_count": 200,
   "metadata": {},
   "outputs": [
    {
     "data": {
      "text/html": [
       "<div>\n",
       "<style scoped>\n",
       "    .dataframe tbody tr th:only-of-type {\n",
       "        vertical-align: middle;\n",
       "    }\n",
       "\n",
       "    .dataframe tbody tr th {\n",
       "        vertical-align: top;\n",
       "    }\n",
       "\n",
       "    .dataframe thead th {\n",
       "        text-align: right;\n",
       "    }\n",
       "</style>\n",
       "<table border=\"1\" class=\"dataframe\">\n",
       "  <thead>\n",
       "    <tr style=\"text-align: right;\">\n",
       "      <th></th>\n",
       "      <th>InvoiceDate</th>\n",
       "      <th>StockCode</th>\n",
       "      <th>Quantity</th>\n",
       "      <th>TotalPrice</th>\n",
       "      <th>Week</th>\n",
       "      <th>Weekday</th>\n",
       "      <th>Day</th>\n",
       "      <th>UnitPrice</th>\n",
       "    </tr>\n",
       "  </thead>\n",
       "  <tbody>\n",
       "    <tr>\n",
       "      <th>472181</th>\n",
       "      <td>2011-11-01</td>\n",
       "      <td>15034</td>\n",
       "      <td>60</td>\n",
       "      <td>8.40</td>\n",
       "      <td>44</td>\n",
       "      <td>1</td>\n",
       "      <td>1</td>\n",
       "      <td>0.14</td>\n",
       "    </tr>\n",
       "    <tr>\n",
       "      <th>472182</th>\n",
       "      <td>2011-11-01</td>\n",
       "      <td>15036</td>\n",
       "      <td>36</td>\n",
       "      <td>29.88</td>\n",
       "      <td>44</td>\n",
       "      <td>1</td>\n",
       "      <td>1</td>\n",
       "      <td>0.83</td>\n",
       "    </tr>\n",
       "    <tr>\n",
       "      <th>472183</th>\n",
       "      <td>2011-11-01</td>\n",
       "      <td>16008</td>\n",
       "      <td>96</td>\n",
       "      <td>11.52</td>\n",
       "      <td>44</td>\n",
       "      <td>1</td>\n",
       "      <td>1</td>\n",
       "      <td>0.12</td>\n",
       "    </tr>\n",
       "    <tr>\n",
       "      <th>472184</th>\n",
       "      <td>2011-11-01</td>\n",
       "      <td>16048</td>\n",
       "      <td>24</td>\n",
       "      <td>2.88</td>\n",
       "      <td>44</td>\n",
       "      <td>1</td>\n",
       "      <td>1</td>\n",
       "      <td>0.12</td>\n",
       "    </tr>\n",
       "    <tr>\n",
       "      <th>472185</th>\n",
       "      <td>2011-11-01</td>\n",
       "      <td>16237</td>\n",
       "      <td>30</td>\n",
       "      <td>6.30</td>\n",
       "      <td>44</td>\n",
       "      <td>1</td>\n",
       "      <td>1</td>\n",
       "      <td>0.21</td>\n",
       "    </tr>\n",
       "  </tbody>\n",
       "</table>\n",
       "</div>"
      ],
      "text/plain": [
       "       InvoiceDate StockCode  Quantity  TotalPrice  Week  Weekday  Day  \\\n",
       "472181  2011-11-01     15034        60        8.40    44        1    1   \n",
       "472182  2011-11-01     15036        36       29.88    44        1    1   \n",
       "472183  2011-11-01     16008        96       11.52    44        1    1   \n",
       "472184  2011-11-01     16048        24        2.88    44        1    1   \n",
       "472185  2011-11-01     16237        30        6.30    44        1    1   \n",
       "\n",
       "        UnitPrice  \n",
       "472181       0.14  \n",
       "472182       0.83  \n",
       "472183       0.12  \n",
       "472184       0.12  \n",
       "472185       0.21  "
      ]
     },
     "execution_count": 200,
     "metadata": {},
     "output_type": "execute_result"
    }
   ],
   "source": [
    "df_test.head()"
   ]
  },
  {
   "cell_type": "code",
   "execution_count": 201,
   "metadata": {},
   "outputs": [],
   "source": [
    "# Define the feature and target variables\n",
    "\n",
    "X_train = df_train.drop(labels=['InvoiceDate','StockCode','Quantity','TotalPrice'],axis=1)\n",
    "y_train = df_train.Quantity\n",
    "\n",
    "X_test = df_test.drop(labels=['InvoiceDate','StockCode','Quantity','TotalPrice'],axis=1)\n",
    "y_test = df_test.Quantity"
   ]
  },
  {
   "cell_type": "code",
   "execution_count": 229,
   "metadata": {},
   "outputs": [],
   "source": [
    "# Data Frame to store all the RMSE scores for various algorithms\n",
    "algo_score = pd.DataFrame()\n",
    "algo_score.index.name = 'Modelling Algo'\n",
    "algo_score['Train RMSE'] = None\n",
    "algo_score['Test RMSE'] = None\n",
    "algo_score['Hyperparameters'] = None\n",
    "algo_score['Training+Test Time(sec)'] = None\n",
    "\n",
    "cv_time = []\n",
    "\n",
    "# Dataframes for second level of predictions. Collect the predicted y values for training and test set of data\n",
    "ypred_train = pd.DataFrame(index = X_train.index)\n",
    "ypred_test = pd.DataFrame(index = X_test.index)\n",
    "ypred_train['quantity'], ypred_test['quantity'] = y_train, y_test\n"
   ]
  },
  {
   "cell_type": "code",
   "execution_count": 230,
   "metadata": {},
   "outputs": [],
   "source": [
    "def rmse(y_actual, y_pred):\n",
    "    rmse = np.sqrt(mean_squared_error(y_actual, y_pred))\n",
    "    return rmse\n",
    "rmse_cv = make_scorer(rmse, greater_is_better=False)"
   ]
  },
  {
   "cell_type": "code",
   "execution_count": 231,
   "metadata": {},
   "outputs": [],
   "source": [
    "def plot_true_vs_pred(y_actual, y_pred):\n",
    "    fig = plt.figure(figsize=(18, 16))\n",
    "\n",
    "    pred_val = pd.DataFrame({'actual':y_actual, 'predicted':y_pred})\n",
    "    pred_val['error'] = abs(pred_val.actual.round(0), pred_val.error)\n",
    "    sns.swarmplot(pred_val.actual.round(0), pred_val.error)\n",
    "    plt.show()"
   ]
  },
  {
   "cell_type": "code",
   "execution_count": 232,
   "metadata": {},
   "outputs": [],
   "source": [
    "# Function to predict on train and test data and return the required metrics\n",
    "def model_fit(model, X_train, y_train, X_test, y_test):\n",
    "    ''' \n",
    "    Input:\n",
    "        model = model to be applied\n",
    "        X_train y_train = Training data\n",
    "        X_test, y_test = Testing data\n",
    "    Output:\n",
    "        rmse for training and test data \n",
    "        predicted y for training and test data\n",
    "    \n",
    "    '''\n",
    "#     model.fit(X_train, y_train)\n",
    "    y_train_predict = model.predict(X_train)\n",
    "    y_test_predict = model.predict(X_test)\n",
    "    \n",
    "    rmse_train = rmse(y_train, y_train_predict)\n",
    "    rmse_test = rmse(y_test, y_test_predict)\n",
    "    \n",
    "    rmse_all = [rmse_train, rmse_test]\n",
    "    y_pred_all = [y_train_predict, y_test_predict]\n",
    "    \n",
    "    return(rmse_all, y_pred_all)"
   ]
  },
  {
   "cell_type": "code",
   "execution_count": 233,
   "metadata": {},
   "outputs": [],
   "source": [
    "def cross_val(model, X_train, y_train, cv=5):\n",
    "#     y_pred = pd.Series(index=y_train.index)\n",
    "    y_pred = cross_val_predict(model,X_train,y_train,cv=5) # return one with best score\n",
    "    rmse_train = rmse(y_train,y_pred)\n",
    "    return(rmse_train, y_pred)"
   ]
  },
  {
   "attachments": {},
   "cell_type": "markdown",
   "metadata": {},
   "source": [
    "## Machine learning models"
   ]
  },
  {
   "attachments": {},
   "cell_type": "markdown",
   "metadata": {},
   "source": [
    "#### Linear regression - LR\n"
   ]
  },
  {
   "cell_type": "code",
   "execution_count": 234,
   "metadata": {},
   "outputs": [
    {
     "name": "stdout",
     "output_type": "stream",
     "text": [
      "CPU times: total: 46.9 ms\n",
      "Wall time: 52.4 ms\n",
      "CPU times: total: 0 ns\n",
      "Wall time: 14 ms\n"
     ]
    }
   ],
   "source": [
    "reg = LinearRegression()\n",
    "\n",
    "param_summary = ['','']\n",
    "rmse_summary = 0\n",
    "y_predict_summary = 0\n",
    "%time reg.fit(X_train, y_train)\n",
    "%time rmse_summary, y_predict_summary = model_fit(reg, X_train, y_train, X_test, y_test)\n",
    "\n",
    "ypred_test['LR'] = y_predict_summary[1]  \n",
    "ypred_train['LR'] = y_predict_summary[0]\n",
    "\n",
    "algo_score.loc['Linear Regression'] = rmse_summary+param_summary"
   ]
  },
  {
   "cell_type": "code",
   "execution_count": 235,
   "metadata": {},
   "outputs": [
    {
     "data": {
      "text/html": [
       "<div>\n",
       "<style scoped>\n",
       "    .dataframe tbody tr th:only-of-type {\n",
       "        vertical-align: middle;\n",
       "    }\n",
       "\n",
       "    .dataframe tbody tr th {\n",
       "        vertical-align: top;\n",
       "    }\n",
       "\n",
       "    .dataframe thead th {\n",
       "        text-align: right;\n",
       "    }\n",
       "</style>\n",
       "<table border=\"1\" class=\"dataframe\">\n",
       "  <thead>\n",
       "    <tr style=\"text-align: right;\">\n",
       "      <th></th>\n",
       "      <th>Train RMSE</th>\n",
       "      <th>Test RMSE</th>\n",
       "      <th>Hyperparameters</th>\n",
       "      <th>Training+Test Time(sec)</th>\n",
       "    </tr>\n",
       "    <tr>\n",
       "      <th>Modelling Algo</th>\n",
       "      <th></th>\n",
       "      <th></th>\n",
       "      <th></th>\n",
       "      <th></th>\n",
       "    </tr>\n",
       "  </thead>\n",
       "  <tbody>\n",
       "    <tr>\n",
       "      <th>Linear Regression</th>\n",
       "      <td>21.785403</td>\n",
       "      <td>22.659021</td>\n",
       "      <td></td>\n",
       "      <td>0.0664</td>\n",
       "    </tr>\n",
       "  </tbody>\n",
       "</table>\n",
       "</div>"
      ],
      "text/plain": [
       "                   Train RMSE  Test RMSE Hyperparameters  \\\n",
       "Modelling Algo                                             \n",
       "Linear Regression   21.785403  22.659021                   \n",
       "\n",
       "                  Training+Test Time(sec)  \n",
       "Modelling Algo                             \n",
       "Linear Regression                  0.0664  "
      ]
     },
     "execution_count": 235,
     "metadata": {},
     "output_type": "execute_result"
    }
   ],
   "source": [
    "algo_score.loc['Linear Regression', 'Training+Test Time(sec)'] = 0.0664\n",
    "cv_time.append(0.0664)\n",
    "algo_score"
   ]
  },
  {
   "cell_type": "code",
   "execution_count": 236,
   "metadata": {},
   "outputs": [],
   "source": [
    "# Features and the Estimated Linear Regression Coefficients\n",
    "df_coeff = pd.DataFrame({'features': X_train.columns, 'Lin_Coeff': reg.coef_})"
   ]
  },
  {
   "cell_type": "code",
   "execution_count": 237,
   "metadata": {},
   "outputs": [
    {
     "data": {
      "text/html": [
       "<div>\n",
       "<style scoped>\n",
       "    .dataframe tbody tr th:only-of-type {\n",
       "        vertical-align: middle;\n",
       "    }\n",
       "\n",
       "    .dataframe tbody tr th {\n",
       "        vertical-align: top;\n",
       "    }\n",
       "\n",
       "    .dataframe thead th {\n",
       "        text-align: right;\n",
       "    }\n",
       "</style>\n",
       "<table border=\"1\" class=\"dataframe\">\n",
       "  <thead>\n",
       "    <tr style=\"text-align: right;\">\n",
       "      <th></th>\n",
       "      <th>features</th>\n",
       "      <th>Lin_Coeff</th>\n",
       "    </tr>\n",
       "  </thead>\n",
       "  <tbody>\n",
       "    <tr>\n",
       "      <th>0</th>\n",
       "      <td>Week</td>\n",
       "      <td>0.064276</td>\n",
       "    </tr>\n",
       "    <tr>\n",
       "      <th>1</th>\n",
       "      <td>Weekday</td>\n",
       "      <td>-0.307444</td>\n",
       "    </tr>\n",
       "    <tr>\n",
       "      <th>2</th>\n",
       "      <td>Day</td>\n",
       "      <td>-0.002023</td>\n",
       "    </tr>\n",
       "    <tr>\n",
       "      <th>3</th>\n",
       "      <td>UnitPrice</td>\n",
       "      <td>-0.973563</td>\n",
       "    </tr>\n",
       "  </tbody>\n",
       "</table>\n",
       "</div>"
      ],
      "text/plain": [
       "    features  Lin_Coeff\n",
       "0       Week   0.064276\n",
       "1    Weekday  -0.307444\n",
       "2        Day  -0.002023\n",
       "3  UnitPrice  -0.973563"
      ]
     },
     "execution_count": 237,
     "metadata": {},
     "output_type": "execute_result"
    }
   ],
   "source": [
    "df_coeff"
   ]
  },
  {
   "attachments": {},
   "cell_type": "markdown",
   "metadata": {},
   "source": [
    "### Regularization Model - Ridge\n"
   ]
  },
  {
   "cell_type": "code",
   "execution_count": 238,
   "metadata": {},
   "outputs": [
    {
     "name": "stdout",
     "output_type": "stream",
     "text": [
      "CPU times: total: 922 ms\n",
      "Wall time: 1.67 s\n",
      "Best alpha for Ridge Regression Model: {'alpha': 100}\n"
     ]
    }
   ],
   "source": [
    "\n",
    "# Hyperparameter Tuning\n",
    "param_grid = {'alpha': [0.1, 0.2, 0.5, 1, 2, 5, 10, 20, 50, 100]}\n",
    "ridge = GridSearchCV(Ridge(random_state=42), param_grid, cv=5, scoring=rmse_cv)\n",
    "%time ridge.fit(X_train, y_train)\n",
    "print('Best alpha for Ridge Regression Model: {}'.format(ridge.best_params_))"
   ]
  },
  {
   "cell_type": "code",
   "execution_count": 239,
   "metadata": {},
   "outputs": [
    {
     "name": "stdout",
     "output_type": "stream",
     "text": [
      "CPU times: total: 984 ms\n",
      "Wall time: 1.31 s\n",
      "Best alpha for Ridge Regression Model: {'alpha': 145}\n"
     ]
    }
   ],
   "source": [
    "# Fine tune Hyperparameter for edge cases\n",
    "param_grid = {'alpha': np.arange(75,150,10)}\n",
    "ridge = GridSearchCV(Ridge(random_state=42), param_grid, cv=5, scoring=rmse_cv)\n",
    "%time ridge.fit(X_train, y_train)\n",
    "print('Best alpha for Ridge Regression Model: {}'.format(ridge.best_params_))"
   ]
  },
  {
   "cell_type": "code",
   "execution_count": 240,
   "metadata": {},
   "outputs": [
    {
     "name": "stdout",
     "output_type": "stream",
     "text": [
      "CPU times: total: 0 ns\n",
      "Wall time: 12.9 ms\n"
     ]
    }
   ],
   "source": [
    "param_summary = [ridge.best_params_,'']\n",
    "\n",
    "%time rmse_summary, y_predict_summary = model_fit(ridge, X_train, y_train, X_test, y_test)\n",
    "\n",
    "ypred_test['Ridge'] = y_predict_summary[1]  \n",
    "ypred_train['Ridge'] = y_predict_summary[0]\n",
    "\n",
    "algo_score.loc['Ridge Regression'] = rmse_summary+param_summary"
   ]
  },
  {
   "cell_type": "code",
   "execution_count": 241,
   "metadata": {},
   "outputs": [
    {
     "data": {
      "text/html": [
       "<div>\n",
       "<style scoped>\n",
       "    .dataframe tbody tr th:only-of-type {\n",
       "        vertical-align: middle;\n",
       "    }\n",
       "\n",
       "    .dataframe tbody tr th {\n",
       "        vertical-align: top;\n",
       "    }\n",
       "\n",
       "    .dataframe thead th {\n",
       "        text-align: right;\n",
       "    }\n",
       "</style>\n",
       "<table border=\"1\" class=\"dataframe\">\n",
       "  <thead>\n",
       "    <tr style=\"text-align: right;\">\n",
       "      <th></th>\n",
       "      <th>Train RMSE</th>\n",
       "      <th>Test RMSE</th>\n",
       "      <th>Hyperparameters</th>\n",
       "      <th>Training+Test Time(sec)</th>\n",
       "    </tr>\n",
       "    <tr>\n",
       "      <th>Modelling Algo</th>\n",
       "      <th></th>\n",
       "      <th></th>\n",
       "      <th></th>\n",
       "      <th></th>\n",
       "    </tr>\n",
       "  </thead>\n",
       "  <tbody>\n",
       "    <tr>\n",
       "      <th>Linear Regression</th>\n",
       "      <td>21.785403</td>\n",
       "      <td>22.659021</td>\n",
       "      <td></td>\n",
       "      <td>0.0664</td>\n",
       "    </tr>\n",
       "    <tr>\n",
       "      <th>Ridge Regression</th>\n",
       "      <td>21.785403</td>\n",
       "      <td>22.659026</td>\n",
       "      <td>{'alpha': 145}</td>\n",
       "      <td>0.0129</td>\n",
       "    </tr>\n",
       "  </tbody>\n",
       "</table>\n",
       "</div>"
      ],
      "text/plain": [
       "                   Train RMSE  Test RMSE Hyperparameters  \\\n",
       "Modelling Algo                                             \n",
       "Linear Regression   21.785403  22.659021                   \n",
       "Ridge Regression    21.785403  22.659026  {'alpha': 145}   \n",
       "\n",
       "                  Training+Test Time(sec)  \n",
       "Modelling Algo                             \n",
       "Linear Regression                  0.0664  \n",
       "Ridge Regression                   0.0129  "
      ]
     },
     "execution_count": 241,
     "metadata": {},
     "output_type": "execute_result"
    }
   ],
   "source": [
    "algo_score.loc['Ridge Regression', 'Training+Test Time(sec)'] = 0.0129 \n",
    "cv_time.append(0.0129)\n",
    "algo_score"
   ]
  },
  {
   "cell_type": "code",
   "execution_count": 242,
   "metadata": {},
   "outputs": [],
   "source": [
    "# Features and the Estimated Ridge Regression Coefficients\n",
    "df_coeff['Ridge_Coeff'] = ridge.best_estimator_.coef_"
   ]
  },
  {
   "cell_type": "code",
   "execution_count": 243,
   "metadata": {},
   "outputs": [],
   "source": [
    "df_ridge = pd.DataFrame({'features': X_train.columns, 'Lin_Coeff': ridge.best_estimator_.coef_})"
   ]
  },
  {
   "cell_type": "code",
   "execution_count": 244,
   "metadata": {},
   "outputs": [
    {
     "data": {
      "text/html": [
       "<div>\n",
       "<style scoped>\n",
       "    .dataframe tbody tr th:only-of-type {\n",
       "        vertical-align: middle;\n",
       "    }\n",
       "\n",
       "    .dataframe tbody tr th {\n",
       "        vertical-align: top;\n",
       "    }\n",
       "\n",
       "    .dataframe thead th {\n",
       "        text-align: right;\n",
       "    }\n",
       "</style>\n",
       "<table border=\"1\" class=\"dataframe\">\n",
       "  <thead>\n",
       "    <tr style=\"text-align: right;\">\n",
       "      <th></th>\n",
       "      <th>features</th>\n",
       "      <th>Lin_Coeff</th>\n",
       "    </tr>\n",
       "  </thead>\n",
       "  <tbody>\n",
       "    <tr>\n",
       "      <th>0</th>\n",
       "      <td>Week</td>\n",
       "      <td>0.064276</td>\n",
       "    </tr>\n",
       "    <tr>\n",
       "      <th>1</th>\n",
       "      <td>Weekday</td>\n",
       "      <td>-0.307416</td>\n",
       "    </tr>\n",
       "    <tr>\n",
       "      <th>2</th>\n",
       "      <td>Day</td>\n",
       "      <td>-0.002023</td>\n",
       "    </tr>\n",
       "    <tr>\n",
       "      <th>3</th>\n",
       "      <td>UnitPrice</td>\n",
       "      <td>-0.973550</td>\n",
       "    </tr>\n",
       "  </tbody>\n",
       "</table>\n",
       "</div>"
      ],
      "text/plain": [
       "    features  Lin_Coeff\n",
       "0       Week   0.064276\n",
       "1    Weekday  -0.307416\n",
       "2        Day  -0.002023\n",
       "3  UnitPrice  -0.973550"
      ]
     },
     "execution_count": 244,
     "metadata": {},
     "output_type": "execute_result"
    }
   ],
   "source": [
    "df_ridge"
   ]
  },
  {
   "attachments": {},
   "cell_type": "markdown",
   "metadata": {},
   "source": [
    "### Regularization Model - Lasso"
   ]
  },
  {
   "cell_type": "code",
   "execution_count": 245,
   "metadata": {},
   "outputs": [
    {
     "name": "stdout",
     "output_type": "stream",
     "text": [
      "CPU times: total: 7.19 s\n",
      "Wall time: 2.04 s\n",
      "Best alpha for Lasso Regression Model: {'alpha': 0.2}\n"
     ]
    }
   ],
   "source": [
    "# Hyperparameter Tuning\n",
    "param_grid = {'alpha': [0.1, 0.2, 0.5, 1, 2, 5, 10, 20, 50, 100]}\n",
    "lasso = GridSearchCV(Lasso(random_state=42), param_grid, cv=5, scoring=rmse_cv)\n",
    "%time lasso.fit(X_train, y_train)\n",
    "print('Best alpha for Lasso Regression Model: {}'.format(lasso.best_params_))"
   ]
  },
  {
   "cell_type": "code",
   "execution_count": 250,
   "metadata": {},
   "outputs": [
    {
     "name": "stdout",
     "output_type": "stream",
     "text": [
      "CPU times: total: 15.4 s\n",
      "Wall time: 4.93 s\n",
      "Best alpha for Lasso Regression Model: {'alpha': 0.24000000000000002}\n"
     ]
    }
   ],
   "source": [
    "# Fine tune Hyperparameter for edge case\n",
    "\n",
    "param_grid = {'alpha': np.arange(.01,.25,.01)}\n",
    "lasso = GridSearchCV(Lasso(random_state=42), param_grid, cv=5, scoring=rmse_cv)\n",
    "%time lasso.fit(X_train, y_train)\n",
    "print('Best alpha for Lasso Regression Model: {}'.format(lasso.best_params_))"
   ]
  },
  {
   "cell_type": "code",
   "execution_count": 251,
   "metadata": {},
   "outputs": [
    {
     "name": "stdout",
     "output_type": "stream",
     "text": [
      "CPU times: total: 0 ns\n",
      "Wall time: 11.1 ms\n"
     ]
    }
   ],
   "source": [
    "param_summary = [lasso.best_params_,'']\n",
    "\n",
    "%time rmse_summary, y_predict_summary = model_fit(lasso, X_train, y_train, X_test, y_test)\n",
    "ypred_test['Lasso'] = y_predict_summary[1]\n",
    "ypred_train['Lasso'] = y_predict_summary[0]\n",
    "\n",
    "algo_score.loc['Lasso Regression'] = rmse_summary+param_summary"
   ]
  },
  {
   "cell_type": "code",
   "execution_count": 253,
   "metadata": {},
   "outputs": [
    {
     "data": {
      "text/html": [
       "<div>\n",
       "<style scoped>\n",
       "    .dataframe tbody tr th:only-of-type {\n",
       "        vertical-align: middle;\n",
       "    }\n",
       "\n",
       "    .dataframe tbody tr th {\n",
       "        vertical-align: top;\n",
       "    }\n",
       "\n",
       "    .dataframe thead th {\n",
       "        text-align: right;\n",
       "    }\n",
       "</style>\n",
       "<table border=\"1\" class=\"dataframe\">\n",
       "  <thead>\n",
       "    <tr style=\"text-align: right;\">\n",
       "      <th></th>\n",
       "      <th>Train RMSE</th>\n",
       "      <th>Test RMSE</th>\n",
       "      <th>Hyperparameters</th>\n",
       "      <th>Training+Test Time(sec)</th>\n",
       "    </tr>\n",
       "    <tr>\n",
       "      <th>Modelling Algo</th>\n",
       "      <th></th>\n",
       "      <th></th>\n",
       "      <th></th>\n",
       "      <th></th>\n",
       "    </tr>\n",
       "  </thead>\n",
       "  <tbody>\n",
       "    <tr>\n",
       "      <th>Linear Regression</th>\n",
       "      <td>21.785403</td>\n",
       "      <td>22.659021</td>\n",
       "      <td></td>\n",
       "      <td>0.0664</td>\n",
       "    </tr>\n",
       "    <tr>\n",
       "      <th>Ridge Regression</th>\n",
       "      <td>21.785403</td>\n",
       "      <td>22.659026</td>\n",
       "      <td>{'alpha': 145}</td>\n",
       "      <td>0.0129</td>\n",
       "    </tr>\n",
       "    <tr>\n",
       "      <th>Lasso Regression</th>\n",
       "      <td>21.785848</td>\n",
       "      <td>22.664895</td>\n",
       "      <td>{'alpha': 0.24000000000000002}</td>\n",
       "      <td>0.0111</td>\n",
       "    </tr>\n",
       "  </tbody>\n",
       "</table>\n",
       "</div>"
      ],
      "text/plain": [
       "                   Train RMSE  Test RMSE                 Hyperparameters  \\\n",
       "Modelling Algo                                                             \n",
       "Linear Regression   21.785403  22.659021                                   \n",
       "Ridge Regression    21.785403  22.659026                  {'alpha': 145}   \n",
       "Lasso Regression    21.785848  22.664895  {'alpha': 0.24000000000000002}   \n",
       "\n",
       "                  Training+Test Time(sec)  \n",
       "Modelling Algo                             \n",
       "Linear Regression                  0.0664  \n",
       "Ridge Regression                   0.0129  \n",
       "Lasso Regression                   0.0111  "
      ]
     },
     "execution_count": 253,
     "metadata": {},
     "output_type": "execute_result"
    }
   ],
   "source": [
    "algo_score.loc['Lasso Regression', 'Training+Test Time(sec)'] = 0.0111 \n",
    "cv_time.append(0.0111)\n",
    "algo_score"
   ]
  },
  {
   "cell_type": "code",
   "execution_count": 254,
   "metadata": {},
   "outputs": [],
   "source": [
    "# Features and the Estimated Lasso Regression Coefficients\n",
    "df_coeff['Lasso_Coeff'] = lasso.best_estimator_.coef_\n"
   ]
  },
  {
   "cell_type": "code",
   "execution_count": 256,
   "metadata": {},
   "outputs": [],
   "source": [
    "df_laso = pd.DataFrame({'features': X_train.columns, 'Lin_Coeff': lasso.best_estimator_.coef_})"
   ]
  },
  {
   "cell_type": "code",
   "execution_count": 257,
   "metadata": {},
   "outputs": [
    {
     "data": {
      "text/html": [
       "<div>\n",
       "<style scoped>\n",
       "    .dataframe tbody tr th:only-of-type {\n",
       "        vertical-align: middle;\n",
       "    }\n",
       "\n",
       "    .dataframe tbody tr th {\n",
       "        vertical-align: top;\n",
       "    }\n",
       "\n",
       "    .dataframe thead th {\n",
       "        text-align: right;\n",
       "    }\n",
       "</style>\n",
       "<table border=\"1\" class=\"dataframe\">\n",
       "  <thead>\n",
       "    <tr style=\"text-align: right;\">\n",
       "      <th></th>\n",
       "      <th>features</th>\n",
       "      <th>Lin_Coeff</th>\n",
       "    </tr>\n",
       "  </thead>\n",
       "  <tbody>\n",
       "    <tr>\n",
       "      <th>0</th>\n",
       "      <td>Week</td>\n",
       "      <td>0.063167</td>\n",
       "    </tr>\n",
       "    <tr>\n",
       "      <th>1</th>\n",
       "      <td>Weekday</td>\n",
       "      <td>-0.240688</td>\n",
       "    </tr>\n",
       "    <tr>\n",
       "      <th>2</th>\n",
       "      <td>Day</td>\n",
       "      <td>-0.000000</td>\n",
       "    </tr>\n",
       "    <tr>\n",
       "      <th>3</th>\n",
       "      <td>UnitPrice</td>\n",
       "      <td>-0.962135</td>\n",
       "    </tr>\n",
       "  </tbody>\n",
       "</table>\n",
       "</div>"
      ],
      "text/plain": [
       "    features  Lin_Coeff\n",
       "0       Week   0.063167\n",
       "1    Weekday  -0.240688\n",
       "2        Day  -0.000000\n",
       "3  UnitPrice  -0.962135"
      ]
     },
     "execution_count": 257,
     "metadata": {},
     "output_type": "execute_result"
    }
   ],
   "source": [
    "df_laso"
   ]
  },
  {
   "cell_type": "code",
   "execution_count": 258,
   "metadata": {},
   "outputs": [
    {
     "data": {
      "text/plain": [
       "<matplotlib.legend.Legend at 0x1ebb7c3c7c0>"
      ]
     },
     "execution_count": 258,
     "metadata": {},
     "output_type": "execute_result"
    },
    {
     "data": {
      "image/png": "[encoded data removed]",
      "text/plain": [
       "<Figure size 1000x500 with 1 Axes>"
      ]
     },
     "metadata": {},
     "output_type": "display_data"
    }
   ],
   "source": [
    "fig = plt.figure(figsize=(10, 5))\n",
    "\n",
    "axes = fig.add_subplot(1, 1, 1)\n",
    "axes.plot(df_coeff.Lin_Coeff, label='Linear Regression', marker='*', markersize=15, color='green')\n",
    "axes.plot(df_coeff.Ridge_Coeff, label='Ridge Regression, alpha={}'.format(ridge.best_params_['alpha']), alpha=.5,marker='.', markersize=15, color='blue')\n",
    "axes.plot(df_coeff.Lasso_Coeff, label='Lasso Regression, alpha={}'.format(lasso.best_params_['alpha']), marker='.', markersize=15, color='orange')\n",
    "\n",
    "plt.xticks(range(len(df_coeff.Lin_Coeff)), df_coeff.features, rotation=90)\n",
    "axes.set(ylabel='Estimated Regression Coefficients', title='Coefficients for different models')\n",
    "axes.set(xlim=[-1, len(df_coeff.Lin_Coeff)])\n",
    "axes.legend()\n"
   ]
  },
  {
   "attachments": {},
   "cell_type": "markdown",
   "metadata": {},
   "source": [
    "### Ensemble Model - Random Forest\n"
   ]
  },
  {
   "cell_type": "code",
   "execution_count": 263,
   "metadata": {},
   "outputs": [
    {
     "name": "stdout",
     "output_type": "stream",
     "text": [
      "Fitting 2 folds for each of 1 candidates, totalling 2 fits\n",
      "[CV] END max_features=auto, min_samples_leaf=10, n_estimators=1000, n_jobs=-1; total time=  39.9s\n",
      "[CV] END max_features=auto, min_samples_leaf=10, n_estimators=1000, n_jobs=-1; total time=  34.9s\n",
      "CPU times: total: 15min 2s\n",
      "Wall time: 2min 36s\n"
     ]
    },
    {
     "data": {
      "text/html": [
       "<style>#sk-container-id-1 {color: black;background-color: white;}#sk-container-id-1 pre{padding: 0;}#sk-container-id-1 div.sk-toggleable {background-color: white;}#sk-container-id-1 label.sk-toggleable__label {cursor: pointer;display: block;width: 100%;margin-bottom: 0;padding: 0.3em;box-sizing: border-box;text-align: center;}#sk-container-id-1 label.sk-toggleable__label-arrow:before {content: \"▸\";float: left;margin-right: 0.25em;color: #696969;}#sk-container-id-1 label.sk-toggleable__label-arrow:hover:before {color: black;}#sk-container-id-1 div.sk-estimator:hover label.sk-toggleable__label-arrow:before {color: black;}#sk-container-id-1 div.sk-toggleable__content {max-height: 0;max-width: 0;overflow: hidden;text-align: left;background-color: #f0f8ff;}#sk-container-id-1 div.sk-toggleable__content pre {margin: 0.2em;color: black;border-radius: 0.25em;background-color: #f0f8ff;}#sk-container-id-1 input.sk-toggleable__control:checked~div.sk-toggleable__content {max-height: 200px;max-width: 100%;overflow: auto;}#sk-container-id-1 input.sk-toggleable__control:checked~label.sk-toggleable__label-arrow:before {content: \"▾\";}#sk-container-id-1 div.sk-estimator input.sk-toggleable__control:checked~label.sk-toggleable__label {background-color: #d4ebff;}#sk-container-id-1 div.sk-label input.sk-toggleable__control:checked~label.sk-toggleable__label {background-color: #d4ebff;}#sk-container-id-1 input.sk-hidden--visually {border: 0;clip: rect(1px 1px 1px 1px);clip: rect(1px, 1px, 1px, 1px);height: 1px;margin: -1px;overflow: hidden;padding: 0;position: absolute;width: 1px;}#sk-container-id-1 div.sk-estimator {font-family: monospace;background-color: #f0f8ff;border: 1px dotted black;border-radius: 0.25em;box-sizing: border-box;margin-bottom: 0.5em;}#sk-container-id-1 div.sk-estimator:hover {background-color: #d4ebff;}#sk-container-id-1 div.sk-parallel-item::after {content: \"\";width: 100%;border-bottom: 1px solid gray;flex-grow: 1;}#sk-container-id-1 div.sk-label:hover label.sk-toggleable__label {background-color: #d4ebff;}#sk-container-id-1 div.sk-serial::before {content: \"\";position: absolute;border-left: 1px solid gray;box-sizing: border-box;top: 0;bottom: 0;left: 50%;z-index: 0;}#sk-container-id-1 div.sk-serial {display: flex;flex-direction: column;align-items: center;background-color: white;padding-right: 0.2em;padding-left: 0.2em;position: relative;}#sk-container-id-1 div.sk-item {position: relative;z-index: 1;}#sk-container-id-1 div.sk-parallel {display: flex;align-items: stretch;justify-content: center;background-color: white;position: relative;}#sk-container-id-1 div.sk-item::before, #sk-container-id-1 div.sk-parallel-item::before {content: \"\";position: absolute;border-left: 1px solid gray;box-sizing: border-box;top: 0;bottom: 0;left: 50%;z-index: -1;}#sk-container-id-1 div.sk-parallel-item {display: flex;flex-direction: column;z-index: 1;position: relative;background-color: white;}#sk-container-id-1 div.sk-parallel-item:first-child::after {align-self: flex-end;width: 50%;}#sk-container-id-1 div.sk-parallel-item:last-child::after {align-self: flex-start;width: 50%;}#sk-container-id-1 div.sk-parallel-item:only-child::after {width: 0;}#sk-container-id-1 div.sk-dashed-wrapped {border: 1px dashed gray;margin: 0 0.4em 0.5em 0.4em;box-sizing: border-box;padding-bottom: 0.4em;background-color: white;}#sk-container-id-1 div.sk-label label {font-family: monospace;font-weight: bold;display: inline-block;line-height: 1.2em;}#sk-container-id-1 div.sk-label-container {text-align: center;}#sk-container-id-1 div.sk-container {/* jupyter's `normalize.less` sets `[hidden] { display: none; }` but bootstrap.min.css set `[hidden] { display: none !important; }` so we also need the `!important` here to be able to override the default hidden behavior on the sphinx rendered scikit-learn.org. See: https://github.com/scikit-learn/scikit-learn/issues/21755 */display: inline-block !important;position: relative;}#sk-container-id-1 div.sk-text-repr-fallback {display: none;}</style><div id=\"sk-container-id-1\" class=\"sk-top-container\"><div class=\"sk-text-repr-fallback\"><pre>RandomizedSearchCV(cv=2, estimator=RandomForestRegressor(random_state=42),\n",
       "                   n_iter=50,\n",
       "                   param_distributions={&#x27;max_features&#x27;: [&#x27;auto&#x27;],\n",
       "                                        &#x27;min_samples_leaf&#x27;: [10],\n",
       "                                        &#x27;n_estimators&#x27;: [1000],\n",
       "                                        &#x27;n_jobs&#x27;: [-1]},\n",
       "                   scoring=make_scorer(rmse, greater_is_better=False),\n",
       "                   verbose=2)</pre><b>In a Jupyter environment, please rerun this cell to show the HTML representation or trust the notebook. <br />On GitHub, the HTML representation is unable to render, please try loading this page with nbviewer.org.</b></div><div class=\"sk-container\" hidden><div class=\"sk-item sk-dashed-wrapped\"><div class=\"sk-label-container\"><div class=\"sk-label sk-toggleable\"><input class=\"sk-toggleable__control sk-hidden--visually\" id=\"sk-estimator-id-1\" type=\"checkbox\" ><label for=\"sk-estimator-id-1\" class=\"sk-toggleable__label sk-toggleable__label-arrow\">RandomizedSearchCV</label><div class=\"sk-toggleable__content\"><pre>RandomizedSearchCV(cv=2, estimator=RandomForestRegressor(random_state=42),\n",
       "                   n_iter=50,\n",
       "                   param_distributions={&#x27;max_features&#x27;: [&#x27;auto&#x27;],\n",
       "                                        &#x27;min_samples_leaf&#x27;: [10],\n",
       "                                        &#x27;n_estimators&#x27;: [1000],\n",
       "                                        &#x27;n_jobs&#x27;: [-1]},\n",
       "                   scoring=make_scorer(rmse, greater_is_better=False),\n",
       "                   verbose=2)</pre></div></div></div><div class=\"sk-parallel\"><div class=\"sk-parallel-item\"><div class=\"sk-item\"><div class=\"sk-label-container\"><div class=\"sk-label sk-toggleable\"><input class=\"sk-toggleable__control sk-hidden--visually\" id=\"sk-estimator-id-2\" type=\"checkbox\" ><label for=\"sk-estimator-id-2\" class=\"sk-toggleable__label sk-toggleable__label-arrow\">estimator: RandomForestRegressor</label><div class=\"sk-toggleable__content\"><pre>RandomForestRegressor(random_state=42)</pre></div></div></div><div class=\"sk-serial\"><div class=\"sk-item\"><div class=\"sk-estimator sk-toggleable\"><input class=\"sk-toggleable__control sk-hidden--visually\" id=\"sk-estimator-id-3\" type=\"checkbox\" ><label for=\"sk-estimator-id-3\" class=\"sk-toggleable__label sk-toggleable__label-arrow\">RandomForestRegressor</label><div class=\"sk-toggleable__content\"><pre>RandomForestRegressor(random_state=42)</pre></div></div></div></div></div></div></div></div></div></div>"
      ],
      "text/plain": [
       "RandomizedSearchCV(cv=2, estimator=RandomForestRegressor(random_state=42),\n",
       "                   n_iter=50,\n",
       "                   param_distributions={'max_features': ['auto'],\n",
       "                                        'min_samples_leaf': [10],\n",
       "                                        'n_estimators': [1000],\n",
       "                                        'n_jobs': [-1]},\n",
       "                   scoring=make_scorer(rmse, greater_is_better=False),\n",
       "                   verbose=2)"
      ]
     },
     "execution_count": 263,
     "metadata": {},
     "output_type": "execute_result"
    }
   ],
   "source": [
    "param_distributions = {'n_estimators': [1000], 'max_features':['auto'], 'min_samples_leaf':[10],'n_jobs':[-1]}\n",
    "rf_main = RandomizedSearchCV(RandomForestRegressor(random_state=42), param_distributions, verbose=2, n_iter = 50,cv=2, \n",
    "                             scoring=rmse_cv)\n",
    "%time rf_main.fit(X_train, y_train)"
   ]
  },
  {
   "cell_type": "code",
   "execution_count": 264,
   "metadata": {},
   "outputs": [
    {
     "name": "stdout",
     "output_type": "stream",
     "text": [
      "Best parameters for Random Forest Regression Model: {'n_jobs': -1, 'n_estimators': 1000, 'min_samples_leaf': 10, 'max_features': 'auto'}\n"
     ]
    }
   ],
   "source": [
    "print('Best parameters for Random Forest Regression Model: {}'.format(rf_main.best_params_))"
   ]
  },
  {
   "cell_type": "code",
   "execution_count": 265,
   "metadata": {},
   "outputs": [
    {
     "name": "stdout",
     "output_type": "stream",
     "text": [
      "CPU times: total: 1min 7s\n",
      "Wall time: 6.54 s\n"
     ]
    }
   ],
   "source": [
    "param_summary = [rf_main.best_params_,'']\n",
    "\n",
    "%time rmse_summary, y_predict_summary = model_fit(rf_main, X_train, y_train, X_test, y_test)\n",
    "ypred_test['RF'] = y_predict_summary[1]\n",
    "ypred_train['RF'] = y_predict_summary[0]\n",
    "\n",
    "algo_score.loc['Random Forest'] = rmse_summary+param_summary"
   ]
  },
  {
   "cell_type": "code",
   "execution_count": 281,
   "metadata": {},
   "outputs": [
    {
     "data": {
      "text/html": [
       "<div>\n",
       "<style scoped>\n",
       "    .dataframe tbody tr th:only-of-type {\n",
       "        vertical-align: middle;\n",
       "    }\n",
       "\n",
       "    .dataframe tbody tr th {\n",
       "        vertical-align: top;\n",
       "    }\n",
       "\n",
       "    .dataframe thead th {\n",
       "        text-align: right;\n",
       "    }\n",
       "</style>\n",
       "<table border=\"1\" class=\"dataframe\">\n",
       "  <thead>\n",
       "    <tr style=\"text-align: right;\">\n",
       "      <th></th>\n",
       "      <th>Train RMSE</th>\n",
       "      <th>Test RMSE</th>\n",
       "      <th>Hyperparameters</th>\n",
       "      <th>Training+Test Time(sec)</th>\n",
       "    </tr>\n",
       "    <tr>\n",
       "      <th>Modelling Algo</th>\n",
       "      <th></th>\n",
       "      <th></th>\n",
       "      <th></th>\n",
       "      <th></th>\n",
       "    </tr>\n",
       "  </thead>\n",
       "  <tbody>\n",
       "    <tr>\n",
       "      <th>Linear Regression</th>\n",
       "      <td>21.785403</td>\n",
       "      <td>22.659021</td>\n",
       "      <td></td>\n",
       "      <td>0.0664</td>\n",
       "    </tr>\n",
       "    <tr>\n",
       "      <th>Ridge Regression</th>\n",
       "      <td>21.785403</td>\n",
       "      <td>22.659026</td>\n",
       "      <td>{'alpha': 145}</td>\n",
       "      <td>0.0129</td>\n",
       "    </tr>\n",
       "    <tr>\n",
       "      <th>Lasso Regression</th>\n",
       "      <td>21.785848</td>\n",
       "      <td>22.664895</td>\n",
       "      <td>{'alpha': 0.24000000000000002}</td>\n",
       "      <td>0.0111</td>\n",
       "    </tr>\n",
       "    <tr>\n",
       "      <th>Random Forest</th>\n",
       "      <td>15.699580</td>\n",
       "      <td>20.106121</td>\n",
       "      <td>{'n_jobs': -1, 'n_estimators': 1000, 'min_samp...</td>\n",
       "      <td>6.54</td>\n",
       "    </tr>\n",
       "    <tr>\n",
       "      <th>Gradient Boost</th>\n",
       "      <td>19.107455</td>\n",
       "      <td>20.741177</td>\n",
       "      <td>{'n_estimators': 500, 'min_samples_split': 2, ...</td>\n",
       "      <td></td>\n",
       "    </tr>\n",
       "  </tbody>\n",
       "</table>\n",
       "</div>"
      ],
      "text/plain": [
       "                   Train RMSE  Test RMSE  \\\n",
       "Modelling Algo                             \n",
       "Linear Regression   21.785403  22.659021   \n",
       "Ridge Regression    21.785403  22.659026   \n",
       "Lasso Regression    21.785848  22.664895   \n",
       "Random Forest       15.699580  20.106121   \n",
       "Gradient Boost      19.107455  20.741177   \n",
       "\n",
       "                                                     Hyperparameters  \\\n",
       "Modelling Algo                                                         \n",
       "Linear Regression                                                      \n",
       "Ridge Regression                                      {'alpha': 145}   \n",
       "Lasso Regression                      {'alpha': 0.24000000000000002}   \n",
       "Random Forest      {'n_jobs': -1, 'n_estimators': 1000, 'min_samp...   \n",
       "Gradient Boost     {'n_estimators': 500, 'min_samples_split': 2, ...   \n",
       "\n",
       "                  Training+Test Time(sec)  \n",
       "Modelling Algo                             \n",
       "Linear Regression                  0.0664  \n",
       "Ridge Regression                   0.0129  \n",
       "Lasso Regression                   0.0111  \n",
       "Random Forest                        6.54  \n",
       "Gradient Boost                             "
      ]
     },
     "execution_count": 281,
     "metadata": {},
     "output_type": "execute_result"
    }
   ],
   "source": [
    "algo_score.loc['Random Forest', 'Training+Test Time(sec)'] = 6.54\n",
    "cv_time.append(6.54)\n",
    "algo_score"
   ]
  },
  {
   "cell_type": "code",
   "execution_count": 267,
   "metadata": {},
   "outputs": [
    {
     "data": {
      "text/html": [
       "<div>\n",
       "<style scoped>\n",
       "    .dataframe tbody tr th:only-of-type {\n",
       "        vertical-align: middle;\n",
       "    }\n",
       "\n",
       "    .dataframe tbody tr th {\n",
       "        vertical-align: top;\n",
       "    }\n",
       "\n",
       "    .dataframe thead th {\n",
       "        text-align: right;\n",
       "    }\n",
       "</style>\n",
       "<table border=\"1\" class=\"dataframe\">\n",
       "  <thead>\n",
       "    <tr style=\"text-align: right;\">\n",
       "      <th></th>\n",
       "      <th>mean_fit_time</th>\n",
       "      <th>std_fit_time</th>\n",
       "      <th>mean_score_time</th>\n",
       "      <th>std_score_time</th>\n",
       "      <th>param_n_jobs</th>\n",
       "      <th>param_n_estimators</th>\n",
       "      <th>param_min_samples_leaf</th>\n",
       "      <th>param_max_features</th>\n",
       "      <th>params</th>\n",
       "      <th>split0_test_score</th>\n",
       "      <th>split1_test_score</th>\n",
       "      <th>mean_test_score</th>\n",
       "      <th>std_test_score</th>\n",
       "      <th>rank_test_score</th>\n",
       "    </tr>\n",
       "  </thead>\n",
       "  <tbody>\n",
       "    <tr>\n",
       "      <th>0</th>\n",
       "      <td>34.943622</td>\n",
       "      <td>2.344723</td>\n",
       "      <td>2.578777</td>\n",
       "      <td>0.14713</td>\n",
       "      <td>-1</td>\n",
       "      <td>1000</td>\n",
       "      <td>10</td>\n",
       "      <td>auto</td>\n",
       "      <td>{'n_jobs': -1, 'n_estimators': 1000, 'min_samp...</td>\n",
       "      <td>-18.944959</td>\n",
       "      <td>-21.061582</td>\n",
       "      <td>-20.003271</td>\n",
       "      <td>1.058311</td>\n",
       "      <td>1</td>\n",
       "    </tr>\n",
       "  </tbody>\n",
       "</table>\n",
       "</div>"
      ],
      "text/plain": [
       "   mean_fit_time  std_fit_time  mean_score_time  std_score_time param_n_jobs  \\\n",
       "0      34.943622      2.344723         2.578777         0.14713           -1   \n",
       "\n",
       "  param_n_estimators param_min_samples_leaf param_max_features  \\\n",
       "0               1000                     10               auto   \n",
       "\n",
       "                                              params  split0_test_score  \\\n",
       "0  {'n_jobs': -1, 'n_estimators': 1000, 'min_samp...         -18.944959   \n",
       "\n",
       "   split1_test_score  mean_test_score  std_test_score  rank_test_score  \n",
       "0         -21.061582       -20.003271        1.058311                1  "
      ]
     },
     "execution_count": 267,
     "metadata": {},
     "output_type": "execute_result"
    }
   ],
   "source": [
    "rf_result=pd.DataFrame(rf_main.cv_results_)\n",
    "rf_result"
   ]
  },
  {
   "cell_type": "code",
   "execution_count": 268,
   "metadata": {},
   "outputs": [
    {
     "data": {
      "text/plain": [
       "param_n_estimators\n",
       "1000   -20.003271\n",
       "Name: mean_test_score, dtype: float64"
      ]
     },
     "execution_count": 268,
     "metadata": {},
     "output_type": "execute_result"
    }
   ],
   "source": [
    "est_score = rf_result.groupby('param_n_estimators')['mean_test_score'].mean()\n",
    "est_score"
   ]
  },
  {
   "cell_type": "code",
   "execution_count": null,
   "metadata": {},
   "outputs": [],
   "source": [
    "# fig=plt.figure(figsize=(18, 12))\n",
    "\n",
    "# axes=fig.add_subplot(2, 3, 1)\n",
    "# axes.plot(est_score.index, est_score.values, marker='.')\n",
    "# axes.set(xlabel='n_estimators', ylabel='Mean CV Test Score', title='n_estimators vs. Score (best_n_estimator = 500)')\n"
   ]
  },
  {
   "cell_type": "code",
   "execution_count": 271,
   "metadata": {},
   "outputs": [
    {
     "data": {
      "image/png": "[encoded data removed]",
      "text/plain": [
       "<Figure size 1800x800 with 1 Axes>"
      ]
     },
     "metadata": {},
     "output_type": "display_data"
    }
   ],
   "source": [
    "fig = plt.figure(figsize=(18, 8))\n",
    "axes = fig.add_subplot(1, 1, 1)\n",
    "axes.plot(rf_main.best_estimator_.feature_importances_, marker='.', markersize=15)\n",
    "plt.xticks(range(len(rf_main.best_estimator_.feature_importances_)), X_train.columns,rotation=90)\n",
    "axes.set(ylabel='Feature Importance', title='Feature Importance for Random Forest Regression')\n",
    "\n",
    "plt.show()\n"
   ]
  },
  {
   "attachments": {},
   "cell_type": "markdown",
   "metadata": {},
   "source": [
    "### Ensemble Model - Gradient Boost Regressor "
   ]
  },
  {
   "cell_type": "code",
   "execution_count": 278,
   "metadata": {},
   "outputs": [
    {
     "name": "stdout",
     "output_type": "stream",
     "text": [
      "Fitting 2 folds for each of 1 candidates, totalling 2 fits\n",
      "[CV] END learning_rate=0.01, max_features=auto, min_samples_leaf=10, min_samples_split=2, n_estimators=500; total time=  50.2s\n",
      "[CV] END learning_rate=0.01, max_features=auto, min_samples_leaf=10, min_samples_split=2, n_estimators=500; total time=  49.5s\n",
      "CPU times: total: 2min 18s\n",
      "Wall time: 3min 21s\n"
     ]
    },
    {
     "data": {
      "text/html": [
       "<style>#sk-container-id-3 {color: black;background-color: white;}#sk-container-id-3 pre{padding: 0;}#sk-container-id-3 div.sk-toggleable {background-color: white;}#sk-container-id-3 label.sk-toggleable__label {cursor: pointer;display: block;width: 100%;margin-bottom: 0;padding: 0.3em;box-sizing: border-box;text-align: center;}#sk-container-id-3 label.sk-toggleable__label-arrow:before {content: \"▸\";float: left;margin-right: 0.25em;color: #696969;}#sk-container-id-3 label.sk-toggleable__label-arrow:hover:before {color: black;}#sk-container-id-3 div.sk-estimator:hover label.sk-toggleable__label-arrow:before {color: black;}#sk-container-id-3 div.sk-toggleable__content {max-height: 0;max-width: 0;overflow: hidden;text-align: left;background-color: #f0f8ff;}#sk-container-id-3 div.sk-toggleable__content pre {margin: 0.2em;color: black;border-radius: 0.25em;background-color: #f0f8ff;}#sk-container-id-3 input.sk-toggleable__control:checked~div.sk-toggleable__content {max-height: 200px;max-width: 100%;overflow: auto;}#sk-container-id-3 input.sk-toggleable__control:checked~label.sk-toggleable__label-arrow:before {content: \"▾\";}#sk-container-id-3 div.sk-estimator input.sk-toggleable__control:checked~label.sk-toggleable__label {background-color: #d4ebff;}#sk-container-id-3 div.sk-label input.sk-toggleable__control:checked~label.sk-toggleable__label {background-color: #d4ebff;}#sk-container-id-3 input.sk-hidden--visually {border: 0;clip: rect(1px 1px 1px 1px);clip: rect(1px, 1px, 1px, 1px);height: 1px;margin: -1px;overflow: hidden;padding: 0;position: absolute;width: 1px;}#sk-container-id-3 div.sk-estimator {font-family: monospace;background-color: #f0f8ff;border: 1px dotted black;border-radius: 0.25em;box-sizing: border-box;margin-bottom: 0.5em;}#sk-container-id-3 div.sk-estimator:hover {background-color: #d4ebff;}#sk-container-id-3 div.sk-parallel-item::after {content: \"\";width: 100%;border-bottom: 1px solid gray;flex-grow: 1;}#sk-container-id-3 div.sk-label:hover label.sk-toggleable__label {background-color: #d4ebff;}#sk-container-id-3 div.sk-serial::before {content: \"\";position: absolute;border-left: 1px solid gray;box-sizing: border-box;top: 0;bottom: 0;left: 50%;z-index: 0;}#sk-container-id-3 div.sk-serial {display: flex;flex-direction: column;align-items: center;background-color: white;padding-right: 0.2em;padding-left: 0.2em;position: relative;}#sk-container-id-3 div.sk-item {position: relative;z-index: 1;}#sk-container-id-3 div.sk-parallel {display: flex;align-items: stretch;justify-content: center;background-color: white;position: relative;}#sk-container-id-3 div.sk-item::before, #sk-container-id-3 div.sk-parallel-item::before {content: \"\";position: absolute;border-left: 1px solid gray;box-sizing: border-box;top: 0;bottom: 0;left: 50%;z-index: -1;}#sk-container-id-3 div.sk-parallel-item {display: flex;flex-direction: column;z-index: 1;position: relative;background-color: white;}#sk-container-id-3 div.sk-parallel-item:first-child::after {align-self: flex-end;width: 50%;}#sk-container-id-3 div.sk-parallel-item:last-child::after {align-self: flex-start;width: 50%;}#sk-container-id-3 div.sk-parallel-item:only-child::after {width: 0;}#sk-container-id-3 div.sk-dashed-wrapped {border: 1px dashed gray;margin: 0 0.4em 0.5em 0.4em;box-sizing: border-box;padding-bottom: 0.4em;background-color: white;}#sk-container-id-3 div.sk-label label {font-family: monospace;font-weight: bold;display: inline-block;line-height: 1.2em;}#sk-container-id-3 div.sk-label-container {text-align: center;}#sk-container-id-3 div.sk-container {/* jupyter's `normalize.less` sets `[hidden] { display: none; }` but bootstrap.min.css set `[hidden] { display: none !important; }` so we also need the `!important` here to be able to override the default hidden behavior on the sphinx rendered scikit-learn.org. See: https://github.com/scikit-learn/scikit-learn/issues/21755 */display: inline-block !important;position: relative;}#sk-container-id-3 div.sk-text-repr-fallback {display: none;}</style><div id=\"sk-container-id-3\" class=\"sk-top-container\"><div class=\"sk-text-repr-fallback\"><pre>RandomizedSearchCV(cv=2, estimator=GradientBoostingRegressor(random_state=42),\n",
       "                   n_iter=100,\n",
       "                   param_distributions={&#x27;learning_rate&#x27;: [0.01],\n",
       "                                        &#x27;max_features&#x27;: [&#x27;auto&#x27;],\n",
       "                                        &#x27;min_samples_leaf&#x27;: [10],\n",
       "                                        &#x27;min_samples_split&#x27;: [2],\n",
       "                                        &#x27;n_estimators&#x27;: [500]},\n",
       "                   scoring=make_scorer(rmse, greater_is_better=False),\n",
       "                   verbose=2)</pre><b>In a Jupyter environment, please rerun this cell to show the HTML representation or trust the notebook. <br />On GitHub, the HTML representation is unable to render, please try loading this page with nbviewer.org.</b></div><div class=\"sk-container\" hidden><div class=\"sk-item sk-dashed-wrapped\"><div class=\"sk-label-container\"><div class=\"sk-label sk-toggleable\"><input class=\"sk-toggleable__control sk-hidden--visually\" id=\"sk-estimator-id-7\" type=\"checkbox\" ><label for=\"sk-estimator-id-7\" class=\"sk-toggleable__label sk-toggleable__label-arrow\">RandomizedSearchCV</label><div class=\"sk-toggleable__content\"><pre>RandomizedSearchCV(cv=2, estimator=GradientBoostingRegressor(random_state=42),\n",
       "                   n_iter=100,\n",
       "                   param_distributions={&#x27;learning_rate&#x27;: [0.01],\n",
       "                                        &#x27;max_features&#x27;: [&#x27;auto&#x27;],\n",
       "                                        &#x27;min_samples_leaf&#x27;: [10],\n",
       "                                        &#x27;min_samples_split&#x27;: [2],\n",
       "                                        &#x27;n_estimators&#x27;: [500]},\n",
       "                   scoring=make_scorer(rmse, greater_is_better=False),\n",
       "                   verbose=2)</pre></div></div></div><div class=\"sk-parallel\"><div class=\"sk-parallel-item\"><div class=\"sk-item\"><div class=\"sk-label-container\"><div class=\"sk-label sk-toggleable\"><input class=\"sk-toggleable__control sk-hidden--visually\" id=\"sk-estimator-id-8\" type=\"checkbox\" ><label for=\"sk-estimator-id-8\" class=\"sk-toggleable__label sk-toggleable__label-arrow\">estimator: GradientBoostingRegressor</label><div class=\"sk-toggleable__content\"><pre>GradientBoostingRegressor(random_state=42)</pre></div></div></div><div class=\"sk-serial\"><div class=\"sk-item\"><div class=\"sk-estimator sk-toggleable\"><input class=\"sk-toggleable__control sk-hidden--visually\" id=\"sk-estimator-id-9\" type=\"checkbox\" ><label for=\"sk-estimator-id-9\" class=\"sk-toggleable__label sk-toggleable__label-arrow\">GradientBoostingRegressor</label><div class=\"sk-toggleable__content\"><pre>GradientBoostingRegressor(random_state=42)</pre></div></div></div></div></div></div></div></div></div></div>"
      ],
      "text/plain": [
       "RandomizedSearchCV(cv=2, estimator=GradientBoostingRegressor(random_state=42),\n",
       "                   n_iter=100,\n",
       "                   param_distributions={'learning_rate': [0.01],\n",
       "                                        'max_features': ['auto'],\n",
       "                                        'min_samples_leaf': [10],\n",
       "                                        'min_samples_split': [2],\n",
       "                                        'n_estimators': [500]},\n",
       "                   scoring=make_scorer(rmse, greater_is_better=False),\n",
       "                   verbose=2)"
      ]
     },
     "execution_count": 278,
     "metadata": {},
     "output_type": "execute_result"
    }
   ],
   "source": [
    "\n",
    "param_distributions = {'n_estimators': [500], 'learning_rate':[0.01],'max_features':['auto'], 'min_samples_leaf':[10], 'min_samples_split':[2]}\n",
    "grad_boost = RandomizedSearchCV(GradientBoostingRegressor(random_state=42), param_distributions, verbose=2, n_iter = 100,cv=2, scoring=rmse_cv)\n",
    "%time grad_boost.fit(X_train, y_train)\n"
   ]
  },
  {
   "cell_type": "code",
   "execution_count": 279,
   "metadata": {},
   "outputs": [
    {
     "name": "stdout",
     "output_type": "stream",
     "text": [
      "Best parameters for Gradient Boost Model: {'n_estimators': 500, 'min_samples_split': 2, 'min_samples_leaf': 10, 'max_features': 'auto', 'learning_rate': 0.01}\n"
     ]
    }
   ],
   "source": [
    "print('Best parameters for Gradient Boost Model: {}'.format(grad_boost.best_params_))"
   ]
  },
  {
   "cell_type": "code",
   "execution_count": null,
   "metadata": {},
   "outputs": [],
   "source": [
    "# # Following code uses the best parameters generated above to fit the model\n",
    "\n",
    "# from sklearn.ensemble import GradientBoostingRegressor\n",
    "\n",
    "# param_distributions = {'n_estimators': [500], 'learning_rate':[0.01],'max_features':['sqrt'], 'min_samples_leaf':[10], 'max_depth':[60], 'min_samples_split':[2]}\n",
    "# grad_boost = RandomizedSearchCV(GradientBoostingRegressor(random_state=42), param_distributions, n_iter = 100,cv=2, scoring=rmse_cv)\n",
    "# %time grad_boost.fit(X_train, y_train)"
   ]
  },
  {
   "cell_type": "code",
   "execution_count": null,
   "metadata": {},
   "outputs": [],
   "source": [
    "# print('Best parameters for Gradient Boost Model: {}'.format(grad_boost.best_params_))"
   ]
  },
  {
   "cell_type": "code",
   "execution_count": 280,
   "metadata": {},
   "outputs": [
    {
     "name": "stdout",
     "output_type": "stream",
     "text": [
      "CPU times: total: 1.39 s\n",
      "Wall time: 2.57 s\n"
     ]
    }
   ],
   "source": [
    "param_summary = [grad_boost.best_params_,'']\n",
    "\n",
    "%time rmse_summary, y_predict_summary = model_fit(grad_boost, X_train, y_train, X_test, y_test)\n",
    "ypred_test['GB'] = y_predict_summary[1]\n",
    "ypred_train['GB'] = y_predict_summary[0]\n",
    "\n",
    "algo_score.loc['Gradient Boost'] = rmse_summary+param_summary"
   ]
  },
  {
   "cell_type": "code",
   "execution_count": 282,
   "metadata": {},
   "outputs": [
    {
     "data": {
      "text/html": [
       "<div>\n",
       "<style scoped>\n",
       "    .dataframe tbody tr th:only-of-type {\n",
       "        vertical-align: middle;\n",
       "    }\n",
       "\n",
       "    .dataframe tbody tr th {\n",
       "        vertical-align: top;\n",
       "    }\n",
       "\n",
       "    .dataframe thead th {\n",
       "        text-align: right;\n",
       "    }\n",
       "</style>\n",
       "<table border=\"1\" class=\"dataframe\">\n",
       "  <thead>\n",
       "    <tr style=\"text-align: right;\">\n",
       "      <th></th>\n",
       "      <th>Train RMSE</th>\n",
       "      <th>Test RMSE</th>\n",
       "      <th>Hyperparameters</th>\n",
       "      <th>Training+Test Time(sec)</th>\n",
       "    </tr>\n",
       "    <tr>\n",
       "      <th>Modelling Algo</th>\n",
       "      <th></th>\n",
       "      <th></th>\n",
       "      <th></th>\n",
       "      <th></th>\n",
       "    </tr>\n",
       "  </thead>\n",
       "  <tbody>\n",
       "    <tr>\n",
       "      <th>Linear Regression</th>\n",
       "      <td>21.785403</td>\n",
       "      <td>22.659021</td>\n",
       "      <td></td>\n",
       "      <td>0.0664</td>\n",
       "    </tr>\n",
       "    <tr>\n",
       "      <th>Ridge Regression</th>\n",
       "      <td>21.785403</td>\n",
       "      <td>22.659026</td>\n",
       "      <td>{'alpha': 145}</td>\n",
       "      <td>0.0129</td>\n",
       "    </tr>\n",
       "    <tr>\n",
       "      <th>Lasso Regression</th>\n",
       "      <td>21.785848</td>\n",
       "      <td>22.664895</td>\n",
       "      <td>{'alpha': 0.24000000000000002}</td>\n",
       "      <td>0.0111</td>\n",
       "    </tr>\n",
       "    <tr>\n",
       "      <th>Random Forest</th>\n",
       "      <td>15.699580</td>\n",
       "      <td>20.106121</td>\n",
       "      <td>{'n_jobs': -1, 'n_estimators': 1000, 'min_samp...</td>\n",
       "      <td>6.54</td>\n",
       "    </tr>\n",
       "    <tr>\n",
       "      <th>Gradient Boost</th>\n",
       "      <td>19.107455</td>\n",
       "      <td>20.741177</td>\n",
       "      <td>{'n_estimators': 500, 'min_samples_split': 2, ...</td>\n",
       "      <td>2.57</td>\n",
       "    </tr>\n",
       "  </tbody>\n",
       "</table>\n",
       "</div>"
      ],
      "text/plain": [
       "                   Train RMSE  Test RMSE  \\\n",
       "Modelling Algo                             \n",
       "Linear Regression   21.785403  22.659021   \n",
       "Ridge Regression    21.785403  22.659026   \n",
       "Lasso Regression    21.785848  22.664895   \n",
       "Random Forest       15.699580  20.106121   \n",
       "Gradient Boost      19.107455  20.741177   \n",
       "\n",
       "                                                     Hyperparameters  \\\n",
       "Modelling Algo                                                         \n",
       "Linear Regression                                                      \n",
       "Ridge Regression                                      {'alpha': 145}   \n",
       "Lasso Regression                      {'alpha': 0.24000000000000002}   \n",
       "Random Forest      {'n_jobs': -1, 'n_estimators': 1000, 'min_samp...   \n",
       "Gradient Boost     {'n_estimators': 500, 'min_samples_split': 2, ...   \n",
       "\n",
       "                  Training+Test Time(sec)  \n",
       "Modelling Algo                             \n",
       "Linear Regression                  0.0664  \n",
       "Ridge Regression                   0.0129  \n",
       "Lasso Regression                   0.0111  \n",
       "Random Forest                        6.54  \n",
       "Gradient Boost                       2.57  "
      ]
     },
     "execution_count": 282,
     "metadata": {},
     "output_type": "execute_result"
    }
   ],
   "source": [
    "algo_score.loc['Gradient Boost', 'Training+Test Time(sec)'] = 2.57 \n",
    "cv_time.append(2.57)\n",
    "algo_score\n",
    "# TAKE CARE: Ensemble algorithms take more time "
   ]
  },
  {
   "cell_type": "code",
   "execution_count": null,
   "metadata": {},
   "outputs": [],
   "source": [
    "# gb_result=pd.DataFrame(grad_boost.cv_results_)\n",
    "# gb_result"
   ]
  },
  {
   "cell_type": "code",
   "execution_count": null,
   "metadata": {},
   "outputs": [],
   "source": [
    "# gb_score = gb_result.groupby('param_n_estimators')['mean_test_score'].mean()\n",
    "# gb_score"
   ]
  },
  {
   "cell_type": "code",
   "execution_count": null,
   "metadata": {},
   "outputs": [],
   "source": [
    "# fig=plt.figure(figsize=(18, 12))\n",
    "\n",
    "# axes=fig.add_subplot(2, 3, 1)\n",
    "# axes.plot(gb_score.index, gb_score.values, marker='.')\n",
    "# axes.set(xlabel='n_estimators', ylabel='Mean CV Test Score', title='n_estimators vs. Score (best_n_estimator = 500)')\n"
   ]
  },
  {
   "cell_type": "code",
   "execution_count": 283,
   "metadata": {},
   "outputs": [
    {
     "data": {
      "image/png": "[encoded data removed]",
      "text/plain": [
       "<Figure size 1800x800 with 1 Axes>"
      ]
     },
     "metadata": {},
     "output_type": "display_data"
    }
   ],
   "source": [
    "fig = plt.figure(figsize=(18, 8))\n",
    "axes = fig.add_subplot(1, 1, 1)\n",
    "axes.plot(grad_boost.best_estimator_.feature_importances_, marker='.', markersize=15)\n",
    "plt.xticks(range(len(grad_boost.best_estimator_.feature_importances_)), X_train.columns,rotation=90)\n",
    "axes.set(ylabel='Feature Importance', title='Feature Importance for Gradient Boost Regressor')\n",
    "# axes.set(xlim=[-1, len(X_train.columns)], ylim=[0, 1])\n",
    "\n",
    "plt.show()\n"
   ]
  },
  {
   "attachments": {},
   "cell_type": "markdown",
   "metadata": {},
   "source": [
    "### XGBoost 🤯"
   ]
  },
  {
   "cell_type": "code",
   "execution_count": 342,
   "metadata": {},
   "outputs": [
    {
     "name": "stdout",
     "output_type": "stream",
     "text": [
      "CPU times: total: 2.05 s\n",
      "Wall time: 179 ms\n"
     ]
    }
   ],
   "source": [
    "xgb_model = xgb.XGBRegressor(gamma=0.4, learning_rate=0.2, max_depth=4, n_estimators=200, subsample=0.4)\n",
    "xgb_model.fit(X_train, y_train)\n",
    "%time rmse_summary, y_predict_summary = model_fit(xgb_model, X_train, y_train, X_test, y_test)\n",
    "\n",
    "ypred_test['XG'] = y_predict_summary[1]\n",
    "ypred_train['XG'] = y_predict_summary[0]\n",
    "\n",
    "algo_score.loc['XGBoost'] = rmse_summary+param_summary"
   ]
  },
  {
   "cell_type": "code",
   "execution_count": 344,
   "metadata": {},
   "outputs": [
    {
     "data": {
      "text/html": [
       "<div>\n",
       "<style scoped>\n",
       "    .dataframe tbody tr th:only-of-type {\n",
       "        vertical-align: middle;\n",
       "    }\n",
       "\n",
       "    .dataframe tbody tr th {\n",
       "        vertical-align: top;\n",
       "    }\n",
       "\n",
       "    .dataframe thead th {\n",
       "        text-align: right;\n",
       "    }\n",
       "</style>\n",
       "<table border=\"1\" class=\"dataframe\">\n",
       "  <thead>\n",
       "    <tr style=\"text-align: right;\">\n",
       "      <th></th>\n",
       "      <th>Train RMSE</th>\n",
       "      <th>Test RMSE</th>\n",
       "      <th>Hyperparameters</th>\n",
       "      <th>Training+Test Time(sec)</th>\n",
       "    </tr>\n",
       "    <tr>\n",
       "      <th>Modelling Algo</th>\n",
       "      <th></th>\n",
       "      <th></th>\n",
       "      <th></th>\n",
       "      <th></th>\n",
       "    </tr>\n",
       "  </thead>\n",
       "  <tbody>\n",
       "    <tr>\n",
       "      <th>Linear Regression</th>\n",
       "      <td>21.785403</td>\n",
       "      <td>22.659021</td>\n",
       "      <td></td>\n",
       "      <td>0.0664</td>\n",
       "    </tr>\n",
       "    <tr>\n",
       "      <th>Ridge Regression</th>\n",
       "      <td>21.785403</td>\n",
       "      <td>22.659026</td>\n",
       "      <td>{'alpha': 145}</td>\n",
       "      <td>0.0129</td>\n",
       "    </tr>\n",
       "    <tr>\n",
       "      <th>Lasso Regression</th>\n",
       "      <td>21.785848</td>\n",
       "      <td>22.664895</td>\n",
       "      <td>{'alpha': 0.24000000000000002}</td>\n",
       "      <td>0.0111</td>\n",
       "    </tr>\n",
       "    <tr>\n",
       "      <th>Random Forest</th>\n",
       "      <td>15.699580</td>\n",
       "      <td>20.106121</td>\n",
       "      <td>{'n_jobs': -1, 'n_estimators': 1000, 'min_samp...</td>\n",
       "      <td>6.54</td>\n",
       "    </tr>\n",
       "    <tr>\n",
       "      <th>Gradient Boost</th>\n",
       "      <td>19.107455</td>\n",
       "      <td>20.741177</td>\n",
       "      <td>{'n_estimators': 500, 'min_samples_split': 2, ...</td>\n",
       "      <td>2.57</td>\n",
       "    </tr>\n",
       "    <tr>\n",
       "      <th>XGBoost</th>\n",
       "      <td>17.476463</td>\n",
       "      <td>20.464415</td>\n",
       "      <td>{'n_estimators': 500, 'min_samples_split': 2, ...</td>\n",
       "      <td>0.179</td>\n",
       "    </tr>\n",
       "  </tbody>\n",
       "</table>\n",
       "</div>"
      ],
      "text/plain": [
       "                   Train RMSE  Test RMSE  \\\n",
       "Modelling Algo                             \n",
       "Linear Regression   21.785403  22.659021   \n",
       "Ridge Regression    21.785403  22.659026   \n",
       "Lasso Regression    21.785848  22.664895   \n",
       "Random Forest       15.699580  20.106121   \n",
       "Gradient Boost      19.107455  20.741177   \n",
       "XGBoost             17.476463  20.464415   \n",
       "\n",
       "                                                     Hyperparameters  \\\n",
       "Modelling Algo                                                         \n",
       "Linear Regression                                                      \n",
       "Ridge Regression                                      {'alpha': 145}   \n",
       "Lasso Regression                      {'alpha': 0.24000000000000002}   \n",
       "Random Forest      {'n_jobs': -1, 'n_estimators': 1000, 'min_samp...   \n",
       "Gradient Boost     {'n_estimators': 500, 'min_samples_split': 2, ...   \n",
       "XGBoost            {'n_estimators': 500, 'min_samples_split': 2, ...   \n",
       "\n",
       "                  Training+Test Time(sec)  \n",
       "Modelling Algo                             \n",
       "Linear Regression                  0.0664  \n",
       "Ridge Regression                   0.0129  \n",
       "Lasso Regression                   0.0111  \n",
       "Random Forest                        6.54  \n",
       "Gradient Boost                       2.57  \n",
       "XGBoost                             0.179  "
      ]
     },
     "execution_count": 344,
     "metadata": {},
     "output_type": "execute_result"
    }
   ],
   "source": [
    "algo_score.loc['XGBoost', 'Training+Test Time(sec)'] = 0.179\n",
    "cv_time.append(0.179)\n",
    "algo_score"
   ]
  },
  {
   "attachments": {},
   "cell_type": "markdown",
   "metadata": {},
   "source": [
    "# Summary"
   ]
  },
  {
   "cell_type": "code",
   "execution_count": 345,
   "metadata": {},
   "outputs": [
    {
     "data": {
      "image/png": "[encoded data removed]",
      "text/plain": [
       "<Figure size 1000x600 with 1 Axes>"
      ]
     },
     "metadata": {},
     "output_type": "display_data"
    }
   ],
   "source": [
    "fig=plt.figure(figsize=(10, 6))\n",
    "axes=fig.add_subplot(1, 1, 1)\n",
    "bar_width = 0.3\n",
    "idx = np.array(range(algo_score.shape[0]))\n",
    "labels = algo_score.index\n",
    "plt.bar(data=algo_score, height='Train RMSE', x=idx, color='g', width=bar_width, label='Training Data')\n",
    "plt.bar(data=algo_score, height='Test RMSE', x=idx+bar_width, color='b', width=bar_width, label='Test Data')\n",
    "plt.xticks(idx, labels, rotation=90)\n",
    "plt.xlabel('Modelling Algorithms')\n",
    "plt.ylabel('RMSE')\n",
    "plt.title('Average RMSE for different Modelling Algorithms')\n",
    "plt.legend()\n",
    "plt.show()"
   ]
  },
  {
   "cell_type": "code",
   "execution_count": 346,
   "metadata": {},
   "outputs": [
    {
     "data": {
      "image/png": "[encoded data removed]",
      "text/plain": [
       "<Figure size 1000x600 with 1 Axes>"
      ]
     },
     "metadata": {},
     "output_type": "display_data"
    }
   ],
   "source": [
    "fig=plt.figure(figsize=(10, 6))\n",
    "axes=fig.add_subplot(1, 1, 1)\n",
    "bar_width = 0.3\n",
    "idx = np.array(range(algo_score.shape[0]))\n",
    "labels = algo_score.index\n",
    "plt.bar(data=algo_score, height='Training+Test Time(sec)', x=idx, color='g', width=bar_width, label='Training Data')\n",
    "plt.xticks(idx, labels, rotation=90)\n",
    "plt.xlabel('Modelling Algorithms')\n",
    "plt.ylabel('RMSE')#\n",
    "plt.title('Average RMSE for different Modelling Algorithms')\n",
    "plt.legend()\n",
    "plt.show()"
   ]
  }
 ],
 "metadata": {
  "kernelspec": {
   "display_name": "env1",
   "language": "python",
   "name": "python3"
  },
  "language_info": {
   "codemirror_mode": {
    "name": "ipython",
    "version": 3
   },
   "file_extension": ".py",
   "mimetype": "text/x-python",
   "name": "python",
   "nbconvert_exporter": "python",
   "pygments_lexer": "ipython3",
   "version": "3.10.9"
  },
  "orig_nbformat": 4
 },
 "nbformat": 4,
 "nbformat_minor": 2
}
