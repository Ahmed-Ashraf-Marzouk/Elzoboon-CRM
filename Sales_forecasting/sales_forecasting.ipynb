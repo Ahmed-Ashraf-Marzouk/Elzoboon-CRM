{
 "cells": [
  {
   "cell_type": "code",
   "execution_count": 1,
   "metadata": {},
   "outputs": [],
   "source": [
    "                                            #---- Data warehousing ----#\n",
    "#                                                 ----------------\n",
    "#-----\n",
    "import pandas as pd #reading and writing csv files  \n",
    "import numpy as np # dealing with arrays \n",
    "import seaborn as sns # for advanced graphs \n",
    "import matplotlib.pyplot as plt # for traditional graphs \n",
    "from scipy import stats\n",
    "from sklearn.linear_model import LinearRegression\n",
    "from sklearn.metrics import mean_squared_error\n",
    "from sklearn.model_selection import train_test_split\n",
    "from sklearn.metrics import make_scorer\n",
    "from sklearn.model_selection import cross_val_predict\n",
    "from sklearn.linear_model import Ridge\n",
    "from sklearn.linear_model import Lasso\n",
    "from sklearn.ensemble import RandomForestRegressor\n",
    "from sklearn.ensemble import GradientBoostingRegressor\n",
    "from sklearn.model_selection import RandomizedSearchCV\n",
    "from sklearn.model_selection import GridSearchCV\n",
    "\n",
    "import warnings\n",
    "warnings.filterwarnings('ignore')\n",
    "                                            #---- Machine learning ----#\n",
    "#                                                 ----------------\n",
    "\n",
    "# draw matplotlib graphs inline \n",
    "%matplotlib inline\n",
    "sns.set_style(\"whitegrid\") # configuration for seaborn library"
   ]
  },
  {
   "cell_type": "code",
   "execution_count": null,
   "metadata": {},
   "outputs": [],
   "source": [
    "orders = pd.read_excel('../ex_retail2_forecasting_data.xlsx')"
   ]
  },
  {
   "cell_type": "code",
   "execution_count": null,
   "metadata": {},
   "outputs": [],
   "source": [
    "orders.drop(['Unnamed: 0'],\n",
    "            axis=1,inplace=True)"
   ]
  },
  {
   "cell_type": "code",
   "execution_count": null,
   "metadata": {},
   "outputs": [
    {
     "data": {
      "text/html": [
       "<div>\n",
       "<style scoped>\n",
       "    .dataframe tbody tr th:only-of-type {\n",
       "        vertical-align: middle;\n",
       "    }\n",
       "\n",
       "    .dataframe tbody tr th {\n",
       "        vertical-align: top;\n",
       "    }\n",
       "\n",
       "    .dataframe thead th {\n",
       "        text-align: right;\n",
       "    }\n",
       "</style>\n",
       "<table border=\"1\" class=\"dataframe\">\n",
       "  <thead>\n",
       "    <tr style=\"text-align: right;\">\n",
       "      <th></th>\n",
       "      <th>InvoiceDate</th>\n",
       "      <th>StockCode</th>\n",
       "      <th>Quantity</th>\n",
       "      <th>TotalPrice</th>\n",
       "      <th>Week</th>\n",
       "      <th>Weekday</th>\n",
       "      <th>Day</th>\n",
       "      <th>UnitPrice</th>\n",
       "    </tr>\n",
       "  </thead>\n",
       "  <tbody>\n",
       "    <tr>\n",
       "      <th>0</th>\n",
       "      <td>2009-12-01</td>\n",
       "      <td>10002</td>\n",
       "      <td>12</td>\n",
       "      <td>10.20</td>\n",
       "      <td>49</td>\n",
       "      <td>1</td>\n",
       "      <td>1</td>\n",
       "      <td>0.850000</td>\n",
       "    </tr>\n",
       "    <tr>\n",
       "      <th>1</th>\n",
       "      <td>2009-12-01</td>\n",
       "      <td>10120</td>\n",
       "      <td>60</td>\n",
       "      <td>12.60</td>\n",
       "      <td>49</td>\n",
       "      <td>1</td>\n",
       "      <td>1</td>\n",
       "      <td>0.210000</td>\n",
       "    </tr>\n",
       "    <tr>\n",
       "      <th>2</th>\n",
       "      <td>2009-12-01</td>\n",
       "      <td>10125</td>\n",
       "      <td>5</td>\n",
       "      <td>5.10</td>\n",
       "      <td>49</td>\n",
       "      <td>1</td>\n",
       "      <td>1</td>\n",
       "      <td>1.020000</td>\n",
       "    </tr>\n",
       "    <tr>\n",
       "      <th>3</th>\n",
       "      <td>2009-12-01</td>\n",
       "      <td>10133</td>\n",
       "      <td>23</td>\n",
       "      <td>26.35</td>\n",
       "      <td>49</td>\n",
       "      <td>1</td>\n",
       "      <td>1</td>\n",
       "      <td>1.145652</td>\n",
       "    </tr>\n",
       "    <tr>\n",
       "      <th>4</th>\n",
       "      <td>2009-12-01</td>\n",
       "      <td>11001</td>\n",
       "      <td>2</td>\n",
       "      <td>6.86</td>\n",
       "      <td>49</td>\n",
       "      <td>1</td>\n",
       "      <td>1</td>\n",
       "      <td>3.430000</td>\n",
       "    </tr>\n",
       "  </tbody>\n",
       "</table>\n",
       "</div>"
      ],
      "text/plain": [
       "  InvoiceDate StockCode  Quantity  TotalPrice  Week  Weekday  Day  UnitPrice\n",
       "0  2009-12-01     10002        12       10.20    49        1    1   0.850000\n",
       "1  2009-12-01     10120        60       12.60    49        1    1   0.210000\n",
       "2  2009-12-01     10125         5        5.10    49        1    1   1.020000\n",
       "3  2009-12-01     10133        23       26.35    49        1    1   1.145652\n",
       "4  2009-12-01     11001         2        6.86    49        1    1   3.430000"
      ]
     },
     "execution_count": 6,
     "metadata": {},
     "output_type": "execute_result"
    }
   ],
   "source": [
    "orders.head()"
   ]
  },
  {
   "cell_type": "code",
   "execution_count": null,
   "metadata": {},
   "outputs": [],
   "source": []
  },
  {
   "cell_type": "code",
   "execution_count": null,
   "metadata": {},
   "outputs": [
    {
     "name": "stdout",
     "output_type": "stream",
     "text": [
      "<class 'pandas.core.frame.DataFrame'>\n",
      "RangeIndex: 1037173 entries, 0 to 1037172\n",
      "Data columns (total 11 columns):\n",
      " #   Column        Non-Null Count    Dtype  \n",
      "---  ------        --------------    -----  \n",
      " 0   Unnamed: 0.1  1037173 non-null  int64  \n",
      " 1   Unnamed: 0    1037173 non-null  int64  \n",
      " 2   InvoiceNo     1037173 non-null  int64  \n",
      " 3   StockCode     1037173 non-null  object \n",
      " 4   Description   1037173 non-null  object \n",
      " 5   Quantity      1037173 non-null  int64  \n",
      " 6   InvoiceDate   1037173 non-null  object \n",
      " 7   UnitPrice     1037173 non-null  float64\n",
      " 8   CustomerID    801565 non-null   float64\n",
      " 9   Country       1037173 non-null  object \n",
      " 10  TotalPrice    1037173 non-null  float64\n",
      "dtypes: float64(3), int64(4), object(4)\n",
      "memory usage: 87.0+ MB\n"
     ]
    }
   ],
   "source": [
    "orders.info()"
   ]
  },
  {
   "cell_type": "code",
   "execution_count": null,
   "metadata": {},
   "outputs": [],
   "source": [
    "orders_t = orders"
   ]
  },
  {
   "cell_type": "code",
   "execution_count": null,
   "metadata": {},
   "outputs": [
    {
     "name": "stdout",
     "output_type": "stream",
     "text": [
      "<class 'pandas.core.frame.DataFrame'>\n",
      "RangeIndex: 1037173 entries, 0 to 1037172\n",
      "Data columns (total 11 columns):\n",
      " #   Column        Non-Null Count    Dtype  \n",
      "---  ------        --------------    -----  \n",
      " 0   Unnamed: 0.1  1037173 non-null  int64  \n",
      " 1   Unnamed: 0    1037173 non-null  int64  \n",
      " 2   InvoiceNo     1037173 non-null  int64  \n",
      " 3   StockCode     1037173 non-null  object \n",
      " 4   Description   1037173 non-null  object \n",
      " 5   Quantity      1037173 non-null  int64  \n",
      " 6   InvoiceDate   1037173 non-null  object \n",
      " 7   UnitPrice     1037173 non-null  float64\n",
      " 8   CustomerID    801565 non-null   float64\n",
      " 9   Country       1037173 non-null  object \n",
      " 10  TotalPrice    1037173 non-null  float64\n",
      "dtypes: float64(3), int64(4), object(4)\n",
      "memory usage: 87.0+ MB\n"
     ]
    }
   ],
   "source": [
    "orders.InvoiceNo = pd.to_numeric(orders.InvoiceNo)\n",
    "orders.info()"
   ]
  },
  {
   "cell_type": "code",
   "execution_count": null,
   "metadata": {},
   "outputs": [],
   "source": [
    "# Convert InvoiceDate to datetime object\n",
    "orders.InvoiceDate = pd.to_datetime(orders.InvoiceDate)\n",
    "\n",
    "# Truncate the minutes part of datetime object\n",
    "orders['InvoiceDate'] = orders.InvoiceDate.dt.date"
   ]
  },
  {
   "cell_type": "code",
   "execution_count": null,
   "metadata": {},
   "outputs": [
    {
     "name": "stdout",
     "output_type": "stream",
     "text": [
      "Empty DataFrame\n",
      "Columns: [Unnamed: 0.1, Unnamed: 0, InvoiceNo, StockCode, Description, Quantity, InvoiceDate, UnitPrice, CustomerID, Country, TotalPrice]\n",
      "Index: []\n",
      "Empty DataFrame\n",
      "Columns: [Unnamed: 0.1, Unnamed: 0, InvoiceNo, StockCode, Description, Quantity, InvoiceDate, UnitPrice, CustomerID, Country, TotalPrice]\n",
      "Index: []\n"
     ]
    }
   ],
   "source": [
    "# Confirm all cancelled orders have negative TotalPrice and Quantity\n",
    "# orders['InvoiceNo'] = orders['InvoiceNo'].astype(str)\n",
    "\n",
    "print(orders[(orders.InvoiceNo.str.startswith('C')) & (orders.TotalPrice<0)])\n",
    "print(orders[(orders.InvoiceNo.str.startswith('C')) & (orders.Quantity<0)])"
   ]
  },
  {
   "cell_type": "code",
   "execution_count": null,
   "metadata": {},
   "outputs": [],
   "source": [
    "orders.drop(['Unnamed: 0.1', 'Unnamed: 0', 'InvoiceNo', 'CustomerID','Country','Description','UnitPrice'],\n",
    "            axis=1,inplace=True)"
   ]
  },
  {
   "cell_type": "code",
   "execution_count": null,
   "metadata": {},
   "outputs": [],
   "source": [
    "orders.drop(['Unnamed: 0.1', 'Unnamed: 0'], axis=1,inplace=True)"
   ]
  },
  {
   "cell_type": "code",
   "execution_count": null,
   "metadata": {},
   "outputs": [
    {
     "data": {
      "text/html": [
       "<div>\n",
       "<style scoped>\n",
       "    .dataframe tbody tr th:only-of-type {\n",
       "        vertical-align: middle;\n",
       "    }\n",
       "\n",
       "    .dataframe tbody tr th {\n",
       "        vertical-align: top;\n",
       "    }\n",
       "\n",
       "    .dataframe thead th {\n",
       "        text-align: right;\n",
       "    }\n",
       "</style>\n",
       "<table border=\"1\" class=\"dataframe\">\n",
       "  <thead>\n",
       "    <tr style=\"text-align: right;\">\n",
       "      <th></th>\n",
       "      <th>InvoiceDate</th>\n",
       "      <th>StockCode</th>\n",
       "      <th>Quantity</th>\n",
       "      <th>TotalPrice</th>\n",
       "      <th>Year</th>\n",
       "      <th>Quarter</th>\n",
       "      <th>Month</th>\n",
       "      <th>Week</th>\n",
       "      <th>Weekday</th>\n",
       "      <th>Day</th>\n",
       "      <th>Dayofyear</th>\n",
       "      <th>UnitPrice</th>\n",
       "    </tr>\n",
       "  </thead>\n",
       "  <tbody>\n",
       "    <tr>\n",
       "      <th>0</th>\n",
       "      <td>2009-12-01</td>\n",
       "      <td>10002</td>\n",
       "      <td>12</td>\n",
       "      <td>10.20</td>\n",
       "      <td>2009</td>\n",
       "      <td>4</td>\n",
       "      <td>12</td>\n",
       "      <td>49</td>\n",
       "      <td>1</td>\n",
       "      <td>1</td>\n",
       "      <td>335</td>\n",
       "      <td>0.850000</td>\n",
       "    </tr>\n",
       "    <tr>\n",
       "      <th>1</th>\n",
       "      <td>2009-12-01</td>\n",
       "      <td>10120</td>\n",
       "      <td>60</td>\n",
       "      <td>12.60</td>\n",
       "      <td>2009</td>\n",
       "      <td>4</td>\n",
       "      <td>12</td>\n",
       "      <td>49</td>\n",
       "      <td>1</td>\n",
       "      <td>1</td>\n",
       "      <td>335</td>\n",
       "      <td>0.210000</td>\n",
       "    </tr>\n",
       "    <tr>\n",
       "      <th>2</th>\n",
       "      <td>2009-12-01</td>\n",
       "      <td>10125</td>\n",
       "      <td>5</td>\n",
       "      <td>5.10</td>\n",
       "      <td>2009</td>\n",
       "      <td>4</td>\n",
       "      <td>12</td>\n",
       "      <td>49</td>\n",
       "      <td>1</td>\n",
       "      <td>1</td>\n",
       "      <td>335</td>\n",
       "      <td>1.020000</td>\n",
       "    </tr>\n",
       "    <tr>\n",
       "      <th>3</th>\n",
       "      <td>2009-12-01</td>\n",
       "      <td>10133</td>\n",
       "      <td>23</td>\n",
       "      <td>26.35</td>\n",
       "      <td>2009</td>\n",
       "      <td>4</td>\n",
       "      <td>12</td>\n",
       "      <td>49</td>\n",
       "      <td>1</td>\n",
       "      <td>1</td>\n",
       "      <td>335</td>\n",
       "      <td>1.145652</td>\n",
       "    </tr>\n",
       "    <tr>\n",
       "      <th>4</th>\n",
       "      <td>2009-12-01</td>\n",
       "      <td>11001</td>\n",
       "      <td>2</td>\n",
       "      <td>6.86</td>\n",
       "      <td>2009</td>\n",
       "      <td>4</td>\n",
       "      <td>12</td>\n",
       "      <td>49</td>\n",
       "      <td>1</td>\n",
       "      <td>1</td>\n",
       "      <td>335</td>\n",
       "      <td>3.430000</td>\n",
       "    </tr>\n",
       "  </tbody>\n",
       "</table>\n",
       "</div>"
      ],
      "text/plain": [
       "  InvoiceDate StockCode  Quantity  TotalPrice  Year  Quarter  Month  Week  \\\n",
       "0  2009-12-01     10002        12       10.20  2009        4     12    49   \n",
       "1  2009-12-01     10120        60       12.60  2009        4     12    49   \n",
       "2  2009-12-01     10125         5        5.10  2009        4     12    49   \n",
       "3  2009-12-01     10133        23       26.35  2009        4     12    49   \n",
       "4  2009-12-01     11001         2        6.86  2009        4     12    49   \n",
       "\n",
       "   Weekday  Day  Dayofyear  UnitPrice  \n",
       "0        1    1        335   0.850000  \n",
       "1        1    1        335   0.210000  \n",
       "2        1    1        335   1.020000  \n",
       "3        1    1        335   1.145652  \n",
       "4        1    1        335   3.430000  "
      ]
     },
     "execution_count": 45,
     "metadata": {},
     "output_type": "execute_result"
    }
   ],
   "source": [
    "orders.head()"
   ]
  },
  {
   "cell_type": "code",
   "execution_count": null,
   "metadata": {},
   "outputs": [],
   "source": [
    "orders = orders.groupby(['InvoiceDate', 'StockCode'], as_index=False).sum()"
   ]
  },
  {
   "cell_type": "code",
   "execution_count": null,
   "metadata": {},
   "outputs": [
    {
     "data": {
      "text/html": [
       "<div>\n",
       "<style scoped>\n",
       "    .dataframe tbody tr th:only-of-type {\n",
       "        vertical-align: middle;\n",
       "    }\n",
       "\n",
       "    .dataframe tbody tr th {\n",
       "        vertical-align: top;\n",
       "    }\n",
       "\n",
       "    .dataframe thead th {\n",
       "        text-align: right;\n",
       "    }\n",
       "</style>\n",
       "<table border=\"1\" class=\"dataframe\">\n",
       "  <thead>\n",
       "    <tr style=\"text-align: right;\">\n",
       "      <th></th>\n",
       "      <th>InvoiceDate</th>\n",
       "      <th>StockCode</th>\n",
       "      <th>Quantity</th>\n",
       "      <th>TotalPrice</th>\n",
       "    </tr>\n",
       "  </thead>\n",
       "  <tbody>\n",
       "    <tr>\n",
       "      <th>0</th>\n",
       "      <td>2009-12-01</td>\n",
       "      <td>10002</td>\n",
       "      <td>12</td>\n",
       "      <td>10.20</td>\n",
       "    </tr>\n",
       "    <tr>\n",
       "      <th>1</th>\n",
       "      <td>2009-12-01</td>\n",
       "      <td>10120</td>\n",
       "      <td>60</td>\n",
       "      <td>12.60</td>\n",
       "    </tr>\n",
       "    <tr>\n",
       "      <th>2</th>\n",
       "      <td>2009-12-01</td>\n",
       "      <td>10125</td>\n",
       "      <td>5</td>\n",
       "      <td>5.10</td>\n",
       "    </tr>\n",
       "    <tr>\n",
       "      <th>3</th>\n",
       "      <td>2009-12-01</td>\n",
       "      <td>10133</td>\n",
       "      <td>23</td>\n",
       "      <td>26.35</td>\n",
       "    </tr>\n",
       "    <tr>\n",
       "      <th>4</th>\n",
       "      <td>2009-12-01</td>\n",
       "      <td>11001</td>\n",
       "      <td>2</td>\n",
       "      <td>6.86</td>\n",
       "    </tr>\n",
       "    <tr>\n",
       "      <th>...</th>\n",
       "      <td>...</td>\n",
       "      <td>...</td>\n",
       "      <td>...</td>\n",
       "      <td>...</td>\n",
       "    </tr>\n",
       "    <tr>\n",
       "      <th>95</th>\n",
       "      <td>2009-12-01</td>\n",
       "      <td>20830</td>\n",
       "      <td>3</td>\n",
       "      <td>6.30</td>\n",
       "    </tr>\n",
       "    <tr>\n",
       "      <th>96</th>\n",
       "      <td>2009-12-01</td>\n",
       "      <td>20831</td>\n",
       "      <td>3</td>\n",
       "      <td>6.30</td>\n",
       "    </tr>\n",
       "    <tr>\n",
       "      <th>97</th>\n",
       "      <td>2009-12-01</td>\n",
       "      <td>20832</td>\n",
       "      <td>1</td>\n",
       "      <td>1.70</td>\n",
       "    </tr>\n",
       "    <tr>\n",
       "      <th>98</th>\n",
       "      <td>2009-12-01</td>\n",
       "      <td>20863</td>\n",
       "      <td>1</td>\n",
       "      <td>4.30</td>\n",
       "    </tr>\n",
       "    <tr>\n",
       "      <th>99</th>\n",
       "      <td>2009-12-01</td>\n",
       "      <td>20865</td>\n",
       "      <td>2</td>\n",
       "      <td>8.60</td>\n",
       "    </tr>\n",
       "  </tbody>\n",
       "</table>\n",
       "<p>100 rows × 4 columns</p>\n",
       "</div>"
      ],
      "text/plain": [
       "   InvoiceDate StockCode  Quantity  TotalPrice\n",
       "0   2009-12-01     10002        12       10.20\n",
       "1   2009-12-01     10120        60       12.60\n",
       "2   2009-12-01     10125         5        5.10\n",
       "3   2009-12-01     10133        23       26.35\n",
       "4   2009-12-01     11001         2        6.86\n",
       "..         ...       ...       ...         ...\n",
       "95  2009-12-01     20830         3        6.30\n",
       "96  2009-12-01     20831         3        6.30\n",
       "97  2009-12-01     20832         1        1.70\n",
       "98  2009-12-01     20863         1        4.30\n",
       "99  2009-12-01     20865         2        8.60\n",
       "\n",
       "[100 rows x 4 columns]"
      ]
     },
     "execution_count": 34,
     "metadata": {},
     "output_type": "execute_result"
    }
   ],
   "source": [
    "orders.head(100)"
   ]
  },
  {
   "cell_type": "code",
   "execution_count": null,
   "metadata": {},
   "outputs": [],
   "source": [
    "orders.InvoiceDate = pd.to_datetime(orders.InvoiceDate)"
   ]
  },
  {
   "cell_type": "code",
   "execution_count": null,
   "metadata": {},
   "outputs": [
    {
     "name": "stderr",
     "output_type": "stream",
     "text": [
      "C:\\Users\\pc\\AppData\\Local\\Temp\\ipykernel_24528\\180242656.py:4: FutureWarning: Series.dt.weekofyear and Series.dt.week have been deprecated. Please use Series.dt.isocalendar().week instead.\n",
      "  orders['Week'] = orders.InvoiceDate.dt.week\n"
     ]
    }
   ],
   "source": [
    "orders['Year'] = orders.InvoiceDate.dt.year\n",
    "orders['Quarter'] = orders.InvoiceDate.dt.quarter\n",
    "orders['Month'] = orders.InvoiceDate.dt.month\n",
    "orders['Week'] = orders.InvoiceDate.dt.week\n",
    "orders['Weekday'] = orders.InvoiceDate.dt.weekday\n",
    "orders['Day'] = orders.InvoiceDate.dt.day\n",
    "orders['Dayofyear'] = orders.InvoiceDate.dt.dayofyear\n",
    "orders['UnitPrice'] = orders.TotalPrice/orders.Quantity"
   ]
  },
  {
   "cell_type": "code",
   "execution_count": null,
   "metadata": {},
   "outputs": [
    {
     "name": "stdout",
     "output_type": "stream",
     "text": [
      "<class 'pandas.core.frame.DataFrame'>\n",
      "RangeIndex: 530447 entries, 0 to 530446\n",
      "Data columns (total 12 columns):\n",
      " #   Column       Non-Null Count   Dtype         \n",
      "---  ------       --------------   -----         \n",
      " 0   InvoiceDate  530447 non-null  datetime64[ns]\n",
      " 1   StockCode    530447 non-null  object        \n",
      " 2   Quantity     530447 non-null  int64         \n",
      " 3   TotalPrice   530447 non-null  float64       \n",
      " 4   Year         530447 non-null  int64         \n",
      " 5   Quarter      530447 non-null  int64         \n",
      " 6   Month        530447 non-null  int64         \n",
      " 7   Week         530447 non-null  int64         \n",
      " 8   Weekday      530447 non-null  int64         \n",
      " 9   Day          530447 non-null  int64         \n",
      " 10  Dayofyear    530447 non-null  int64         \n",
      " 11  UnitPrice    530447 non-null  float64       \n",
      "dtypes: datetime64[ns](1), float64(2), int64(8), object(1)\n",
      "memory usage: 48.6+ MB\n"
     ]
    }
   ],
   "source": [
    "orders.info()"
   ]
  },
  {
   "cell_type": "code",
   "execution_count": null,
   "metadata": {},
   "outputs": [
    {
     "data": {
      "text/html": [
       "<div>\n",
       "<style scoped>\n",
       "    .dataframe tbody tr th:only-of-type {\n",
       "        vertical-align: middle;\n",
       "    }\n",
       "\n",
       "    .dataframe tbody tr th {\n",
       "        vertical-align: top;\n",
       "    }\n",
       "\n",
       "    .dataframe thead th {\n",
       "        text-align: right;\n",
       "    }\n",
       "</style>\n",
       "<table border=\"1\" class=\"dataframe\">\n",
       "  <thead>\n",
       "    <tr style=\"text-align: right;\">\n",
       "      <th></th>\n",
       "      <th>Quantity</th>\n",
       "      <th>TotalPrice</th>\n",
       "      <th>Year</th>\n",
       "      <th>Quarter</th>\n",
       "      <th>Month</th>\n",
       "      <th>Week</th>\n",
       "      <th>Weekday</th>\n",
       "      <th>Day</th>\n",
       "      <th>Dayofyear</th>\n",
       "      <th>UnitPrice</th>\n",
       "    </tr>\n",
       "  </thead>\n",
       "  <tbody>\n",
       "    <tr>\n",
       "      <th>count</th>\n",
       "      <td>530447.000000</td>\n",
       "      <td>530447.000000</td>\n",
       "      <td>530447.000000</td>\n",
       "      <td>530447.000000</td>\n",
       "      <td>530447.000000</td>\n",
       "      <td>530447.000000</td>\n",
       "      <td>530447.000000</td>\n",
       "      <td>530447.00000</td>\n",
       "      <td>530447.000000</td>\n",
       "      <td>530447.000000</td>\n",
       "    </tr>\n",
       "    <tr>\n",
       "      <th>mean</th>\n",
       "      <td>19.586815</td>\n",
       "      <td>34.436133</td>\n",
       "      <td>2010.439303</td>\n",
       "      <td>2.679548</td>\n",
       "      <td>7.067911</td>\n",
       "      <td>28.619148</td>\n",
       "      <td>2.517865</td>\n",
       "      <td>15.32725</td>\n",
       "      <td>199.125375</td>\n",
       "      <td>3.495316</td>\n",
       "    </tr>\n",
       "    <tr>\n",
       "      <th>std</th>\n",
       "      <td>64.059863</td>\n",
       "      <td>71.381389</td>\n",
       "      <td>0.573044</td>\n",
       "      <td>1.145581</td>\n",
       "      <td>3.504972</td>\n",
       "      <td>15.205946</td>\n",
       "      <td>1.897490</td>\n",
       "      <td>8.62127</td>\n",
       "      <td>106.153333</td>\n",
       "      <td>8.090734</td>\n",
       "    </tr>\n",
       "    <tr>\n",
       "      <th>min</th>\n",
       "      <td>1.000000</td>\n",
       "      <td>0.001000</td>\n",
       "      <td>2009.000000</td>\n",
       "      <td>1.000000</td>\n",
       "      <td>1.000000</td>\n",
       "      <td>1.000000</td>\n",
       "      <td>0.000000</td>\n",
       "      <td>1.00000</td>\n",
       "      <td>4.000000</td>\n",
       "      <td>0.001000</td>\n",
       "    </tr>\n",
       "    <tr>\n",
       "      <th>25%</th>\n",
       "      <td>2.000000</td>\n",
       "      <td>5.800000</td>\n",
       "      <td>2010.000000</td>\n",
       "      <td>2.000000</td>\n",
       "      <td>4.000000</td>\n",
       "      <td>15.000000</td>\n",
       "      <td>1.000000</td>\n",
       "      <td>8.00000</td>\n",
       "      <td>106.000000</td>\n",
       "      <td>1.250000</td>\n",
       "    </tr>\n",
       "    <tr>\n",
       "      <th>50%</th>\n",
       "      <td>6.000000</td>\n",
       "      <td>15.000000</td>\n",
       "      <td>2010.000000</td>\n",
       "      <td>3.000000</td>\n",
       "      <td>7.000000</td>\n",
       "      <td>30.000000</td>\n",
       "      <td>2.000000</td>\n",
       "      <td>15.00000</td>\n",
       "      <td>208.000000</td>\n",
       "      <td>2.100000</td>\n",
       "    </tr>\n",
       "    <tr>\n",
       "      <th>75%</th>\n",
       "      <td>18.000000</td>\n",
       "      <td>32.750000</td>\n",
       "      <td>2011.000000</td>\n",
       "      <td>4.000000</td>\n",
       "      <td>10.000000</td>\n",
       "      <td>43.000000</td>\n",
       "      <td>4.000000</td>\n",
       "      <td>23.00000</td>\n",
       "      <td>297.000000</td>\n",
       "      <td>4.130000</td>\n",
       "    </tr>\n",
       "    <tr>\n",
       "      <th>max</th>\n",
       "      <td>7128.000000</td>\n",
       "      <td>3996.760000</td>\n",
       "      <td>2011.000000</td>\n",
       "      <td>4.000000</td>\n",
       "      <td>12.000000</td>\n",
       "      <td>52.000000</td>\n",
       "      <td>6.000000</td>\n",
       "      <td>31.00000</td>\n",
       "      <td>357.000000</td>\n",
       "      <td>604.120000</td>\n",
       "    </tr>\n",
       "  </tbody>\n",
       "</table>\n",
       "</div>"
      ],
      "text/plain": [
       "            Quantity     TotalPrice           Year        Quarter  \\\n",
       "count  530447.000000  530447.000000  530447.000000  530447.000000   \n",
       "mean       19.586815      34.436133    2010.439303       2.679548   \n",
       "std        64.059863      71.381389       0.573044       1.145581   \n",
       "min         1.000000       0.001000    2009.000000       1.000000   \n",
       "25%         2.000000       5.800000    2010.000000       2.000000   \n",
       "50%         6.000000      15.000000    2010.000000       3.000000   \n",
       "75%        18.000000      32.750000    2011.000000       4.000000   \n",
       "max      7128.000000    3996.760000    2011.000000       4.000000   \n",
       "\n",
       "               Month           Week        Weekday           Day  \\\n",
       "count  530447.000000  530447.000000  530447.000000  530447.00000   \n",
       "mean        7.067911      28.619148       2.517865      15.32725   \n",
       "std         3.504972      15.205946       1.897490       8.62127   \n",
       "min         1.000000       1.000000       0.000000       1.00000   \n",
       "25%         4.000000      15.000000       1.000000       8.00000   \n",
       "50%         7.000000      30.000000       2.000000      15.00000   \n",
       "75%        10.000000      43.000000       4.000000      23.00000   \n",
       "max        12.000000      52.000000       6.000000      31.00000   \n",
       "\n",
       "           Dayofyear      UnitPrice  \n",
       "count  530447.000000  530447.000000  \n",
       "mean      199.125375       3.495316  \n",
       "std       106.153333       8.090734  \n",
       "min         4.000000       0.001000  \n",
       "25%       106.000000       1.250000  \n",
       "50%       208.000000       2.100000  \n",
       "75%       297.000000       4.130000  \n",
       "max       357.000000     604.120000  "
      ]
     },
     "execution_count": 47,
     "metadata": {},
     "output_type": "execute_result"
    }
   ],
   "source": [
    "orders.describe()"
   ]
  },
  {
   "cell_type": "code",
   "execution_count": null,
   "metadata": {},
   "outputs": [],
   "source": [
    "# Drop rows with negative Quantity\n",
    "\n",
    "orders = orders.drop(orders[orders.Quantity<=0].index).reset_index(drop=True)\n",
    "orders = orders.drop(orders[orders.TotalPrice<=0].index).reset_index(drop=True)\n",
    "\n",
    "# Removing outliers in Quantity and TotalPrice\n",
    "orders = orders[(np.abs(stats.zscore(orders.Quantity)) < 3)]\n",
    "orders = orders[(np.abs(stats.zscore(orders.TotalPrice)) < 3)]"
   ]
  },
  {
   "cell_type": "code",
   "execution_count": null,
   "metadata": {},
   "outputs": [
    {
     "name": "stdout",
     "output_type": "stream",
     "text": [
      "<class 'pandas.core.frame.DataFrame'>\n",
      "Int64Index: 515720 entries, 0 to 530446\n",
      "Data columns (total 12 columns):\n",
      " #   Column       Non-Null Count   Dtype         \n",
      "---  ------       --------------   -----         \n",
      " 0   InvoiceDate  515720 non-null  datetime64[ns]\n",
      " 1   StockCode    515720 non-null  object        \n",
      " 2   Quantity     515720 non-null  int64         \n",
      " 3   TotalPrice   515720 non-null  float64       \n",
      " 4   Year         515720 non-null  int64         \n",
      " 5   Quarter      515720 non-null  int64         \n",
      " 6   Month        515720 non-null  int64         \n",
      " 7   Week         515720 non-null  int64         \n",
      " 8   Weekday      515720 non-null  int64         \n",
      " 9   Day          515720 non-null  int64         \n",
      " 10  Dayofyear    515720 non-null  int64         \n",
      " 11  UnitPrice    515720 non-null  float64       \n",
      "dtypes: datetime64[ns](1), float64(2), int64(8), object(1)\n",
      "memory usage: 51.2+ MB\n"
     ]
    }
   ],
   "source": [
    "orders.info()"
   ]
  },
  {
   "cell_type": "code",
   "execution_count": null,
   "metadata": {},
   "outputs": [
    {
     "data": {
      "text/html": [
       "<div>\n",
       "<style scoped>\n",
       "    .dataframe tbody tr th:only-of-type {\n",
       "        vertical-align: middle;\n",
       "    }\n",
       "\n",
       "    .dataframe tbody tr th {\n",
       "        vertical-align: top;\n",
       "    }\n",
       "\n",
       "    .dataframe thead th {\n",
       "        text-align: right;\n",
       "    }\n",
       "</style>\n",
       "<table border=\"1\" class=\"dataframe\">\n",
       "  <thead>\n",
       "    <tr style=\"text-align: right;\">\n",
       "      <th></th>\n",
       "      <th>Quantity</th>\n",
       "      <th>TotalPrice</th>\n",
       "      <th>Year</th>\n",
       "      <th>Quarter</th>\n",
       "      <th>Month</th>\n",
       "      <th>Week</th>\n",
       "      <th>Weekday</th>\n",
       "      <th>Day</th>\n",
       "      <th>Dayofyear</th>\n",
       "      <th>UnitPrice</th>\n",
       "    </tr>\n",
       "  </thead>\n",
       "  <tbody>\n",
       "    <tr>\n",
       "      <th>count</th>\n",
       "      <td>515720.000000</td>\n",
       "      <td>515720.000000</td>\n",
       "      <td>515720.000000</td>\n",
       "      <td>515720.000000</td>\n",
       "      <td>515720.000000</td>\n",
       "      <td>515720.000000</td>\n",
       "      <td>515720.000000</td>\n",
       "      <td>515720.000000</td>\n",
       "      <td>515720.000000</td>\n",
       "      <td>515720.000000</td>\n",
       "    </tr>\n",
       "    <tr>\n",
       "      <th>mean</th>\n",
       "      <td>14.311580</td>\n",
       "      <td>25.566179</td>\n",
       "      <td>2010.440148</td>\n",
       "      <td>2.674352</td>\n",
       "      <td>7.050419</td>\n",
       "      <td>28.543382</td>\n",
       "      <td>2.527317</td>\n",
       "      <td>15.338787</td>\n",
       "      <td>198.604000</td>\n",
       "      <td>3.327203</td>\n",
       "    </tr>\n",
       "    <tr>\n",
       "      <th>std</th>\n",
       "      <td>22.386213</td>\n",
       "      <td>32.923020</td>\n",
       "      <td>0.573039</td>\n",
       "      <td>1.145600</td>\n",
       "      <td>3.503978</td>\n",
       "      <td>15.203342</td>\n",
       "      <td>1.903652</td>\n",
       "      <td>8.622299</td>\n",
       "      <td>106.138109</td>\n",
       "      <td>4.698653</td>\n",
       "    </tr>\n",
       "    <tr>\n",
       "      <th>min</th>\n",
       "      <td>1.000000</td>\n",
       "      <td>0.001000</td>\n",
       "      <td>2009.000000</td>\n",
       "      <td>1.000000</td>\n",
       "      <td>1.000000</td>\n",
       "      <td>1.000000</td>\n",
       "      <td>0.000000</td>\n",
       "      <td>1.000000</td>\n",
       "      <td>4.000000</td>\n",
       "      <td>0.001000</td>\n",
       "    </tr>\n",
       "    <tr>\n",
       "      <th>25%</th>\n",
       "      <td>2.000000</td>\n",
       "      <td>5.100000</td>\n",
       "      <td>2010.000000</td>\n",
       "      <td>2.000000</td>\n",
       "      <td>4.000000</td>\n",
       "      <td>15.000000</td>\n",
       "      <td>1.000000</td>\n",
       "      <td>8.000000</td>\n",
       "      <td>105.000000</td>\n",
       "      <td>1.250000</td>\n",
       "    </tr>\n",
       "    <tr>\n",
       "      <th>50%</th>\n",
       "      <td>6.000000</td>\n",
       "      <td>14.850000</td>\n",
       "      <td>2010.000000</td>\n",
       "      <td>3.000000</td>\n",
       "      <td>7.000000</td>\n",
       "      <td>30.000000</td>\n",
       "      <td>2.000000</td>\n",
       "      <td>15.000000</td>\n",
       "      <td>207.000000</td>\n",
       "      <td>2.100000</td>\n",
       "    </tr>\n",
       "    <tr>\n",
       "      <th>75%</th>\n",
       "      <td>16.000000</td>\n",
       "      <td>30.000000</td>\n",
       "      <td>2011.000000</td>\n",
       "      <td>4.000000</td>\n",
       "      <td>10.000000</td>\n",
       "      <td>42.000000</td>\n",
       "      <td>4.000000</td>\n",
       "      <td>23.000000</td>\n",
       "      <td>297.000000</td>\n",
       "      <td>4.130000</td>\n",
       "    </tr>\n",
       "    <tr>\n",
       "      <th>max</th>\n",
       "      <td>211.000000</td>\n",
       "      <td>211.320000</td>\n",
       "      <td>2011.000000</td>\n",
       "      <td>4.000000</td>\n",
       "      <td>12.000000</td>\n",
       "      <td>52.000000</td>\n",
       "      <td>6.000000</td>\n",
       "      <td>31.000000</td>\n",
       "      <td>357.000000</td>\n",
       "      <td>208.920000</td>\n",
       "    </tr>\n",
       "  </tbody>\n",
       "</table>\n",
       "</div>"
      ],
      "text/plain": [
       "            Quantity     TotalPrice           Year        Quarter  \\\n",
       "count  515720.000000  515720.000000  515720.000000  515720.000000   \n",
       "mean       14.311580      25.566179    2010.440148       2.674352   \n",
       "std        22.386213      32.923020       0.573039       1.145600   \n",
       "min         1.000000       0.001000    2009.000000       1.000000   \n",
       "25%         2.000000       5.100000    2010.000000       2.000000   \n",
       "50%         6.000000      14.850000    2010.000000       3.000000   \n",
       "75%        16.000000      30.000000    2011.000000       4.000000   \n",
       "max       211.000000     211.320000    2011.000000       4.000000   \n",
       "\n",
       "               Month           Week        Weekday            Day  \\\n",
       "count  515720.000000  515720.000000  515720.000000  515720.000000   \n",
       "mean        7.050419      28.543382       2.527317      15.338787   \n",
       "std         3.503978      15.203342       1.903652       8.622299   \n",
       "min         1.000000       1.000000       0.000000       1.000000   \n",
       "25%         4.000000      15.000000       1.000000       8.000000   \n",
       "50%         7.000000      30.000000       2.000000      15.000000   \n",
       "75%        10.000000      42.000000       4.000000      23.000000   \n",
       "max        12.000000      52.000000       6.000000      31.000000   \n",
       "\n",
       "           Dayofyear      UnitPrice  \n",
       "count  515720.000000  515720.000000  \n",
       "mean      198.604000       3.327203  \n",
       "std       106.138109       4.698653  \n",
       "min         4.000000       0.001000  \n",
       "25%       105.000000       1.250000  \n",
       "50%       207.000000       2.100000  \n",
       "75%       297.000000       4.130000  \n",
       "max       357.000000     208.920000  "
      ]
     },
     "execution_count": 50,
     "metadata": {},
     "output_type": "execute_result"
    }
   ],
   "source": [
    "orders.describe()"
   ]
  },
  {
   "cell_type": "code",
   "execution_count": null,
   "metadata": {},
   "outputs": [
    {
     "name": "stderr",
     "output_type": "stream",
     "text": [
      "C:\\Users\\pc\\AppData\\Local\\Temp\\ipykernel_24528\\2934381453.py:1: FutureWarning: The default value of numeric_only in DataFrame.corr is deprecated. In a future version, it will default to False. Select only valid columns or specify the value of numeric_only to silence this warning.\n",
      "  corrmat = orders.corr()\n"
     ]
    },
    {
     "data": {
      "image/png": "[encoded data removed]",
      "text/plain": [
       "<Figure size 1000x1000 with 2 Axes>"
      ]
     },
     "metadata": {},
     "output_type": "display_data"
    }
   ],
   "source": [
    "corrmat = orders.corr()\n",
    "top_corr_features = corrmat.index\n",
    "plt.figure(figsize=(10, 10))\n",
    "\n",
    "g = sns.heatmap(orders[top_corr_features].corr(), annot=True, cmap=\"coolwarm\", vmin=-1, vmax=1, center=0)"
   ]
  },
  {
   "cell_type": "code",
   "execution_count": null,
   "metadata": {},
   "outputs": [],
   "source": [
    "orders.drop(['Month', 'Quarter','Dayofyear','Year'], axis=1,inplace=True)"
   ]
  },
  {
   "cell_type": "code",
   "execution_count": null,
   "metadata": {},
   "outputs": [
    {
     "data": {
      "text/html": [
       "<div>\n",
       "<style scoped>\n",
       "    .dataframe tbody tr th:only-of-type {\n",
       "        vertical-align: middle;\n",
       "    }\n",
       "\n",
       "    .dataframe tbody tr th {\n",
       "        vertical-align: top;\n",
       "    }\n",
       "\n",
       "    .dataframe thead th {\n",
       "        text-align: right;\n",
       "    }\n",
       "</style>\n",
       "<table border=\"1\" class=\"dataframe\">\n",
       "  <thead>\n",
       "    <tr style=\"text-align: right;\">\n",
       "      <th></th>\n",
       "      <th>InvoiceDate</th>\n",
       "      <th>StockCode</th>\n",
       "      <th>Quantity</th>\n",
       "      <th>TotalPrice</th>\n",
       "      <th>Week</th>\n",
       "      <th>Weekday</th>\n",
       "      <th>Day</th>\n",
       "      <th>UnitPrice</th>\n",
       "    </tr>\n",
       "  </thead>\n",
       "  <tbody>\n",
       "    <tr>\n",
       "      <th>0</th>\n",
       "      <td>2009-12-01</td>\n",
       "      <td>10002</td>\n",
       "      <td>12</td>\n",
       "      <td>10.20</td>\n",
       "      <td>49</td>\n",
       "      <td>1</td>\n",
       "      <td>1</td>\n",
       "      <td>0.850000</td>\n",
       "    </tr>\n",
       "    <tr>\n",
       "      <th>1</th>\n",
       "      <td>2009-12-01</td>\n",
       "      <td>10120</td>\n",
       "      <td>60</td>\n",
       "      <td>12.60</td>\n",
       "      <td>49</td>\n",
       "      <td>1</td>\n",
       "      <td>1</td>\n",
       "      <td>0.210000</td>\n",
       "    </tr>\n",
       "    <tr>\n",
       "      <th>2</th>\n",
       "      <td>2009-12-01</td>\n",
       "      <td>10125</td>\n",
       "      <td>5</td>\n",
       "      <td>5.10</td>\n",
       "      <td>49</td>\n",
       "      <td>1</td>\n",
       "      <td>1</td>\n",
       "      <td>1.020000</td>\n",
       "    </tr>\n",
       "    <tr>\n",
       "      <th>3</th>\n",
       "      <td>2009-12-01</td>\n",
       "      <td>10133</td>\n",
       "      <td>23</td>\n",
       "      <td>26.35</td>\n",
       "      <td>49</td>\n",
       "      <td>1</td>\n",
       "      <td>1</td>\n",
       "      <td>1.145652</td>\n",
       "    </tr>\n",
       "    <tr>\n",
       "      <th>4</th>\n",
       "      <td>2009-12-01</td>\n",
       "      <td>11001</td>\n",
       "      <td>2</td>\n",
       "      <td>6.86</td>\n",
       "      <td>49</td>\n",
       "      <td>1</td>\n",
       "      <td>1</td>\n",
       "      <td>3.430000</td>\n",
       "    </tr>\n",
       "  </tbody>\n",
       "</table>\n",
       "</div>"
      ],
      "text/plain": [
       "  InvoiceDate StockCode  Quantity  TotalPrice  Week  Weekday  Day  UnitPrice\n",
       "0  2009-12-01     10002        12       10.20    49        1    1   0.850000\n",
       "1  2009-12-01     10120        60       12.60    49        1    1   0.210000\n",
       "2  2009-12-01     10125         5        5.10    49        1    1   1.020000\n",
       "3  2009-12-01     10133        23       26.35    49        1    1   1.145652\n",
       "4  2009-12-01     11001         2        6.86    49        1    1   3.430000"
      ]
     },
     "execution_count": 53,
     "metadata": {},
     "output_type": "execute_result"
    }
   ],
   "source": [
    "orders.head()"
   ]
  },
  {
   "cell_type": "code",
   "execution_count": null,
   "metadata": {},
   "outputs": [],
   "source": [
    "orders.to_excel('ex_retail2_forecasting_data.xlsx')"
   ]
  },
  {
   "attachments": {},
   "cell_type": "markdown",
   "metadata": {},
   "source": [
    "#### Preperation for the traing and testing datasets"
   ]
  },
  {
   "cell_type": "code",
   "execution_count": null,
   "metadata": {},
   "outputs": [],
   "source": [
    "orders = pd.read_excel('ex_retail2_forecasting_data.xlsx')"
   ]
  },
  {
   "cell_type": "code",
   "execution_count": null,
   "metadata": {},
   "outputs": [],
   "source": [
    "# Split the dataset into train and test dataset\n",
    "\n",
    "df_train = orders[orders.InvoiceDate<'2011-11-01']\n",
    "df_test = orders[orders.InvoiceDate>='2011-11-01']"
   ]
  },
  {
   "cell_type": "code",
   "execution_count": null,
   "metadata": {},
   "outputs": [
    {
     "data": {
      "text/html": [
       "<div>\n",
       "<style scoped>\n",
       "    .dataframe tbody tr th:only-of-type {\n",
       "        vertical-align: middle;\n",
       "    }\n",
       "\n",
       "    .dataframe tbody tr th {\n",
       "        vertical-align: top;\n",
       "    }\n",
       "\n",
       "    .dataframe thead th {\n",
       "        text-align: right;\n",
       "    }\n",
       "</style>\n",
       "<table border=\"1\" class=\"dataframe\">\n",
       "  <thead>\n",
       "    <tr style=\"text-align: right;\">\n",
       "      <th></th>\n",
       "      <th>InvoiceDate</th>\n",
       "      <th>StockCode</th>\n",
       "      <th>Quantity</th>\n",
       "      <th>TotalPrice</th>\n",
       "      <th>Week</th>\n",
       "      <th>Weekday</th>\n",
       "      <th>Day</th>\n",
       "      <th>UnitPrice</th>\n",
       "    </tr>\n",
       "  </thead>\n",
       "  <tbody>\n",
       "    <tr>\n",
       "      <th>0</th>\n",
       "      <td>2009-12-01</td>\n",
       "      <td>10002</td>\n",
       "      <td>12</td>\n",
       "      <td>10.20</td>\n",
       "      <td>49</td>\n",
       "      <td>1</td>\n",
       "      <td>1</td>\n",
       "      <td>0.850000</td>\n",
       "    </tr>\n",
       "    <tr>\n",
       "      <th>1</th>\n",
       "      <td>2009-12-01</td>\n",
       "      <td>10120</td>\n",
       "      <td>60</td>\n",
       "      <td>12.60</td>\n",
       "      <td>49</td>\n",
       "      <td>1</td>\n",
       "      <td>1</td>\n",
       "      <td>0.210000</td>\n",
       "    </tr>\n",
       "    <tr>\n",
       "      <th>2</th>\n",
       "      <td>2009-12-01</td>\n",
       "      <td>10125</td>\n",
       "      <td>5</td>\n",
       "      <td>5.10</td>\n",
       "      <td>49</td>\n",
       "      <td>1</td>\n",
       "      <td>1</td>\n",
       "      <td>1.020000</td>\n",
       "    </tr>\n",
       "    <tr>\n",
       "      <th>3</th>\n",
       "      <td>2009-12-01</td>\n",
       "      <td>10133</td>\n",
       "      <td>23</td>\n",
       "      <td>26.35</td>\n",
       "      <td>49</td>\n",
       "      <td>1</td>\n",
       "      <td>1</td>\n",
       "      <td>1.145652</td>\n",
       "    </tr>\n",
       "    <tr>\n",
       "      <th>4</th>\n",
       "      <td>2009-12-01</td>\n",
       "      <td>11001</td>\n",
       "      <td>2</td>\n",
       "      <td>6.86</td>\n",
       "      <td>49</td>\n",
       "      <td>1</td>\n",
       "      <td>1</td>\n",
       "      <td>3.430000</td>\n",
       "    </tr>\n",
       "  </tbody>\n",
       "</table>\n",
       "</div>"
      ],
      "text/plain": [
       "  InvoiceDate StockCode  Quantity  TotalPrice  Week  Weekday  Day  UnitPrice\n",
       "0  2009-12-01     10002        12       10.20    49        1    1   0.850000\n",
       "1  2009-12-01     10120        60       12.60    49        1    1   0.210000\n",
       "2  2009-12-01     10125         5        5.10    49        1    1   1.020000\n",
       "3  2009-12-01     10133        23       26.35    49        1    1   1.145652\n",
       "4  2009-12-01     11001         2        6.86    49        1    1   3.430000"
      ]
     },
     "execution_count": 57,
     "metadata": {},
     "output_type": "execute_result"
    }
   ],
   "source": [
    "df_train.head()"
   ]
  },
  {
   "cell_type": "code",
   "execution_count": null,
   "metadata": {},
   "outputs": [],
   "source": [
    "# Define the feature and target variables\n",
    "\n",
    "X_train = df_train.drop(labels=['InvoiceDate','StockCode','Quantity','TotalPrice'],axis=1)\n",
    "y_train = df_train.Quantity\n",
    "\n",
    "X_test = df_test.drop(labels=['InvoiceDate','StockCode','Quantity','TotalPrice'],axis=1)\n",
    "y_test = df_test.Quantity"
   ]
  },
  {
   "cell_type": "code",
   "execution_count": null,
   "metadata": {},
   "outputs": [],
   "source": [
    "# Data Frame to store all the RMSE scores for various algorithms\n",
    "algo_score = pd.DataFrame()\n",
    "algo_score.index.name = 'Modelling Algo'\n",
    "algo_score['Train RMSE'] = None\n",
    "algo_score['Test RMSE'] = None\n",
    "algo_score['Hyperparameters'] = None\n",
    "algo_score['Training+Test Time(sec)'] = None\n",
    "\n",
    "cv_time = []\n",
    "\n",
    "# Dataframes for second level of predictions. Collect the predicted y values for training and test set of data\n",
    "ypred_train = pd.DataFrame(index = X_train.index)\n",
    "ypred_test = pd.DataFrame(index = X_test.index)\n",
    "\n",
    "ypred_train['quantity'], ypred_test['quantity'] = y_train, y_test\n"
   ]
  },
  {
   "cell_type": "code",
   "execution_count": null,
   "metadata": {},
   "outputs": [],
   "source": [
    "def rmse(y_actual, y_pred):\n",
    "    rmse = np.sqrt(mean_squared_error(y_actual, y_pred))\n",
    "    return rmse\n",
    "rmse_cv = make_scorer(rmse, greater_is_better=False)"
   ]
  },
  {
   "cell_type": "code",
   "execution_count": null,
   "metadata": {},
   "outputs": [],
   "source": [
    "def plot_true_vs_pred(y_actual, y_pred):\n",
    "    fig = plt.figure(figsize=(18, 16))\n",
    "\n",
    "    pred_val = pd.DataFrame({'actual':y_actual, 'predicted':y_pred})\n",
    "    pred_val['error'] = abs(pred_val.actual.round(0), pred_val.error)\n",
    "    sns.swarmplot(pred_val.actual.round(0), pred_val.error)\n",
    "    plt.show()"
   ]
  },
  {
   "cell_type": "code",
   "execution_count": null,
   "metadata": {},
   "outputs": [],
   "source": [
    "# Function to predict on train and test data and return the required metrics\n",
    "def model_fit(model, X_train, y_train, X_test, y_test):\n",
    "    ''' \n",
    "    Input:\n",
    "        model = model to be applied\n",
    "        X_train y_train = Training data\n",
    "        X_test, y_test = Testing data\n",
    "    Output:\n",
    "        rmse for training and test data \n",
    "        predicted y for training and test data\n",
    "    \n",
    "    '''\n",
    "#     model.fit(X_train, y_train)\n",
    "    y_train_predict = model.predict(X_train)\n",
    "    y_test_predict = model.predict(X_test)\n",
    "    \n",
    "    rmse_train = rmse(y_train, y_train_predict)\n",
    "    rmse_test = rmse(y_test, y_test_predict)\n",
    "    \n",
    "    rmse_all = [rmse_train, rmse_test]\n",
    "    y_pred_all = [y_train_predict, y_test_predict]\n",
    "    \n",
    "    return(rmse_all, y_pred_all)"
   ]
  },
  {
   "cell_type": "code",
   "execution_count": null,
   "metadata": {},
   "outputs": [],
   "source": [
    "def cross_val(model, X_train, y_train, cv=5):\n",
    "#     y_pred = pd.Series(index=y_train.index)\n",
    "    y_pred = cross_val_predict(model,X_train,y_train,cv=5)\n",
    "\n",
    "    rmse_train = rmse(y_train,y_pred)\n",
    "    return(rmse_train, y_pred)"
   ]
  },
  {
   "attachments": {},
   "cell_type": "markdown",
   "metadata": {},
   "source": [
    "#### Linear regression - LR\n"
   ]
  },
  {
   "cell_type": "code",
   "execution_count": null,
   "metadata": {},
   "outputs": [
    {
     "name": "stdout",
     "output_type": "stream",
     "text": [
      "CPU times: total: 31.2 ms\n",
      "Wall time: 54 ms\n",
      "CPU times: total: 46.9 ms\n",
      "Wall time: 14 ms\n"
     ]
    }
   ],
   "source": [
    "reg = LinearRegression()\n",
    "\n",
    "param_summary = ['','']\n",
    "rmse_summary = 0\n",
    "y_predict_summary = 0\n",
    "%time reg.fit(X_train, y_train)\n",
    "%time rmse_summary, y_predict_summary = model_fit(reg, X_train, y_train, X_test, y_test)\n",
    "\n",
    "ypred_test['LR'] = y_predict_summary[1]  \n",
    "ypred_train['LR'] = y_predict_summary[0]\n",
    "\n",
    "algo_score.loc['Linear Regression'] = rmse_summary+param_summary"
   ]
  },
  {
   "cell_type": "code",
   "execution_count": null,
   "metadata": {},
   "outputs": [
    {
     "data": {
      "text/html": [
       "<div>\n",
       "<style scoped>\n",
       "    .dataframe tbody tr th:only-of-type {\n",
       "        vertical-align: middle;\n",
       "    }\n",
       "\n",
       "    .dataframe tbody tr th {\n",
       "        vertical-align: top;\n",
       "    }\n",
       "\n",
       "    .dataframe thead th {\n",
       "        text-align: right;\n",
       "    }\n",
       "</style>\n",
       "<table border=\"1\" class=\"dataframe\">\n",
       "  <thead>\n",
       "    <tr style=\"text-align: right;\">\n",
       "      <th></th>\n",
       "      <th>Train RMSE</th>\n",
       "      <th>Test RMSE</th>\n",
       "      <th>Hyperparameters</th>\n",
       "      <th>Training+Test Time(sec)</th>\n",
       "    </tr>\n",
       "    <tr>\n",
       "      <th>Modelling Algo</th>\n",
       "      <th></th>\n",
       "      <th></th>\n",
       "      <th></th>\n",
       "      <th></th>\n",
       "    </tr>\n",
       "  </thead>\n",
       "  <tbody>\n",
       "    <tr>\n",
       "      <th>Linear Regression</th>\n",
       "      <td>21.785403</td>\n",
       "      <td>22.659021</td>\n",
       "      <td></td>\n",
       "      <td>0.0781</td>\n",
       "    </tr>\n",
       "  </tbody>\n",
       "</table>\n",
       "</div>"
      ],
      "text/plain": [
       "                   Train RMSE  Test RMSE Hyperparameters  \\\n",
       "Modelling Algo                                             \n",
       "Linear Regression   21.785403  22.659021                   \n",
       "\n",
       "                  Training+Test Time(sec)  \n",
       "Modelling Algo                             \n",
       "Linear Regression                  0.0781  "
      ]
     },
     "execution_count": 73,
     "metadata": {},
     "output_type": "execute_result"
    }
   ],
   "source": [
    "algo_score.loc['Linear Regression', 'Training+Test Time(sec)'] = 0.0781\n",
    "cv_time.append(0.0781)\n",
    "algo_score"
   ]
  },
  {
   "cell_type": "code",
   "execution_count": null,
   "metadata": {},
   "outputs": [],
   "source": [
    "# Features and the Estimated Linear Regression Coefficients\n",
    "df_coeff = pd.DataFrame({'features': X_train.columns, 'Lin_Coeff': reg.coef_})"
   ]
  },
  {
   "cell_type": "code",
   "execution_count": null,
   "metadata": {},
   "outputs": [
    {
     "data": {
      "text/html": [
       "<div>\n",
       "<style scoped>\n",
       "    .dataframe tbody tr th:only-of-type {\n",
       "        vertical-align: middle;\n",
       "    }\n",
       "\n",
       "    .dataframe tbody tr th {\n",
       "        vertical-align: top;\n",
       "    }\n",
       "\n",
       "    .dataframe thead th {\n",
       "        text-align: right;\n",
       "    }\n",
       "</style>\n",
       "<table border=\"1\" class=\"dataframe\">\n",
       "  <thead>\n",
       "    <tr style=\"text-align: right;\">\n",
       "      <th></th>\n",
       "      <th>features</th>\n",
       "      <th>Lin_Coeff</th>\n",
       "    </tr>\n",
       "  </thead>\n",
       "  <tbody>\n",
       "    <tr>\n",
       "      <th>0</th>\n",
       "      <td>Week</td>\n",
       "      <td>0.064276</td>\n",
       "    </tr>\n",
       "    <tr>\n",
       "      <th>1</th>\n",
       "      <td>Weekday</td>\n",
       "      <td>-0.307444</td>\n",
       "    </tr>\n",
       "    <tr>\n",
       "      <th>2</th>\n",
       "      <td>Day</td>\n",
       "      <td>-0.002023</td>\n",
       "    </tr>\n",
       "    <tr>\n",
       "      <th>3</th>\n",
       "      <td>UnitPrice</td>\n",
       "      <td>-0.973563</td>\n",
       "    </tr>\n",
       "  </tbody>\n",
       "</table>\n",
       "</div>"
      ],
      "text/plain": [
       "    features  Lin_Coeff\n",
       "0       Week   0.064276\n",
       "1    Weekday  -0.307444\n",
       "2        Day  -0.002023\n",
       "3  UnitPrice  -0.973563"
      ]
     },
     "execution_count": 75,
     "metadata": {},
     "output_type": "execute_result"
    }
   ],
   "source": [
    "df_coeff"
   ]
  },
  {
   "attachments": {},
   "cell_type": "markdown",
   "metadata": {},
   "source": [
    "### Regularization Model - Ridge\n"
   ]
  },
  {
   "cell_type": "code",
   "execution_count": null,
   "metadata": {},
   "outputs": [
    {
     "name": "stdout",
     "output_type": "stream",
     "text": [
      "CPU times: total: 1.19 s\n",
      "Wall time: 1.74 s\n",
      "Best alpha for Ridge Regression Model: {'alpha': 100}\n"
     ]
    }
   ],
   "source": [
    "\n",
    "# Hyperparameter Tuning\n",
    "param_grid = {'alpha': [0.1, 0.2, 0.5, 1, 2, 5, 10, 20, 50, 100]}\n",
    "ridge = GridSearchCV(Ridge(random_state=42), param_grid, cv=5, scoring=rmse_cv)\n",
    "%time ridge.fit(X_train, y_train)\n",
    "print('Best alpha for Ridge Regression Model: {}'.format(ridge.best_params_))"
   ]
  },
  {
   "cell_type": "code",
   "execution_count": null,
   "metadata": {},
   "outputs": [
    {
     "name": "stdout",
     "output_type": "stream",
     "text": [
      "CPU times: total: 1.05 s\n",
      "Wall time: 1.33 s\n",
      "Best alpha for Ridge Regression Model: {'alpha': 145}\n"
     ]
    }
   ],
   "source": [
    "# Fine tune Hyperparameter for edge cases\n",
    "param_grid = {'alpha': np.arange(75,150,10)}\n",
    "ridge = GridSearchCV(Ridge(random_state=42), param_grid, cv=5, scoring=rmse_cv)\n",
    "%time ridge.fit(X_train, y_train)\n",
    "print('Best alpha for Ridge Regression Model: {}'.format(ridge.best_params_))"
   ]
  },
  {
   "cell_type": "code",
   "execution_count": null,
   "metadata": {},
   "outputs": [
    {
     "name": "stdout",
     "output_type": "stream",
     "text": [
      "CPU times: total: 0 ns\n",
      "Wall time: 12 ms\n"
     ]
    }
   ],
   "source": [
    "param_summary = [ridge.best_params_,'']\n",
    "\n",
    "%time rmse_summary, y_predict_summary = model_fit(ridge, X_train, y_train, X_test, y_test)\n",
    "\n",
    "ypred_test['Ridge'] = y_predict_summary[1]  \n",
    "ypred_train['Ridge'] = y_predict_summary[0]\n",
    "\n",
    "algo_score.loc['Ridge Regression'] = rmse_summary+param_summary"
   ]
  },
  {
   "cell_type": "code",
   "execution_count": null,
   "metadata": {},
   "outputs": [
    {
     "data": {
      "text/html": [
       "<div>\n",
       "<style scoped>\n",
       "    .dataframe tbody tr th:only-of-type {\n",
       "        vertical-align: middle;\n",
       "    }\n",
       "\n",
       "    .dataframe tbody tr th {\n",
       "        vertical-align: top;\n",
       "    }\n",
       "\n",
       "    .dataframe thead th {\n",
       "        text-align: right;\n",
       "    }\n",
       "</style>\n",
       "<table border=\"1\" class=\"dataframe\">\n",
       "  <thead>\n",
       "    <tr style=\"text-align: right;\">\n",
       "      <th></th>\n",
       "      <th>Train RMSE</th>\n",
       "      <th>Test RMSE</th>\n",
       "      <th>Hyperparameters</th>\n",
       "      <th>Training+Test Time(sec)</th>\n",
       "    </tr>\n",
       "    <tr>\n",
       "      <th>Modelling Algo</th>\n",
       "      <th></th>\n",
       "      <th></th>\n",
       "      <th></th>\n",
       "      <th></th>\n",
       "    </tr>\n",
       "  </thead>\n",
       "  <tbody>\n",
       "    <tr>\n",
       "      <th>Linear Regression</th>\n",
       "      <td>21.785403</td>\n",
       "      <td>22.659021</td>\n",
       "      <td></td>\n",
       "      <td>0.0781</td>\n",
       "    </tr>\n",
       "    <tr>\n",
       "      <th>Ridge Regression</th>\n",
       "      <td>21.785403</td>\n",
       "      <td>22.659026</td>\n",
       "      <td>{'alpha': 145}</td>\n",
       "      <td>6.917</td>\n",
       "    </tr>\n",
       "  </tbody>\n",
       "</table>\n",
       "</div>"
      ],
      "text/plain": [
       "                   Train RMSE  Test RMSE Hyperparameters  \\\n",
       "Modelling Algo                                             \n",
       "Linear Regression   21.785403  22.659021                   \n",
       "Ridge Regression    21.785403  22.659026  {'alpha': 145}   \n",
       "\n",
       "                  Training+Test Time(sec)  \n",
       "Modelling Algo                             \n",
       "Linear Regression                  0.0781  \n",
       "Ridge Regression                    6.917  "
      ]
     },
     "execution_count": 80,
     "metadata": {},
     "output_type": "execute_result"
    }
   ],
   "source": [
    "algo_score.loc['Ridge Regression', 'Training+Test Time(sec)'] = 6.917\n",
    "cv_time.append(0.012)\n",
    "algo_score"
   ]
  },
  {
   "cell_type": "code",
   "execution_count": null,
   "metadata": {},
   "outputs": [],
   "source": [
    "# Features and the Estimated Ridge Regression Coefficients\n",
    "df_coeff['Ridge_Coeff'] = ridge.best_estimator_.coef_\n"
   ]
  },
  {
   "attachments": {},
   "cell_type": "markdown",
   "metadata": {},
   "source": [
    "### Regularization Model - Lasso"
   ]
  },
  {
   "cell_type": "code",
   "execution_count": null,
   "metadata": {},
   "outputs": [
    {
     "name": "stdout",
     "output_type": "stream",
     "text": [
      "CPU times: total: 4.86 s\n",
      "Wall time: 2.26 s\n",
      "Best alpha for Lasso Regression Model: {'alpha': 0.2}\n"
     ]
    }
   ],
   "source": [
    "# Hyperparameter Tuning\n",
    "param_grid = {'alpha': [0.1, 0.2, 0.5, 1, 2, 5, 10, 20, 50, 100]}\n",
    "lasso = GridSearchCV(Lasso(random_state=42), param_grid, cv=5, scoring=rmse_cv)\n",
    "%time lasso.fit(X_train, y_train)\n",
    "print('Best alpha for Lasso Regression Model: {}'.format(lasso.best_params_))"
   ]
  },
  {
   "cell_type": "code",
   "execution_count": null,
   "metadata": {},
   "outputs": [
    {
     "name": "stdout",
     "output_type": "stream",
     "text": [
      "CPU times: total: 15 s\n",
      "Wall time: 6.02 s\n",
      "Best alpha for Lasso Regression Model: {'alpha': 0.24000000000000002}\n"
     ]
    }
   ],
   "source": [
    "# Fine tune Hyperparameter for edge case\n",
    "\n",
    "param_grid = {'alpha': np.arange(.01,.25,.01)}\n",
    "lasso = GridSearchCV(Lasso(random_state=42), param_grid, cv=5, scoring=rmse_cv)\n",
    "%time lasso.fit(X_train, y_train)\n",
    "print('Best alpha for Lasso Regression Model: {}'.format(lasso.best_params_))"
   ]
  },
  {
   "cell_type": "code",
   "execution_count": null,
   "metadata": {},
   "outputs": [
    {
     "name": "stdout",
     "output_type": "stream",
     "text": [
      "CPU times: total: 0 ns\n",
      "Wall time: 16 ms\n"
     ]
    }
   ],
   "source": [
    "param_summary = [lasso.best_params_,'']\n",
    "\n",
    "%time rmse_summary, y_predict_summary = model_fit(lasso, X_train, y_train, X_test, y_test)\n",
    "ypred_test['Lasso'] = y_predict_summary[1]\n",
    "ypred_train['Lasso'] = y_predict_summary[0]\n",
    "\n",
    "algo_score.loc['Lasso Regression'] = rmse_summary+param_summary"
   ]
  },
  {
   "cell_type": "code",
   "execution_count": null,
   "metadata": {},
   "outputs": [
    {
     "data": {
      "text/html": [
       "<div>\n",
       "<style scoped>\n",
       "    .dataframe tbody tr th:only-of-type {\n",
       "        vertical-align: middle;\n",
       "    }\n",
       "\n",
       "    .dataframe tbody tr th {\n",
       "        vertical-align: top;\n",
       "    }\n",
       "\n",
       "    .dataframe thead th {\n",
       "        text-align: right;\n",
       "    }\n",
       "</style>\n",
       "<table border=\"1\" class=\"dataframe\">\n",
       "  <thead>\n",
       "    <tr style=\"text-align: right;\">\n",
       "      <th></th>\n",
       "      <th>Train RMSE</th>\n",
       "      <th>Test RMSE</th>\n",
       "      <th>Hyperparameters</th>\n",
       "      <th>Training+Test Time(sec)</th>\n",
       "    </tr>\n",
       "    <tr>\n",
       "      <th>Modelling Algo</th>\n",
       "      <th></th>\n",
       "      <th></th>\n",
       "      <th></th>\n",
       "      <th></th>\n",
       "    </tr>\n",
       "  </thead>\n",
       "  <tbody>\n",
       "    <tr>\n",
       "      <th>Linear Regression</th>\n",
       "      <td>21.785403</td>\n",
       "      <td>22.659021</td>\n",
       "      <td></td>\n",
       "      <td>0.0781</td>\n",
       "    </tr>\n",
       "    <tr>\n",
       "      <th>Ridge Regression</th>\n",
       "      <td>21.785403</td>\n",
       "      <td>22.659026</td>\n",
       "      <td>{'alpha': 145}</td>\n",
       "      <td>6.917</td>\n",
       "    </tr>\n",
       "    <tr>\n",
       "      <th>Lasso Regression</th>\n",
       "      <td>21.785848</td>\n",
       "      <td>22.664895</td>\n",
       "      <td>{'alpha': 0.24000000000000002}</td>\n",
       "      <td>31.328</td>\n",
       "    </tr>\n",
       "  </tbody>\n",
       "</table>\n",
       "</div>"
      ],
      "text/plain": [
       "                   Train RMSE  Test RMSE                 Hyperparameters  \\\n",
       "Modelling Algo                                                             \n",
       "Linear Regression   21.785403  22.659021                                   \n",
       "Ridge Regression    21.785403  22.659026                  {'alpha': 145}   \n",
       "Lasso Regression    21.785848  22.664895  {'alpha': 0.24000000000000002}   \n",
       "\n",
       "                  Training+Test Time(sec)  \n",
       "Modelling Algo                             \n",
       "Linear Regression                  0.0781  \n",
       "Ridge Regression                    6.917  \n",
       "Lasso Regression                   31.328  "
      ]
     },
     "execution_count": 88,
     "metadata": {},
     "output_type": "execute_result"
    }
   ],
   "source": [
    "algo_score.loc['Lasso Regression', 'Training+Test Time(sec)'] = 31.328\n",
    "cv_time.append(0.16)\n",
    "algo_score"
   ]
  },
  {
   "cell_type": "code",
   "execution_count": null,
   "metadata": {},
   "outputs": [],
   "source": [
    "# Features and the Estimated Lasso Regression Coefficients\n",
    "df_coeff['Lasso_Coeff'] = lasso.best_estimator_.coef_\n"
   ]
  },
  {
   "attachments": {},
   "cell_type": "markdown",
   "metadata": {},
   "source": [
    "### Plotting the coefficients obtained from Linear, Ridge and Lasso regression"
   ]
  },
  {
   "cell_type": "code",
   "execution_count": null,
   "metadata": {},
   "outputs": [
    {
     "data": {
      "text/plain": [
       "<matplotlib.legend.Legend at 0x1a710645ff0>"
      ]
     },
     "execution_count": 94,
     "metadata": {},
     "output_type": "execute_result"
    },
    {
     "data": {
      "image/png": "[encoded data removed]",
      "text/plain": [
       "<Figure size 1000x500 with 1 Axes>"
      ]
     },
     "metadata": {},
     "output_type": "display_data"
    }
   ],
   "source": [
    "fig = plt.figure(figsize=(10, 5))\n",
    "\n",
    "axes = fig.add_subplot(1, 1, 1)\n",
    "axes.plot(df_coeff.Lin_Coeff, label='Linear Regression', marker='*', markersize=15, color='green')\n",
    "axes.plot(df_coeff.Ridge_Coeff, label='Ridge Regression, alpha={}'.format(ridge.best_params_['alpha']), alpha=.5,marker='.', markersize=15, color='blue')\n",
    "axes.plot(df_coeff.Lasso_Coeff, label='Lasso Regression, alpha={}'.format(lasso.best_params_['alpha']), marker='.', markersize=15, color='orange')\n",
    "\n",
    "plt.xticks(range(len(df_coeff.Lin_Coeff)), df_coeff.features, rotation=90)\n",
    "axes.set(ylabel='Estimated Regression Coefficients', title='Coefficients for different models')\n",
    "axes.set(xlim=[-1, len(df_coeff.Lin_Coeff)])\n",
    "axes.legend()\n"
   ]
  },
  {
   "attachments": {},
   "cell_type": "markdown",
   "metadata": {},
   "source": [
    "### Ensemble Model - Random Forest\n"
   ]
  },
  {
   "cell_type": "code",
   "execution_count": null,
   "metadata": {},
   "outputs": [],
   "source": [
    "param_distributions = {'n_estimators': [50,500,1000], 'max_features':['auto'], 'min_samples_leaf':[1,10,50],'n_jobs':[-1]}\n",
    "rf_main = RandomizedSearchCV(RandomForestRegressor(random_state=42), param_distributions, verbose=2, n_iter = 50,cv=5, \n",
    "                             scoring=rmse_cv)\n",
    "%time rf_main.fit(X_train, y_train)"
   ]
  },
  {
   "cell_type": "code",
   "execution_count": null,
   "metadata": {},
   "outputs": [
    {
     "name": "stdout",
     "output_type": "stream",
     "text": [
      "Best parameters for Random Forest Regression Model: {'n_jobs': -1, 'n_estimators': 1000, 'min_samples_leaf': 10, 'max_features': 'auto'}\n"
     ]
    }
   ],
   "source": [
    "print('Best parameters for Random Forest Regression Model: {}'.format(rf_main.best_params_))"
   ]
  },
  {
   "cell_type": "code",
   "execution_count": null,
   "metadata": {},
   "outputs": [
    {
     "name": "stdout",
     "output_type": "stream",
     "text": [
      "CPU times: total: 1min 7s\n",
      "Wall time: 7.84 s\n"
     ]
    }
   ],
   "source": [
    "param_summary = [rf_main.best_params_,'']\n",
    "\n",
    "%time rmse_summary, y_predict_summary = model_fit(rf_main, X_train, y_train, X_test, y_test)\n",
    "ypred_test['RF'] = y_predict_summary[1]\n",
    "ypred_train['RF'] = y_predict_summary[0]\n",
    "\n",
    "algo_score.loc['Random Forest'] = rmse_summary+param_summary\n"
   ]
  },
  {
   "cell_type": "code",
   "execution_count": null,
   "metadata": {},
   "outputs": [
    {
     "data": {
      "text/html": [
       "<div>\n",
       "<style scoped>\n",
       "    .dataframe tbody tr th:only-of-type {\n",
       "        vertical-align: middle;\n",
       "    }\n",
       "\n",
       "    .dataframe tbody tr th {\n",
       "        vertical-align: top;\n",
       "    }\n",
       "\n",
       "    .dataframe thead th {\n",
       "        text-align: right;\n",
       "    }\n",
       "</style>\n",
       "<table border=\"1\" class=\"dataframe\">\n",
       "  <thead>\n",
       "    <tr style=\"text-align: right;\">\n",
       "      <th></th>\n",
       "      <th>Train RMSE</th>\n",
       "      <th>Test RMSE</th>\n",
       "      <th>Hyperparameters</th>\n",
       "      <th>Training+Test Time(sec)</th>\n",
       "    </tr>\n",
       "    <tr>\n",
       "      <th>Modelling Algo</th>\n",
       "      <th></th>\n",
       "      <th></th>\n",
       "      <th></th>\n",
       "      <th></th>\n",
       "    </tr>\n",
       "  </thead>\n",
       "  <tbody>\n",
       "    <tr>\n",
       "      <th>Linear Regression</th>\n",
       "      <td>21.785403</td>\n",
       "      <td>22.659021</td>\n",
       "      <td></td>\n",
       "      <td>0.0781</td>\n",
       "    </tr>\n",
       "    <tr>\n",
       "      <th>Ridge Regression</th>\n",
       "      <td>21.785403</td>\n",
       "      <td>22.659026</td>\n",
       "      <td>{'alpha': 145}</td>\n",
       "      <td>6.917</td>\n",
       "    </tr>\n",
       "    <tr>\n",
       "      <th>Lasso Regression</th>\n",
       "      <td>21.785848</td>\n",
       "      <td>22.664895</td>\n",
       "      <td>{'alpha': 0.24000000000000002}</td>\n",
       "      <td>31.328</td>\n",
       "    </tr>\n",
       "    <tr>\n",
       "      <th>Random Forest</th>\n",
       "      <td>15.699580</td>\n",
       "      <td>20.106121</td>\n",
       "      <td>{'n_jobs': -1, 'n_estimators': 1000, 'min_samp...</td>\n",
       "      <td>6706</td>\n",
       "    </tr>\n",
       "  </tbody>\n",
       "</table>\n",
       "</div>"
      ],
      "text/plain": [
       "                   Train RMSE  Test RMSE  \\\n",
       "Modelling Algo                             \n",
       "Linear Regression   21.785403  22.659021   \n",
       "Ridge Regression    21.785403  22.659026   \n",
       "Lasso Regression    21.785848  22.664895   \n",
       "Random Forest       15.699580  20.106121   \n",
       "\n",
       "                                                     Hyperparameters  \\\n",
       "Modelling Algo                                                         \n",
       "Linear Regression                                                      \n",
       "Ridge Regression                                      {'alpha': 145}   \n",
       "Lasso Regression                      {'alpha': 0.24000000000000002}   \n",
       "Random Forest      {'n_jobs': -1, 'n_estimators': 1000, 'min_samp...   \n",
       "\n",
       "                  Training+Test Time(sec)  \n",
       "Modelling Algo                             \n",
       "Linear Regression                  0.0781  \n",
       "Ridge Regression                    6.917  \n",
       "Lasso Regression                   31.328  \n",
       "Random Forest                        6706  "
      ]
     },
     "execution_count": 98,
     "metadata": {},
     "output_type": "execute_result"
    }
   ],
   "source": [
    "algo_score.loc['Random Forest', 'Training+Test Time(sec)'] = 6706\n",
    "cv_time.append(1600.84)\n",
    "algo_score"
   ]
  },
  {
   "cell_type": "code",
   "execution_count": 99,
   "metadata": {},
   "outputs": [
    {
     "data": {
      "text/html": [
       "<div>\n",
       "<style scoped>\n",
       "    .dataframe tbody tr th:only-of-type {\n",
       "        vertical-align: middle;\n",
       "    }\n",
       "\n",
       "    .dataframe tbody tr th {\n",
       "        vertical-align: top;\n",
       "    }\n",
       "\n",
       "    .dataframe thead th {\n",
       "        text-align: right;\n",
       "    }\n",
       "</style>\n",
       "<table border=\"1\" class=\"dataframe\">\n",
       "  <thead>\n",
       "    <tr style=\"text-align: right;\">\n",
       "      <th></th>\n",
       "      <th>mean_fit_time</th>\n",
       "      <th>std_fit_time</th>\n",
       "      <th>mean_score_time</th>\n",
       "      <th>std_score_time</th>\n",
       "      <th>param_n_jobs</th>\n",
       "      <th>param_n_estimators</th>\n",
       "      <th>param_min_samples_leaf</th>\n",
       "      <th>param_max_features</th>\n",
       "      <th>params</th>\n",
       "      <th>split0_test_score</th>\n",
       "      <th>split1_test_score</th>\n",
       "      <th>split2_test_score</th>\n",
       "      <th>split3_test_score</th>\n",
       "      <th>split4_test_score</th>\n",
       "      <th>mean_test_score</th>\n",
       "      <th>std_test_score</th>\n",
       "      <th>rank_test_score</th>\n",
       "    </tr>\n",
       "  </thead>\n",
       "  <tbody>\n",
       "    <tr>\n",
       "      <th>0</th>\n",
       "      <td>6.881960</td>\n",
       "      <td>4.961139</td>\n",
       "      <td>0.094398</td>\n",
       "      <td>0.012627</td>\n",
       "      <td>-1</td>\n",
       "      <td>50</td>\n",
       "      <td>1</td>\n",
       "      <td>auto</td>\n",
       "      <td>{'n_jobs': -1, 'n_estimators': 50, 'min_sample...</td>\n",
       "      <td>-19.180855</td>\n",
       "      <td>-17.874483</td>\n",
       "      <td>-19.276246</td>\n",
       "      <td>-17.619200</td>\n",
       "      <td>-20.141531</td>\n",
       "      <td>-18.818463</td>\n",
       "      <td>0.940291</td>\n",
       "      <td>9</td>\n",
       "    </tr>\n",
       "    <tr>\n",
       "      <th>1</th>\n",
       "      <td>38.928034</td>\n",
       "      <td>1.594758</td>\n",
       "      <td>0.731023</td>\n",
       "      <td>0.072578</td>\n",
       "      <td>-1</td>\n",
       "      <td>500</td>\n",
       "      <td>1</td>\n",
       "      <td>auto</td>\n",
       "      <td>{'n_jobs': -1, 'n_estimators': 500, 'min_sampl...</td>\n",
       "      <td>-19.145443</td>\n",
       "      <td>-17.817329</td>\n",
       "      <td>-19.219675</td>\n",
       "      <td>-17.532577</td>\n",
       "      <td>-20.130248</td>\n",
       "      <td>-18.769054</td>\n",
       "      <td>0.962521</td>\n",
       "      <td>8</td>\n",
       "    </tr>\n",
       "    <tr>\n",
       "      <th>2</th>\n",
       "      <td>73.133856</td>\n",
       "      <td>0.891001</td>\n",
       "      <td>2.067060</td>\n",
       "      <td>1.282902</td>\n",
       "      <td>-1</td>\n",
       "      <td>1000</td>\n",
       "      <td>1</td>\n",
       "      <td>auto</td>\n",
       "      <td>{'n_jobs': -1, 'n_estimators': 1000, 'min_samp...</td>\n",
       "      <td>-19.107080</td>\n",
       "      <td>-17.811706</td>\n",
       "      <td>-19.211788</td>\n",
       "      <td>-17.532878</td>\n",
       "      <td>-20.138073</td>\n",
       "      <td>-18.760305</td>\n",
       "      <td>0.962159</td>\n",
       "      <td>7</td>\n",
       "    </tr>\n",
       "    <tr>\n",
       "      <th>3</th>\n",
       "      <td>3.394570</td>\n",
       "      <td>0.056939</td>\n",
       "      <td>0.083982</td>\n",
       "      <td>0.031879</td>\n",
       "      <td>-1</td>\n",
       "      <td>50</td>\n",
       "      <td>10</td>\n",
       "      <td>auto</td>\n",
       "      <td>{'n_jobs': -1, 'n_estimators': 50, 'min_sample...</td>\n",
       "      <td>-18.652239</td>\n",
       "      <td>-17.605011</td>\n",
       "      <td>-18.775676</td>\n",
       "      <td>-17.242858</td>\n",
       "      <td>-19.339953</td>\n",
       "      <td>-18.323147</td>\n",
       "      <td>0.778424</td>\n",
       "      <td>6</td>\n",
       "    </tr>\n",
       "    <tr>\n",
       "      <th>4</th>\n",
       "      <td>29.876315</td>\n",
       "      <td>0.357813</td>\n",
       "      <td>0.496946</td>\n",
       "      <td>0.015328</td>\n",
       "      <td>-1</td>\n",
       "      <td>500</td>\n",
       "      <td>10</td>\n",
       "      <td>auto</td>\n",
       "      <td>{'n_jobs': -1, 'n_estimators': 500, 'min_sampl...</td>\n",
       "      <td>-18.676096</td>\n",
       "      <td>-17.580932</td>\n",
       "      <td>-18.765569</td>\n",
       "      <td>-17.208670</td>\n",
       "      <td>-19.331068</td>\n",
       "      <td>-18.312467</td>\n",
       "      <td>0.791023</td>\n",
       "      <td>3</td>\n",
       "    </tr>\n",
       "    <tr>\n",
       "      <th>5</th>\n",
       "      <td>61.844467</td>\n",
       "      <td>1.435422</td>\n",
       "      <td>1.014092</td>\n",
       "      <td>0.058075</td>\n",
       "      <td>-1</td>\n",
       "      <td>1000</td>\n",
       "      <td>10</td>\n",
       "      <td>auto</td>\n",
       "      <td>{'n_jobs': -1, 'n_estimators': 1000, 'min_samp...</td>\n",
       "      <td>-18.654451</td>\n",
       "      <td>-17.576925</td>\n",
       "      <td>-18.765124</td>\n",
       "      <td>-17.210949</td>\n",
       "      <td>-19.339572</td>\n",
       "      <td>-18.309404</td>\n",
       "      <td>0.791342</td>\n",
       "      <td>1</td>\n",
       "    </tr>\n",
       "    <tr>\n",
       "      <th>6</th>\n",
       "      <td>3.224118</td>\n",
       "      <td>0.184368</td>\n",
       "      <td>0.058334</td>\n",
       "      <td>0.005732</td>\n",
       "      <td>-1</td>\n",
       "      <td>50</td>\n",
       "      <td>50</td>\n",
       "      <td>auto</td>\n",
       "      <td>{'n_jobs': -1, 'n_estimators': 50, 'min_sample...</td>\n",
       "      <td>-18.600351</td>\n",
       "      <td>-17.666183</td>\n",
       "      <td>-18.853179</td>\n",
       "      <td>-17.410919</td>\n",
       "      <td>-19.057379</td>\n",
       "      <td>-18.317602</td>\n",
       "      <td>0.657340</td>\n",
       "      <td>5</td>\n",
       "    </tr>\n",
       "    <tr>\n",
       "      <th>7</th>\n",
       "      <td>27.968939</td>\n",
       "      <td>1.001916</td>\n",
       "      <td>0.443719</td>\n",
       "      <td>0.031330</td>\n",
       "      <td>-1</td>\n",
       "      <td>500</td>\n",
       "      <td>50</td>\n",
       "      <td>auto</td>\n",
       "      <td>{'n_jobs': -1, 'n_estimators': 500, 'min_sampl...</td>\n",
       "      <td>-18.590410</td>\n",
       "      <td>-17.657125</td>\n",
       "      <td>-18.864600</td>\n",
       "      <td>-17.384420</td>\n",
       "      <td>-19.057938</td>\n",
       "      <td>-18.310899</td>\n",
       "      <td>0.667617</td>\n",
       "      <td>2</td>\n",
       "    </tr>\n",
       "    <tr>\n",
       "      <th>8</th>\n",
       "      <td>54.629493</td>\n",
       "      <td>1.172630</td>\n",
       "      <td>0.818654</td>\n",
       "      <td>0.031634</td>\n",
       "      <td>-1</td>\n",
       "      <td>1000</td>\n",
       "      <td>50</td>\n",
       "      <td>auto</td>\n",
       "      <td>{'n_jobs': -1, 'n_estimators': 1000, 'min_samp...</td>\n",
       "      <td>-18.599426</td>\n",
       "      <td>-17.656131</td>\n",
       "      <td>-18.865282</td>\n",
       "      <td>-17.390087</td>\n",
       "      <td>-19.063721</td>\n",
       "      <td>-18.314929</td>\n",
       "      <td>0.668411</td>\n",
       "      <td>4</td>\n",
       "    </tr>\n",
       "  </tbody>\n",
       "</table>\n",
       "</div>"
      ],
      "text/plain": [
       "   mean_fit_time  std_fit_time  mean_score_time  std_score_time param_n_jobs  \\\n",
       "0       6.881960      4.961139         0.094398        0.012627           -1   \n",
       "1      38.928034      1.594758         0.731023        0.072578           -1   \n",
       "2      73.133856      0.891001         2.067060        1.282902           -1   \n",
       "3       3.394570      0.056939         0.083982        0.031879           -1   \n",
       "4      29.876315      0.357813         0.496946        0.015328           -1   \n",
       "5      61.844467      1.435422         1.014092        0.058075           -1   \n",
       "6       3.224118      0.184368         0.058334        0.005732           -1   \n",
       "7      27.968939      1.001916         0.443719        0.031330           -1   \n",
       "8      54.629493      1.172630         0.818654        0.031634           -1   \n",
       "\n",
       "  param_n_estimators param_min_samples_leaf param_max_features  \\\n",
       "0                 50                      1               auto   \n",
       "1                500                      1               auto   \n",
       "2               1000                      1               auto   \n",
       "3                 50                     10               auto   \n",
       "4                500                     10               auto   \n",
       "5               1000                     10               auto   \n",
       "6                 50                     50               auto   \n",
       "7                500                     50               auto   \n",
       "8               1000                     50               auto   \n",
       "\n",
       "                                              params  split0_test_score  \\\n",
       "0  {'n_jobs': -1, 'n_estimators': 50, 'min_sample...         -19.180855   \n",
       "1  {'n_jobs': -1, 'n_estimators': 500, 'min_sampl...         -19.145443   \n",
       "2  {'n_jobs': -1, 'n_estimators': 1000, 'min_samp...         -19.107080   \n",
       "3  {'n_jobs': -1, 'n_estimators': 50, 'min_sample...         -18.652239   \n",
       "4  {'n_jobs': -1, 'n_estimators': 500, 'min_sampl...         -18.676096   \n",
       "5  {'n_jobs': -1, 'n_estimators': 1000, 'min_samp...         -18.654451   \n",
       "6  {'n_jobs': -1, 'n_estimators': 50, 'min_sample...         -18.600351   \n",
       "7  {'n_jobs': -1, 'n_estimators': 500, 'min_sampl...         -18.590410   \n",
       "8  {'n_jobs': -1, 'n_estimators': 1000, 'min_samp...         -18.599426   \n",
       "\n",
       "   split1_test_score  split2_test_score  split3_test_score  split4_test_score  \\\n",
       "0         -17.874483         -19.276246         -17.619200         -20.141531   \n",
       "1         -17.817329         -19.219675         -17.532577         -20.130248   \n",
       "2         -17.811706         -19.211788         -17.532878         -20.138073   \n",
       "3         -17.605011         -18.775676         -17.242858         -19.339953   \n",
       "4         -17.580932         -18.765569         -17.208670         -19.331068   \n",
       "5         -17.576925         -18.765124         -17.210949         -19.339572   \n",
       "6         -17.666183         -18.853179         -17.410919         -19.057379   \n",
       "7         -17.657125         -18.864600         -17.384420         -19.057938   \n",
       "8         -17.656131         -18.865282         -17.390087         -19.063721   \n",
       "\n",
       "   mean_test_score  std_test_score  rank_test_score  \n",
       "0       -18.818463        0.940291                9  \n",
       "1       -18.769054        0.962521                8  \n",
       "2       -18.760305        0.962159                7  \n",
       "3       -18.323147        0.778424                6  \n",
       "4       -18.312467        0.791023                3  \n",
       "5       -18.309404        0.791342                1  \n",
       "6       -18.317602        0.657340                5  \n",
       "7       -18.310899        0.667617                2  \n",
       "8       -18.314929        0.668411                4  "
      ]
     },
     "execution_count": 99,
     "metadata": {},
     "output_type": "execute_result"
    }
   ],
   "source": [
    "rf_result=pd.DataFrame(rf_main.cv_results_)\n",
    "rf_result"
   ]
  },
  {
   "cell_type": "code",
   "execution_count": 100,
   "metadata": {},
   "outputs": [
    {
     "data": {
      "text/plain": [
       "param_n_estimators\n",
       "50     -18.486404\n",
       "500    -18.464140\n",
       "1000   -18.461546\n",
       "Name: mean_test_score, dtype: float64"
      ]
     },
     "execution_count": 100,
     "metadata": {},
     "output_type": "execute_result"
    }
   ],
   "source": [
    "est_score = rf_result.groupby('param_n_estimators')['mean_test_score'].mean()\n",
    "est_score"
   ]
  },
  {
   "cell_type": "code",
   "execution_count": 101,
   "metadata": {},
   "outputs": [
    {
     "data": {
      "text/plain": [
       "[Text(0.5, 0, 'n_estimators'),\n",
       " Text(0, 0.5, 'Mean CV Test Score'),\n",
       " Text(0.5, 1.0, 'n_estimators vs. Score (best_n_estimator = 500)')]"
      ]
     },
     "execution_count": 101,
     "metadata": {},
     "output_type": "execute_result"
    },
    {
     "data": {
      "image/png": "[encoded data removed]",
      "text/plain": [
       "<Figure size 1800x1200 with 1 Axes>"
      ]
     },
     "metadata": {},
     "output_type": "display_data"
    }
   ],
   "source": [
    "fig=plt.figure(figsize=(18, 12))\n",
    "\n",
    "axes=fig.add_subplot(2, 3, 1)\n",
    "axes.plot(est_score.index, est_score.values, marker='.')\n",
    "axes.set(xlabel='n_estimators', ylabel='Mean CV Test Score', title='n_estimators vs. Score (best_n_estimator = 500)')\n"
   ]
  },
  {
   "cell_type": "code",
   "execution_count": 102,
   "metadata": {},
   "outputs": [
    {
     "data": {
      "image/png": "[encoded data removed]",
      "text/plain": [
       "<Figure size 1800x800 with 1 Axes>"
      ]
     },
     "metadata": {},
     "output_type": "display_data"
    }
   ],
   "source": [
    "fig = plt.figure(figsize=(18, 8))\n",
    "axes = fig.add_subplot(1, 1, 1)\n",
    "axes.plot(rf_main.best_estimator_.feature_importances_, marker='.', markersize=15)\n",
    "plt.xticks(range(len(rf_main.best_estimator_.feature_importances_)), X_train.columns,rotation=90)\n",
    "axes.set(ylabel='Feature Importance', title='Feature Importance for Random Forest Regression')\n",
    "\n",
    "plt.show()\n"
   ]
  },
  {
   "cell_type": "code",
   "execution_count": null,
   "metadata": {},
   "outputs": [],
   "source": [
    "\n",
    "param_distributions = {'n_estimators': [50,100,500,1000], 'learning_rate':[0.01, 0.05, 0.1],'max_features':['auto'], 'min_samples_leaf':[1, 3, 7, 10], 'min_samples_split':[2,5,10]}\n",
    "grad_boost = RandomizedSearchCV(GradientBoostingRegressor(random_state=42), param_distributions, verbose=2, n_iter = 100,cv=5, scoring=rmse_cv)\n",
    "grad_boost.fit(X_train, y_train)\n"
   ]
  },
  {
   "cell_type": "code",
   "execution_count": 1,
   "metadata": {},
   "outputs": [
    {
     "ename": "NameError",
     "evalue": "name 'grad_boost' is not defined",
     "output_type": "error",
     "traceback": [
      "\u001b[1;31m---------------------------------------------------------------------------\u001b[0m",
      "\u001b[1;31mNameError\u001b[0m                                 Traceback (most recent call last)",
      "Cell \u001b[1;32mIn[1], line 1\u001b[0m\n\u001b[1;32m----> 1\u001b[0m \u001b[39mprint\u001b[39m(\u001b[39m'\u001b[39m\u001b[39mBest parameters for Gradient Boost Model: \u001b[39m\u001b[39m{}\u001b[39;00m\u001b[39m'\u001b[39m\u001b[39m.\u001b[39mformat(grad_boost\u001b[39m.\u001b[39mbest_params_))\n",
      "\u001b[1;31mNameError\u001b[0m: name 'grad_boost' is not defined"
     ]
    }
   ],
   "source": [
    "print('Best parameters for Gradient Boost Model: {}'.format(grad_boost.best_params_))"
   ]
  },
  {
   "cell_type": "code",
   "execution_count": null,
   "metadata": {},
   "outputs": [],
   "source": [
    "# Following code uses the best parameters generated above to fit the model\n",
    "\n",
    "from sklearn.ensemble import GradientBoostingRegressor\n",
    "\n",
    "param_distributions = {'n_estimators': [500], 'learning_rate':[0.01],'max_features':['sqrt'], 'min_samples_leaf':[10], 'max_depth':[60], 'min_samples_split':[2]}\n",
    "grad_boost = RandomizedSearchCV(GradientBoostingRegressor(random_state=42), param_distributions, n_iter = 100,cv=5, scoring=rmse_cv)\n",
    "%time grad_boost.fit(X_train, y_train)"
   ]
  },
  {
   "cell_type": "code",
   "execution_count": null,
   "metadata": {},
   "outputs": [],
   "source": [
    "print('Best parameters for Gradient Boost Model: {}'.format(grad_boost.best_params_))"
   ]
  },
  {
   "cell_type": "code",
   "execution_count": null,
   "metadata": {},
   "outputs": [],
   "source": [
    "param_summary = [grad_boost.best_params_,'']\n",
    "\n",
    "%time rmse_summary, y_predict_summary = model_fit(grad_boost, X_train, y_train, X_test, y_test)\n",
    "ypred_test['GB'] = y_predict_summary[1]\n",
    "ypred_train['GB'] = y_predict_summary[0]\n",
    "\n",
    "algo_score.loc['Gradient Boost'] = rmse_summary+param_summary"
   ]
  },
  {
   "cell_type": "code",
   "execution_count": null,
   "metadata": {},
   "outputs": [],
   "source": [
    "algo_score.loc['Gradient Boost', 'Training+Test Time(sec)'] = 89.796\n",
    "cv_time.append(89.796)\n",
    "algo_score"
   ]
  },
  {
   "cell_type": "code",
   "execution_count": null,
   "metadata": {},
   "outputs": [],
   "source": [
    "gb_result=pd.DataFrame(grad_boost.cv_results_)\n",
    "gb_result"
   ]
  },
  {
   "cell_type": "code",
   "execution_count": null,
   "metadata": {},
   "outputs": [],
   "source": [
    "gb_score = gb_result.groupby('param_n_estimators')['mean_test_score'].mean()\n",
    "gb_score"
   ]
  },
  {
   "cell_type": "code",
   "execution_count": null,
   "metadata": {},
   "outputs": [],
   "source": [
    "fig=plt.figure(figsize=(18, 12))\n",
    "\n",
    "axes=fig.add_subplot(2, 3, 1)\n",
    "axes.plot(gb_score.index, gb_score.values, marker='.')\n",
    "axes.set(xlabel='n_estimators', ylabel='Mean CV Test Score', title='n_estimators vs. Score (best_n_estimator = 500)')\n"
   ]
  },
  {
   "cell_type": "code",
   "execution_count": null,
   "metadata": {},
   "outputs": [],
   "source": [
    "fig = plt.figure(figsize=(18, 8))\n",
    "axes = fig.add_subplot(1, 1, 1)\n",
    "axes.plot(grad_boost.best_estimator_.feature_importances_, marker='.', markersize=15)\n",
    "plt.xticks(range(len(grad_boost.best_estimator_.feature_importances_)), X_train.columns,rotation=90)\n",
    "axes.set(ylabel='Feature Importance', title='Feature Importance for Gradient Boost Regressor')\n",
    "# axes.set(xlim=[-1, len(X_train.columns)], ylim=[0, 1])\n",
    "\n",
    "plt.show()\n"
   ]
  },
  {
   "cell_type": "code",
   "execution_count": null,
   "metadata": {},
   "outputs": [],
   "source": [
    "fig=plt.figure(figsize=(10, 6))\n",
    "axes=fig.add_subplot(1, 1, 1)\n",
    "bar_width = 0.3\n",
    "idx = np.array(range(algo_score.shape[0]))\n",
    "labels = algo_score.index\n",
    "plt.bar(data=algo_score, height='Train RMSE', x=idx, color='g', width=bar_width, label='Training Data')\n",
    "plt.bar(data=algo_score, height='Test RMSE', x=idx+bar_width, color='b', width=bar_width, label='Test Data')\n",
    "plt.xticks(idx, labels, rotation=90)\n",
    "plt.xlabel('Modelling Algorithms')\n",
    "plt.ylabel('RMSE')\n",
    "plt.title('Average RMSE for different Modelling Algorithms')\n",
    "plt.legend()\n",
    "plt.show()"
   ]
  },
  {
   "cell_type": "code",
   "execution_count": null,
   "metadata": {},
   "outputs": [],
   "source": [
    "fig=plt.figure(figsize=(10, 6))\n",
    "axes=fig.add_subplot(1, 1, 1)\n",
    "bar_width = 0.6\n",
    "idx = np.array(range(algo_score.shape[0]))\n",
    "labels = algo_score.index\n",
    "plt.bar(data=algo_score, height='Training+Test Time(sec)', x=idx, width=bar_width)\n",
    "plt.xticks(idx, labels, rotation=90)\n",
    "plt.xlabel('Modelling Algorithms')\n",
    "plt.ylabel('Training+Test Time(sec)')\n",
    "plt.title('Training Time + Test Time for different Models (sec)')\n",
    "#axes.set_yscale('log')\n",
    "plt.show()"
   ]
  }
 ],
 "metadata": {
  "kernelspec": {
   "display_name": "env1",
   "language": "python",
   "name": "python3"
  },
  "language_info": {
   "codemirror_mode": {
    "name": "ipython",
    "version": 3
   },
   "file_extension": ".py",
   "mimetype": "text/x-python",
   "name": "python",
   "nbconvert_exporter": "python",
   "pygments_lexer": "ipython3",
   "version": "3.10.9"
  },
  "orig_nbformat": 4
 },
 "nbformat": 4,
 "nbformat_minor": 2
}
