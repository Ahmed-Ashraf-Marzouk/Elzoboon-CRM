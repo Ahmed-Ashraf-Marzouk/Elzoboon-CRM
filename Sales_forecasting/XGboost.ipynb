{
 "cells": [
  {
   "cell_type": "code",
   "execution_count": 7,
   "metadata": {},
   "outputs": [],
   "source": [
    "                                            #---- Data warehousing ----#\n",
    "#                                                 ----------------\n",
    "#-----\n",
    "import pandas as pd #reading and writing csv files  \n",
    "import numpy as np # dealing with arrays \n",
    "import seaborn as sns # for advanced graphs \n",
    "import matplotlib.pyplot as plt # for traditional graphs \n",
    "from scipy import stats\n",
    "from sklearn.metrics import mean_squared_error\n",
    "from sklearn.model_selection import train_test_split\n",
    "from sklearn.metrics import make_scorer\n",
    "from sklearn.ensemble import GradientBoostingRegressor\n",
    "from sklearn.model_selection import RandomizedSearchCV\n",
    "import xgboost as xgb\n",
    "from scipy.stats import uniform, randint\n",
    "\n",
    "import warnings\n",
    "warnings.filterwarnings('ignore')\n",
    "                                            #---- Machine learning ----#\n",
    "#                                                 ----------------\n",
    "\n",
    "# draw matplotlib graphs inline \n",
    "%matplotlib inline\n",
    "sns.set_style(\"whitegrid\") # configuration for seaborn library"
   ]
  },
  {
   "cell_type": "code",
   "execution_count": 2,
   "metadata": {},
   "outputs": [],
   "source": [
    "orders = pd.read_excel('../ex_retail2_forecasting_data.xlsx', index_col=0)"
   ]
  },
  {
   "cell_type": "code",
   "execution_count": 3,
   "metadata": {},
   "outputs": [
    {
     "data": {
      "text/html": [
       "<div>\n",
       "<style scoped>\n",
       "    .dataframe tbody tr th:only-of-type {\n",
       "        vertical-align: middle;\n",
       "    }\n",
       "\n",
       "    .dataframe tbody tr th {\n",
       "        vertical-align: top;\n",
       "    }\n",
       "\n",
       "    .dataframe thead th {\n",
       "        text-align: right;\n",
       "    }\n",
       "</style>\n",
       "<table border=\"1\" class=\"dataframe\">\n",
       "  <thead>\n",
       "    <tr style=\"text-align: right;\">\n",
       "      <th></th>\n",
       "      <th>InvoiceDate</th>\n",
       "      <th>StockCode</th>\n",
       "      <th>Quantity</th>\n",
       "      <th>TotalPrice</th>\n",
       "      <th>Week</th>\n",
       "      <th>Weekday</th>\n",
       "      <th>Day</th>\n",
       "      <th>UnitPrice</th>\n",
       "    </tr>\n",
       "  </thead>\n",
       "  <tbody>\n",
       "    <tr>\n",
       "      <th>0</th>\n",
       "      <td>2009-12-01</td>\n",
       "      <td>10002</td>\n",
       "      <td>12</td>\n",
       "      <td>10.20</td>\n",
       "      <td>49</td>\n",
       "      <td>1</td>\n",
       "      <td>1</td>\n",
       "      <td>0.850000</td>\n",
       "    </tr>\n",
       "    <tr>\n",
       "      <th>1</th>\n",
       "      <td>2009-12-01</td>\n",
       "      <td>10120</td>\n",
       "      <td>60</td>\n",
       "      <td>12.60</td>\n",
       "      <td>49</td>\n",
       "      <td>1</td>\n",
       "      <td>1</td>\n",
       "      <td>0.210000</td>\n",
       "    </tr>\n",
       "    <tr>\n",
       "      <th>2</th>\n",
       "      <td>2009-12-01</td>\n",
       "      <td>10125</td>\n",
       "      <td>5</td>\n",
       "      <td>5.10</td>\n",
       "      <td>49</td>\n",
       "      <td>1</td>\n",
       "      <td>1</td>\n",
       "      <td>1.020000</td>\n",
       "    </tr>\n",
       "    <tr>\n",
       "      <th>3</th>\n",
       "      <td>2009-12-01</td>\n",
       "      <td>10133</td>\n",
       "      <td>23</td>\n",
       "      <td>26.35</td>\n",
       "      <td>49</td>\n",
       "      <td>1</td>\n",
       "      <td>1</td>\n",
       "      <td>1.145652</td>\n",
       "    </tr>\n",
       "    <tr>\n",
       "      <th>4</th>\n",
       "      <td>2009-12-01</td>\n",
       "      <td>11001</td>\n",
       "      <td>2</td>\n",
       "      <td>6.86</td>\n",
       "      <td>49</td>\n",
       "      <td>1</td>\n",
       "      <td>1</td>\n",
       "      <td>3.430000</td>\n",
       "    </tr>\n",
       "  </tbody>\n",
       "</table>\n",
       "</div>"
      ],
      "text/plain": [
       "  InvoiceDate StockCode  Quantity  TotalPrice  Week  Weekday  Day  UnitPrice\n",
       "0  2009-12-01     10002        12       10.20    49        1    1   0.850000\n",
       "1  2009-12-01     10120        60       12.60    49        1    1   0.210000\n",
       "2  2009-12-01     10125         5        5.10    49        1    1   1.020000\n",
       "3  2009-12-01     10133        23       26.35    49        1    1   1.145652\n",
       "4  2009-12-01     11001         2        6.86    49        1    1   3.430000"
      ]
     },
     "execution_count": 3,
     "metadata": {},
     "output_type": "execute_result"
    }
   ],
   "source": [
    "orders.head()"
   ]
  },
  {
   "cell_type": "code",
   "execution_count": 4,
   "metadata": {},
   "outputs": [],
   "source": [
    "# Define the feature and target variables\n",
    "# Split the dataset into train and test dataset\n",
    "\n",
    "df_train = orders[orders.InvoiceDate<'2011-11-01']\n",
    "df_test = orders[orders.InvoiceDate>='2011-11-01']\n",
    "\n",
    "# Based on date and unitPrice the qunaitity will be prediceted\n",
    "X_train = df_train.drop(labels=['InvoiceDate','StockCode','Quantity','TotalPrice'],axis=1)\n",
    "y_train = df_train.Quantity\n",
    "\n",
    "X_test = df_test.drop(labels=['InvoiceDate','StockCode','Quantity','TotalPrice'],axis=1)\n",
    "y_test = df_test.Quantity"
   ]
  },
  {
   "cell_type": "code",
   "execution_count": 5,
   "metadata": {},
   "outputs": [],
   "source": [
    "def rmse(y_actual, y_pred):\n",
    "    rmse = np.sqrt(mean_squared_error(y_actual, y_pred))\n",
    "    return rmse\n",
    "rmse_cv = make_scorer(rmse, greater_is_better=False)"
   ]
  },
  {
   "cell_type": "code",
   "execution_count": 6,
   "metadata": {},
   "outputs": [],
   "source": [
    "# Function to predict on train and test data and return the required metrics\n",
    "def model_fit(model, X_train, y_train, X_test, y_test):\n",
    "    ''' \n",
    "    Input:\n",
    "        model = model to be applied\n",
    "        X_train y_train = Training data\n",
    "        X_test, y_test = Testing data\n",
    "    Output:\n",
    "        rmse for training and test data \n",
    "        predicted y for training and test data\n",
    "    \n",
    "    '''\n",
    "#     model.fit(X_train, y_train)\n",
    "    y_train_predict = model.predict(X_train)\n",
    "    y_test_predict = model.predict(X_test)\n",
    "    \n",
    "    rmse_train = rmse(y_train, y_train_predict)\n",
    "    rmse_test = rmse(y_test, y_test_predict)\n",
    "    \n",
    "    rmse_all = [rmse_train, rmse_test]\n",
    "    y_pred_all = [y_train_predict, y_test_predict]\n",
    "    \n",
    "    return(rmse_all, y_pred_all)"
   ]
  },
  {
   "cell_type": "code",
   "execution_count": 8,
   "metadata": {},
   "outputs": [],
   "source": [
    "\n",
    "xgb_model = xgb.XGBRegressor()\n",
    "\n",
    "params = {\n",
    "    \"colsample_bytree\": uniform(0.7, 0.3),\n",
    "    \"gamma\": uniform(0, 0.5),\n",
    "    \"learning_rate\": uniform(0.03, 0.3), # default 0.1 \n",
    "    \"max_depth\": randint(2, 6), # default 3\n",
    "    \"n_estimators\": randint(100, 150), # default 100\n",
    "    \"subsample\": uniform(0.6, 0.4)\n",
    "}"
   ]
  },
  {
   "cell_type": "code",
   "execution_count": null,
   "metadata": {},
   "outputs": [],
   "source": [
    "xgb_model = RandomizedSearchCV(xgb_model, param_distributions=params, random_state=42, n_iter=200, cv=3, verbose=1, n_jobs=1, return_train_score=True)\n",
    "\n",
    "xgb_model.fit(X_train, y_train)\n"
   ]
  }
 ],
 "metadata": {
  "kernelspec": {
   "display_name": "env1",
   "language": "python",
   "name": "python3"
  },
  "language_info": {
   "codemirror_mode": {
    "name": "ipython",
    "version": 3
   },
   "file_extension": ".py",
   "mimetype": "text/x-python",
   "name": "python",
   "nbconvert_exporter": "python",
   "pygments_lexer": "ipython3",
   "version": "3.10.9"
  },
  "orig_nbformat": 4
 },
 "nbformat": 4,
 "nbformat_minor": 2
}
